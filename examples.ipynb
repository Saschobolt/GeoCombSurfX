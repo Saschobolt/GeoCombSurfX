{
 "cells": [
  {
   "attachments": {},
   "cell_type": "markdown",
   "metadata": {},
   "source": [
    "# Interlocking analysis for Assemblies of possibly non convex Polyhedra"
   ]
  },
  {
   "cell_type": "code",
   "execution_count": 1,
   "metadata": {},
   "outputs": [
    {
     "data": {
      "application/vnd.webio.node+json": {
       "children": [],
       "instanceArgs": {
        "namespace": "html",
        "tag": "div"
       },
       "nodeType": "DOM",
       "props": {},
       "type": "node"
      },
      "text/html": [
       "<div style=\"padding: 1em; background-color: #f8d6da; border: 1px solid #f5c6cb; font-weight: bold;\">\n",
       "<p>The WebIO Jupyter extension was not detected. See the\n",
       "<a href=\"https://juliagizmos.github.io/WebIO.jl/latest/providers/ijulia/\" target=\"_blank\">\n",
       "    WebIO Jupyter integration documentation\n",
       "</a>\n",
       "for more information.\n",
       "</div>\n"
      ],
      "text/plain": [
       "WebIO._IJuliaInit()"
      ]
     },
     "metadata": {},
     "output_type": "display_data"
    },
    {
     "data": {
      "text/plain": [
       "titest"
      ]
     },
     "execution_count": 1,
     "metadata": {},
     "output_type": "execute_result"
    }
   ],
   "source": [
    "include(\"src/Polyhedron.jl\")\n",
    "include(\"src/examples.jl\")\n",
    "include(\"src/decomposition.jl\")\n",
    "include(\"src/plotting.jl\")\n",
    "include(\"src/merging.jl\")\n",
    "include(\"src/polygonal_geometry.jl\")\n",
    "include(\"src/interlocking.jl\")"
   ]
  },
  {
   "cell_type": "markdown",
   "metadata": {},
   "source": [
    "## Wissenschaftsnacht"
   ]
  },
  {
   "cell_type": "markdown",
   "metadata": {},
   "source": [
    "Fachwerke sind uns allen aus unserem Alltag bekannt. Ob in Form von Strommasten, oder als Brücken - in den meisten Fällen ist es wichtig, dass solche Konstruktionen strukturell integer sind. Das mathematische Gebiet der Starrheitstheorie befasst sich mit genau dieser Fragestellung: Gegeben eine Konstruktion aus Streben, welche durch Gelenke miteinander verbunden sind, ist diese Konstruktion stabil, oder besitzt sie Freiheitsgrade? \n",
    "Diese Frage ist im Allgemeinen sehr schwierig zu entscheiden, da eine rigorose Antwort das Lösen von quadratischen Gleichungssystemen erfordert.Dies stellt eine Aufgabe sehr großer Komplexität dar. Weiter zeigen einige Fachwerke überraschende Eigenschaften. Selbst Polyeder mit dreieckigen Seitenflächen, welche wir intuitiv als sehr stabil einschätzen würden, können Freiheitsgrade aufweisen. Das erste Beispiel für ein solches flexibles Polyeder ist das sogenannte Bricard-Oktaeder, mit dessen Konstruktion wir uns im folgenden beschäftigen wollen."
   ]
  },
  {
   "cell_type": "code",
   "execution_count": 2,
   "metadata": {},
   "outputs": [
    {
     "data": {
      "application/vnd.plotly.v1+json": {
       "config": {
        "editable": false,
        "responsive": true,
        "scrollZoom": true,
        "showLink": false,
        "staticPlot": false
       },
       "data": [
        {
         "marker": {
          "color": "#80FF80",
          "size": 4
         },
         "mode": "markers",
         "scene": "scene",
         "text": [
          "1",
          "2",
          "3",
          "4",
          "5",
          "6"
         ],
         "textposition": "bottom center",
         "type": "scatter3d",
         "x": [
          1,
          1,
          2,
          1,
          0,
          1
         ],
         "y": [
          0,
          1,
          1,
          1,
          1,
          2
         ],
         "z": [
          1,
          0,
          1,
          2,
          1,
          1
         ]
        },
        {
         "line": {
          "color": "black"
         },
         "mode": "lines",
         "scene": "scene",
         "type": "scatter3d",
         "x": [
          0,
          1
         ],
         "y": [
          1,
          2
         ],
         "z": [
          1,
          1
         ]
        },
        {
         "line": {
          "color": "black"
         },
         "mode": "lines",
         "scene": "scene",
         "type": "scatter3d",
         "x": [
          1,
          1
         ],
         "y": [
          1,
          2
         ],
         "z": [
          2,
          1
         ]
        },
        {
         "line": {
          "color": "black"
         },
         "mode": "lines",
         "scene": "scene",
         "type": "scatter3d",
         "x": [
          1,
          0
         ],
         "y": [
          1,
          1
         ],
         "z": [
          2,
          1
         ]
        },
        {
         "line": {
          "color": "black"
         },
         "mode": "lines",
         "scene": "scene",
         "type": "scatter3d",
         "x": [
          2,
          1
         ],
         "y": [
          1,
          2
         ],
         "z": [
          1,
          1
         ]
        },
        {
         "line": {
          "color": "black"
         },
         "mode": "lines",
         "scene": "scene",
         "type": "scatter3d",
         "x": [
          2,
          1
         ],
         "y": [
          1,
          1
         ],
         "z": [
          1,
          2
         ]
        },
        {
         "line": {
          "color": "black"
         },
         "mode": "lines",
         "scene": "scene",
         "type": "scatter3d",
         "x": [
          1,
          1
         ],
         "y": [
          1,
          2
         ],
         "z": [
          0,
          1
         ]
        },
        {
         "line": {
          "color": "black"
         },
         "mode": "lines",
         "scene": "scene",
         "type": "scatter3d",
         "x": [
          1,
          0
         ],
         "y": [
          1,
          1
         ],
         "z": [
          0,
          1
         ]
        },
        {
         "line": {
          "color": "black"
         },
         "mode": "lines",
         "scene": "scene",
         "type": "scatter3d",
         "x": [
          1,
          2
         ],
         "y": [
          1,
          1
         ],
         "z": [
          0,
          1
         ]
        },
        {
         "line": {
          "color": "black"
         },
         "mode": "lines",
         "scene": "scene",
         "type": "scatter3d",
         "x": [
          1,
          0
         ],
         "y": [
          0,
          1
         ],
         "z": [
          1,
          1
         ]
        },
        {
         "line": {
          "color": "black"
         },
         "mode": "lines",
         "scene": "scene",
         "type": "scatter3d",
         "x": [
          1,
          1
         ],
         "y": [
          0,
          1
         ],
         "z": [
          1,
          2
         ]
        },
        {
         "line": {
          "color": "black"
         },
         "mode": "lines",
         "scene": "scene",
         "type": "scatter3d",
         "x": [
          1,
          2
         ],
         "y": [
          0,
          1
         ],
         "z": [
          1,
          1
         ]
        },
        {
         "line": {
          "color": "black"
         },
         "mode": "lines",
         "scene": "scene",
         "type": "scatter3d",
         "x": [
          1,
          1
         ],
         "y": [
          0,
          1
         ],
         "z": [
          1,
          0
         ]
        },
        {
         "facecolor": [
          "#80FF80",
          "#80FF80",
          "#80FF80",
          "#80FF80",
          "#80FF80",
          "#80FF80",
          "#80FF80",
          "#80FF80"
         ],
         "i": [
          0,
          1,
          0,
          1,
          0,
          2,
          0,
          3
         ],
         "j": [
          1,
          4,
          1,
          2,
          3,
          3,
          2,
          4
         ],
         "k": [
          2,
          5,
          4,
          5,
          4,
          5,
          3,
          5
         ],
         "opacity": 0.6,
         "scene": "scene",
         "type": "mesh3d",
         "x": [
          1,
          1,
          2,
          1,
          0,
          1
         ],
         "y": [
          0,
          1,
          1,
          1,
          1,
          2
         ],
         "z": [
          1,
          0,
          1,
          2,
          1,
          1
         ]
        },
        {
         "line": {
          "color": "red",
          "dash": "dot",
          "width": 10
         },
         "mode": "lines",
         "scene": "scene",
         "type": "scatter3d",
         "x": [
          1,
          2
         ],
         "y": [
          0,
          1
         ],
         "z": [
          1,
          1
         ]
        },
        {
         "line": {
          "color": "red",
          "dash": "dot",
          "width": 10
         },
         "mode": "lines",
         "scene": "scene",
         "type": "scatter3d",
         "x": [
          2,
          1
         ],
         "y": [
          1,
          2
         ],
         "z": [
          1,
          1
         ]
        },
        {
         "line": {
          "color": "red",
          "dash": "dot",
          "width": 10
         },
         "mode": "lines",
         "scene": "scene",
         "type": "scatter3d",
         "x": [
          1,
          0
         ],
         "y": [
          2,
          1
         ],
         "z": [
          1,
          1
         ]
        },
        {
         "line": {
          "color": "red",
          "dash": "dot",
          "width": 10
         },
         "mode": "lines",
         "scene": "scene",
         "type": "scatter3d",
         "x": [
          0,
          1
         ],
         "y": [
          1,
          0
         ],
         "z": [
          1,
          1
         ]
        }
       ],
       "frames": [],
       "layout": {
        "annotations": [],
        "margin": {
         "b": 50,
         "l": 50,
         "r": 50,
         "t": 60
        },
        "scene": {
         "aspectmode": "data",
         "autosize": true,
         "camera": {
          "eye": {
           "x": 0.6060915267313264,
           "y": 1.616244071283537,
           "z": 1.0101525445522106
          }
         },
         "domain": {
          "x": [
           0,
           1
          ],
          "y": [
           0,
           1
          ]
         },
         "xaxis": {
          "showaxeslabels": false,
          "showbackground": false,
          "showticklabels": false,
          "title": {
           "text": ""
          }
         },
         "yaxis": {
          "showaxeslabels": false,
          "showbackground": false,
          "showticklabels": false,
          "title": {
           "text": ""
          }
         },
         "zaxis": {
          "showaxeslabels": false,
          "showbackground": false,
          "showticklabels": false,
          "title": {
           "text": ""
          }
         }
        },
        "showlegend": false,
        "template": {
         "data": {
          "bar": [
           {
            "error_x": {
             "color": "#2a3f5f"
            },
            "error_y": {
             "color": "#2a3f5f"
            },
            "marker": {
             "line": {
              "color": "#E5ECF6",
              "width": 0.5
             }
            },
            "type": "bar"
           }
          ],
          "barpolar": [
           {
            "marker": {
             "line": {
              "color": "#E5ECF6",
              "width": 0.5
             }
            },
            "type": "barpolar"
           }
          ],
          "carpet": [
           {
            "aaxis": {
             "endlinecolor": "#2a3f5f",
             "gridcolor": "white",
             "linecolor": "white",
             "minorgridcolor": "white",
             "startlinecolor": "#2a3f5f"
            },
            "baxis": {
             "endlinecolor": "#2a3f5f",
             "gridcolor": "white",
             "linecolor": "white",
             "minorgridcolor": "white",
             "startlinecolor": "#2a3f5f"
            },
            "type": "carpet"
           }
          ],
          "choropleth": [
           {
            "colorbar": {
             "outlinewidth": 0,
             "ticks": ""
            },
            "type": "choropleth"
           }
          ],
          "contour": [
           {
            "colorbar": {
             "outlinewidth": 0,
             "ticks": ""
            },
            "colorscale": [
             [
              0,
              "#0d0887"
             ],
             [
              0.1111111111111111,
              "#46039f"
             ],
             [
              0.2222222222222222,
              "#7201a8"
             ],
             [
              0.3333333333333333,
              "#9c179e"
             ],
             [
              0.4444444444444444,
              "#bd3786"
             ],
             [
              0.5555555555555556,
              "#d8576b"
             ],
             [
              0.6666666666666666,
              "#ed7953"
             ],
             [
              0.7777777777777778,
              "#fb9f3a"
             ],
             [
              0.8888888888888888,
              "#fdca26"
             ],
             [
              1,
              "#f0f921"
             ]
            ],
            "type": "contour"
           }
          ],
          "contourcarpet": [
           {
            "colorbar": {
             "outlinewidth": 0,
             "ticks": ""
            },
            "type": "contourcarpet"
           }
          ],
          "heatmap": [
           {
            "colorbar": {
             "outlinewidth": 0,
             "ticks": ""
            },
            "colorscale": [
             [
              0,
              "#0d0887"
             ],
             [
              0.1111111111111111,
              "#46039f"
             ],
             [
              0.2222222222222222,
              "#7201a8"
             ],
             [
              0.3333333333333333,
              "#9c179e"
             ],
             [
              0.4444444444444444,
              "#bd3786"
             ],
             [
              0.5555555555555556,
              "#d8576b"
             ],
             [
              0.6666666666666666,
              "#ed7953"
             ],
             [
              0.7777777777777778,
              "#fb9f3a"
             ],
             [
              0.8888888888888888,
              "#fdca26"
             ],
             [
              1,
              "#f0f921"
             ]
            ],
            "type": "heatmap"
           }
          ],
          "heatmapgl": [
           {
            "colorbar": {
             "outlinewidth": 0,
             "ticks": ""
            },
            "colorscale": [
             [
              0,
              "#0d0887"
             ],
             [
              0.1111111111111111,
              "#46039f"
             ],
             [
              0.2222222222222222,
              "#7201a8"
             ],
             [
              0.3333333333333333,
              "#9c179e"
             ],
             [
              0.4444444444444444,
              "#bd3786"
             ],
             [
              0.5555555555555556,
              "#d8576b"
             ],
             [
              0.6666666666666666,
              "#ed7953"
             ],
             [
              0.7777777777777778,
              "#fb9f3a"
             ],
             [
              0.8888888888888888,
              "#fdca26"
             ],
             [
              1,
              "#f0f921"
             ]
            ],
            "type": "heatmapgl"
           }
          ],
          "histogram": [
           {
            "marker": {
             "colorbar": {
              "outlinewidth": 0,
              "ticks": ""
             }
            },
            "type": "histogram"
           }
          ],
          "histogram2d": [
           {
            "colorbar": {
             "outlinewidth": 0,
             "ticks": ""
            },
            "colorscale": [
             [
              0,
              "#0d0887"
             ],
             [
              0.1111111111111111,
              "#46039f"
             ],
             [
              0.2222222222222222,
              "#7201a8"
             ],
             [
              0.3333333333333333,
              "#9c179e"
             ],
             [
              0.4444444444444444,
              "#bd3786"
             ],
             [
              0.5555555555555556,
              "#d8576b"
             ],
             [
              0.6666666666666666,
              "#ed7953"
             ],
             [
              0.7777777777777778,
              "#fb9f3a"
             ],
             [
              0.8888888888888888,
              "#fdca26"
             ],
             [
              1,
              "#f0f921"
             ]
            ],
            "type": "histogram2d"
           }
          ],
          "histogram2dcontour": [
           {
            "colorbar": {
             "outlinewidth": 0,
             "ticks": ""
            },
            "colorscale": [
             [
              0,
              "#0d0887"
             ],
             [
              0.1111111111111111,
              "#46039f"
             ],
             [
              0.2222222222222222,
              "#7201a8"
             ],
             [
              0.3333333333333333,
              "#9c179e"
             ],
             [
              0.4444444444444444,
              "#bd3786"
             ],
             [
              0.5555555555555556,
              "#d8576b"
             ],
             [
              0.6666666666666666,
              "#ed7953"
             ],
             [
              0.7777777777777778,
              "#fb9f3a"
             ],
             [
              0.8888888888888888,
              "#fdca26"
             ],
             [
              1,
              "#f0f921"
             ]
            ],
            "type": "histogram2dcontour"
           }
          ],
          "mesh3d": [
           {
            "colorbar": {
             "outlinewidth": 0,
             "ticks": ""
            },
            "type": "mesh3d"
           }
          ],
          "parcoords": [
           {
            "line": {
             "colorbar": {
              "outlinewidth": 0,
              "ticks": ""
             }
            },
            "type": "parcoords"
           }
          ],
          "pie": [
           {
            "automargin": true,
            "type": "pie"
           }
          ],
          "scatter": [
           {
            "marker": {
             "colorbar": {
              "outlinewidth": 0,
              "ticks": ""
             }
            },
            "type": "scatter"
           }
          ],
          "scatter3d": [
           {
            "line": {
             "colorbar": {
              "outlinewidth": 0,
              "ticks": ""
             }
            },
            "marker": {
             "colorbar": {
              "outlinewidth": 0,
              "ticks": ""
             }
            },
            "type": "scatter3d"
           }
          ],
          "scattercarpet": [
           {
            "marker": {
             "colorbar": {
              "outlinewidth": 0,
              "ticks": ""
             }
            },
            "type": "scattercarpet"
           }
          ],
          "scattergeo": [
           {
            "marker": {
             "colorbar": {
              "outlinewidth": 0,
              "ticks": ""
             }
            },
            "type": "scattergeo"
           }
          ],
          "scattergl": [
           {
            "marker": {
             "colorbar": {
              "outlinewidth": 0,
              "ticks": ""
             }
            },
            "type": "scattergl"
           }
          ],
          "scattermapbox": [
           {
            "marker": {
             "colorbar": {
              "outlinewidth": 0,
              "ticks": ""
             }
            },
            "type": "scattermapbox"
           }
          ],
          "scatterpolar": [
           {
            "marker": {
             "colorbar": {
              "outlinewidth": 0,
              "ticks": ""
             }
            },
            "type": "scatterpolar"
           }
          ],
          "scatterpolargl": [
           {
            "marker": {
             "colorbar": {
              "outlinewidth": 0,
              "ticks": ""
             }
            },
            "type": "scatterpolargl"
           }
          ],
          "scatterternary": [
           {
            "marker": {
             "colorbar": {
              "outlinewidth": 0,
              "ticks": ""
             }
            },
            "type": "scatterternary"
           }
          ],
          "surface": [
           {
            "colorbar": {
             "outlinewidth": 0,
             "ticks": ""
            },
            "colorscale": [
             [
              0,
              "#0d0887"
             ],
             [
              0.1111111111111111,
              "#46039f"
             ],
             [
              0.2222222222222222,
              "#7201a8"
             ],
             [
              0.3333333333333333,
              "#9c179e"
             ],
             [
              0.4444444444444444,
              "#bd3786"
             ],
             [
              0.5555555555555556,
              "#d8576b"
             ],
             [
              0.6666666666666666,
              "#ed7953"
             ],
             [
              0.7777777777777778,
              "#fb9f3a"
             ],
             [
              0.8888888888888888,
              "#fdca26"
             ],
             [
              1,
              "#f0f921"
             ]
            ],
            "type": "surface"
           }
          ],
          "table": [
           {
            "cells": {
             "fill": {
              "color": "#EBF0F8"
             },
             "line": {
              "color": "white"
             }
            },
            "header": {
             "fill": {
              "color": "#C8D4E3"
             },
             "line": {
              "color": "white"
             }
            },
            "type": "table"
           }
          ]
         },
         "layout": {
          "annotationdefaults": {
           "arrowcolor": "#2a3f5f",
           "arrowhead": 0,
           "arrowwidth": 1
          },
          "autotypenumbers": "strict",
          "coloraxis": {
           "colorbar": {
            "outlinewidth": 0,
            "ticks": ""
           }
          },
          "colorscale": {
           "diverging": [
            [
             0,
             "#8e0152"
            ],
            [
             0.1,
             "#c51b7d"
            ],
            [
             0.2,
             "#de77ae"
            ],
            [
             0.3,
             "#f1b6da"
            ],
            [
             0.4,
             "#fde0ef"
            ],
            [
             0.5,
             "#f7f7f7"
            ],
            [
             0.6,
             "#e6f5d0"
            ],
            [
             0.7,
             "#b8e186"
            ],
            [
             0.8,
             "#7fbc41"
            ],
            [
             0.9,
             "#4d9221"
            ],
            [
             1,
             "#276419"
            ]
           ],
           "sequential": [
            [
             0,
             "#0d0887"
            ],
            [
             0.1111111111111111,
             "#46039f"
            ],
            [
             0.2222222222222222,
             "#7201a8"
            ],
            [
             0.3333333333333333,
             "#9c179e"
            ],
            [
             0.4444444444444444,
             "#bd3786"
            ],
            [
             0.5555555555555556,
             "#d8576b"
            ],
            [
             0.6666666666666666,
             "#ed7953"
            ],
            [
             0.7777777777777778,
             "#fb9f3a"
            ],
            [
             0.8888888888888888,
             "#fdca26"
            ],
            [
             1,
             "#f0f921"
            ]
           ],
           "sequentialminus": [
            [
             0,
             "#0d0887"
            ],
            [
             0.1111111111111111,
             "#46039f"
            ],
            [
             0.2222222222222222,
             "#7201a8"
            ],
            [
             0.3333333333333333,
             "#9c179e"
            ],
            [
             0.4444444444444444,
             "#bd3786"
            ],
            [
             0.5555555555555556,
             "#d8576b"
            ],
            [
             0.6666666666666666,
             "#ed7953"
            ],
            [
             0.7777777777777778,
             "#fb9f3a"
            ],
            [
             0.8888888888888888,
             "#fdca26"
            ],
            [
             1,
             "#f0f921"
            ]
           ]
          },
          "colorway": [
           "#636efa",
           "#EF553B",
           "#00cc96",
           "#ab63fa",
           "#FFA15A",
           "#19d3f3",
           "#FF6692",
           "#B6E880",
           "#FF97FF",
           "#FECB52"
          ],
          "font": {
           "color": "#2a3f5f"
          },
          "geo": {
           "bgcolor": "white",
           "lakecolor": "white",
           "landcolor": "#E5ECF6",
           "showlakes": true,
           "showland": true,
           "subunitcolor": "white"
          },
          "hoverlabel": {
           "align": "left"
          },
          "hovermode": "closest",
          "mapbox": {
           "style": "light"
          },
          "paper_bgcolor": "white",
          "plot_bgcolor": "#E5ECF6",
          "polar": {
           "angularaxis": {
            "gridcolor": "white",
            "linecolor": "white",
            "ticks": ""
           },
           "bgcolor": "#E5ECF6",
           "radialaxis": {
            "gridcolor": "white",
            "linecolor": "white",
            "ticks": ""
           }
          },
          "scene": {
           "xaxis": {
            "backgroundcolor": "#E5ECF6",
            "gridcolor": "white",
            "gridwidth": 2,
            "linecolor": "white",
            "showbackground": true,
            "ticks": "",
            "zerolinecolor": "white"
           },
           "yaxis": {
            "backgroundcolor": "#E5ECF6",
            "gridcolor": "white",
            "gridwidth": 2,
            "linecolor": "white",
            "showbackground": true,
            "ticks": "",
            "zerolinecolor": "white"
           },
           "zaxis": {
            "backgroundcolor": "#E5ECF6",
            "gridcolor": "white",
            "gridwidth": 2,
            "linecolor": "white",
            "showbackground": true,
            "ticks": "",
            "zerolinecolor": "white"
           }
          },
          "shapedefaults": {
           "line": {
            "color": "#2a3f5f"
           }
          },
          "ternary": {
           "aaxis": {
            "gridcolor": "white",
            "linecolor": "white",
            "ticks": ""
           },
           "baxis": {
            "gridcolor": "white",
            "linecolor": "white",
            "ticks": ""
           },
           "bgcolor": "#E5ECF6",
           "caxis": {
            "gridcolor": "white",
            "linecolor": "white",
            "ticks": ""
           }
          },
          "title": {
           "x": 0.05
          },
          "xaxis": {
           "automargin": true,
           "gridcolor": "white",
           "linecolor": "white",
           "ticks": "",
           "title": {
            "standoff": 15
           },
           "zerolinecolor": "white",
           "zerolinewidth": 2
          },
          "yaxis": {
           "automargin": true,
           "gridcolor": "white",
           "linecolor": "white",
           "ticks": "",
           "title": {
            "standoff": 15
           },
           "zerolinecolor": "white",
           "zerolinewidth": 2
          }
         }
        }
       }
      },
      "text/html": [
       "<div\n",
       "    class=\"webio-mountpoint\"\n",
       "    data-webio-mountpoint=\"14238593263112890458\"\n",
       ">\n",
       "    <script>\n",
       "    (function(){\n",
       "    // Some integrations (namely, IJulia/Jupyter) use an alternate render pathway than\n",
       "    // just putting the html on the page. If WebIO isn't defined, then it's pretty likely\n",
       "    // that we're in one of those situations and the integration just isn't installed\n",
       "    // correctly.\n",
       "    if (typeof window.WebIO === \"undefined\") {\n",
       "        document\n",
       "            .querySelector('[data-webio-mountpoint=\"14238593263112890458\"]')\n",
       "            .innerHTML = (\n",
       "                '<div style=\"padding: 1em; background-color: #f8d6da; border: 1px solid #f5c6cb; font-weight: bold;\">' +\n",
       "                '<p><strong>WebIO not detected.</strong></p>' +\n",
       "                '<p>Please read ' +\n",
       "                '<a href=\"https://juliagizmos.github.io/WebIO.jl/latest/troubleshooting/not-detected/\" target=\"_blank\">the troubleshooting guide</a> ' +\n",
       "                'for more information on how to resolve this issue.</p>' +\n",
       "                '<p><a href=\"https://juliagizmos.github.io/WebIO.jl/latest/troubleshooting/not-detected/\" target=\"_blank\">https://juliagizmos.github.io/WebIO.jl/latest/troubleshooting/not-detected/</a></p>' +\n",
       "                '</div>'\n",
       "            );\n",
       "        return;\n",
       "    }\n",
       "    WebIO.mount(\n",
       "        document.querySelector('[data-webio-mountpoint=\"14238593263112890458\"]'),\n",
       "        {\"props\":{},\"nodeType\":\"Scope\",\"type\":\"node\",\"instanceArgs\":{\"imports\":{\"data\":[{\"name\":\"Plotly\",\"type\":\"js\",\"url\":\"\\/assetserver\\/d18d62e3d860f95bdd778d5ce0d98356c8e8cd70-plotly.min.js\"},{\"name\":null,\"type\":\"js\",\"url\":\"\\/assetserver\\/3ce237707c6799d71e862d9d30b4d1f68d73bd38-plotly_webio.bundle.js\"}],\"type\":\"async_block\"},\"id\":\"17035174104749959750\",\"handlers\":{\"_toImage\":[\"(function (options){return this.Plotly.toImage(this.plotElem,options).then((function (data){return WebIO.setval({\\\"name\\\":\\\"image\\\",\\\"scope\\\":\\\"17035174104749959750\\\",\\\"id\\\":\\\"16758020847996847852\\\",\\\"type\\\":\\\"observable\\\"},data)}))})\"],\"__get_gd_contents\":[\"(function (prop){prop==\\\"data\\\" ? (WebIO.setval({\\\"name\\\":\\\"__gd_contents\\\",\\\"scope\\\":\\\"17035174104749959750\\\",\\\"id\\\":\\\"10608811509834614661\\\",\\\"type\\\":\\\"observable\\\"},this.plotElem.data)) : undefined; return prop==\\\"layout\\\" ? (WebIO.setval({\\\"name\\\":\\\"__gd_contents\\\",\\\"scope\\\":\\\"17035174104749959750\\\",\\\"id\\\":\\\"10608811509834614661\\\",\\\"type\\\":\\\"observable\\\"},this.plotElem.layout)) : undefined})\"],\"_downloadImage\":[\"(function (options){return this.Plotly.downloadImage(this.plotElem,options)})\"],\"_commands\":[\"(function (args){var fn=args.shift(); var elem=this.plotElem; var Plotly=this.Plotly; args.unshift(elem); return Plotly[fn].apply(this,args)})\"]},\"systemjs_options\":null,\"mount_callbacks\":[\"function () {\\n    var handler = ((function (Plotly,PlotlyWebIO){PlotlyWebIO.init(WebIO); var gd=this.dom.querySelector(\\\"#plot-d6a5c854-15a6-4366-bb98-f4b45d607e89\\\"); this.plotElem=gd; this.Plotly=Plotly; (window.Blink!==undefined) ? (gd.style.width=\\\"100%\\\", gd.style.height=\\\"100vh\\\", gd.style.marginLeft=\\\"0%\\\", gd.style.marginTop=\\\"0vh\\\") : undefined; window.onresize=(function (){return Plotly.Plots.resize(gd)}); Plotly.newPlot(gd,[],{\\\"template\\\":{\\\"layout\\\":{\\\"coloraxis\\\":{\\\"colorbar\\\":{\\\"ticks\\\":\\\"\\\",\\\"outlinewidth\\\":0}},\\\"xaxis\\\":{\\\"gridcolor\\\":\\\"white\\\",\\\"zerolinewidth\\\":2,\\\"title\\\":{\\\"standoff\\\":15},\\\"ticks\\\":\\\"\\\",\\\"zerolinecolor\\\":\\\"white\\\",\\\"automargin\\\":true,\\\"linecolor\\\":\\\"white\\\"},\\\"hovermode\\\":\\\"closest\\\",\\\"paper_bgcolor\\\":\\\"white\\\",\\\"geo\\\":{\\\"showlakes\\\":true,\\\"showland\\\":true,\\\"landcolor\\\":\\\"#E5ECF6\\\",\\\"bgcolor\\\":\\\"white\\\",\\\"subunitcolor\\\":\\\"white\\\",\\\"lakecolor\\\":\\\"white\\\"},\\\"colorscale\\\":{\\\"sequential\\\":[[0.0,\\\"#0d0887\\\"],[0.1111111111111111,\\\"#46039f\\\"],[0.2222222222222222,\\\"#7201a8\\\"],[0.3333333333333333,\\\"#9c179e\\\"],[0.4444444444444444,\\\"#bd3786\\\"],[0.5555555555555556,\\\"#d8576b\\\"],[0.6666666666666666,\\\"#ed7953\\\"],[0.7777777777777778,\\\"#fb9f3a\\\"],[0.8888888888888888,\\\"#fdca26\\\"],[1.0,\\\"#f0f921\\\"]],\\\"diverging\\\":[[0,\\\"#8e0152\\\"],[0.1,\\\"#c51b7d\\\"],[0.2,\\\"#de77ae\\\"],[0.3,\\\"#f1b6da\\\"],[0.4,\\\"#fde0ef\\\"],[0.5,\\\"#f7f7f7\\\"],[0.6,\\\"#e6f5d0\\\"],[0.7,\\\"#b8e186\\\"],[0.8,\\\"#7fbc41\\\"],[0.9,\\\"#4d9221\\\"],[1,\\\"#276419\\\"]],\\\"sequentialminus\\\":[[0.0,\\\"#0d0887\\\"],[0.1111111111111111,\\\"#46039f\\\"],[0.2222222222222222,\\\"#7201a8\\\"],[0.3333333333333333,\\\"#9c179e\\\"],[0.4444444444444444,\\\"#bd3786\\\"],[0.5555555555555556,\\\"#d8576b\\\"],[0.6666666666666666,\\\"#ed7953\\\"],[0.7777777777777778,\\\"#fb9f3a\\\"],[0.8888888888888888,\\\"#fdca26\\\"],[1.0,\\\"#f0f921\\\"]]},\\\"yaxis\\\":{\\\"gridcolor\\\":\\\"white\\\",\\\"zerolinewidth\\\":2,\\\"title\\\":{\\\"standoff\\\":15},\\\"ticks\\\":\\\"\\\",\\\"zerolinecolor\\\":\\\"white\\\",\\\"automargin\\\":true,\\\"linecolor\\\":\\\"white\\\"},\\\"shapedefaults\\\":{\\\"line\\\":{\\\"color\\\":\\\"#2a3f5f\\\"}},\\\"hoverlabel\\\":{\\\"align\\\":\\\"left\\\"},\\\"mapbox\\\":{\\\"style\\\":\\\"light\\\"},\\\"polar\\\":{\\\"angularaxis\\\":{\\\"gridcolor\\\":\\\"white\\\",\\\"ticks\\\":\\\"\\\",\\\"linecolor\\\":\\\"white\\\"},\\\"bgcolor\\\":\\\"#E5ECF6\\\",\\\"radialaxis\\\":{\\\"gridcolor\\\":\\\"white\\\",\\\"ticks\\\":\\\"\\\",\\\"linecolor\\\":\\\"white\\\"}},\\\"autotypenumbers\\\":\\\"strict\\\",\\\"font\\\":{\\\"color\\\":\\\"#2a3f5f\\\"},\\\"ternary\\\":{\\\"baxis\\\":{\\\"gridcolor\\\":\\\"white\\\",\\\"ticks\\\":\\\"\\\",\\\"linecolor\\\":\\\"white\\\"},\\\"bgcolor\\\":\\\"#E5ECF6\\\",\\\"caxis\\\":{\\\"gridcolor\\\":\\\"white\\\",\\\"ticks\\\":\\\"\\\",\\\"linecolor\\\":\\\"white\\\"},\\\"aaxis\\\":{\\\"gridcolor\\\":\\\"white\\\",\\\"ticks\\\":\\\"\\\",\\\"linecolor\\\":\\\"white\\\"}},\\\"annotationdefaults\\\":{\\\"arrowhead\\\":0,\\\"arrowwidth\\\":1,\\\"arrowcolor\\\":\\\"#2a3f5f\\\"},\\\"plot_bgcolor\\\":\\\"#E5ECF6\\\",\\\"title\\\":{\\\"x\\\":0.05},\\\"scene\\\":{\\\"xaxis\\\":{\\\"gridcolor\\\":\\\"white\\\",\\\"gridwidth\\\":2,\\\"backgroundcolor\\\":\\\"#E5ECF6\\\",\\\"ticks\\\":\\\"\\\",\\\"showbackground\\\":true,\\\"zerolinecolor\\\":\\\"white\\\",\\\"linecolor\\\":\\\"white\\\"},\\\"zaxis\\\":{\\\"gridcolor\\\":\\\"white\\\",\\\"gridwidth\\\":2,\\\"backgroundcolor\\\":\\\"#E5ECF6\\\",\\\"ticks\\\":\\\"\\\",\\\"showbackground\\\":true,\\\"zerolinecolor\\\":\\\"white\\\",\\\"linecolor\\\":\\\"white\\\"},\\\"yaxis\\\":{\\\"gridcolor\\\":\\\"white\\\",\\\"gridwidth\\\":2,\\\"backgroundcolor\\\":\\\"#E5ECF6\\\",\\\"ticks\\\":\\\"\\\",\\\"showbackground\\\":true,\\\"zerolinecolor\\\":\\\"white\\\",\\\"linecolor\\\":\\\"white\\\"}},\\\"colorway\\\":[\\\"#636efa\\\",\\\"#EF553B\\\",\\\"#00cc96\\\",\\\"#ab63fa\\\",\\\"#FFA15A\\\",\\\"#19d3f3\\\",\\\"#FF6692\\\",\\\"#B6E880\\\",\\\"#FF97FF\\\",\\\"#FECB52\\\"]},\\\"data\\\":{\\\"barpolar\\\":[{\\\"type\\\":\\\"barpolar\\\",\\\"marker\\\":{\\\"line\\\":{\\\"color\\\":\\\"#E5ECF6\\\",\\\"width\\\":0.5}}}],\\\"carpet\\\":[{\\\"aaxis\\\":{\\\"gridcolor\\\":\\\"white\\\",\\\"endlinecolor\\\":\\\"#2a3f5f\\\",\\\"minorgridcolor\\\":\\\"white\\\",\\\"startlinecolor\\\":\\\"#2a3f5f\\\",\\\"linecolor\\\":\\\"white\\\"},\\\"type\\\":\\\"carpet\\\",\\\"baxis\\\":{\\\"gridcolor\\\":\\\"white\\\",\\\"endlinecolor\\\":\\\"#2a3f5f\\\",\\\"minorgridcolor\\\":\\\"white\\\",\\\"startlinecolor\\\":\\\"#2a3f5f\\\",\\\"linecolor\\\":\\\"white\\\"}}],\\\"scatterpolar\\\":[{\\\"type\\\":\\\"scatterpolar\\\",\\\"marker\\\":{\\\"colorbar\\\":{\\\"ticks\\\":\\\"\\\",\\\"outlinewidth\\\":0}}}],\\\"parcoords\\\":[{\\\"line\\\":{\\\"colorbar\\\":{\\\"ticks\\\":\\\"\\\",\\\"outlinewidth\\\":0}},\\\"type\\\":\\\"parcoords\\\"}],\\\"scatter\\\":[{\\\"type\\\":\\\"scatter\\\",\\\"marker\\\":{\\\"colorbar\\\":{\\\"ticks\\\":\\\"\\\",\\\"outlinewidth\\\":0}}}],\\\"histogram2dcontour\\\":[{\\\"colorbar\\\":{\\\"ticks\\\":\\\"\\\",\\\"outlinewidth\\\":0},\\\"type\\\":\\\"histogram2dcontour\\\",\\\"colorscale\\\":[[0.0,\\\"#0d0887\\\"],[0.1111111111111111,\\\"#46039f\\\"],[0.2222222222222222,\\\"#7201a8\\\"],[0.3333333333333333,\\\"#9c179e\\\"],[0.4444444444444444,\\\"#bd3786\\\"],[0.5555555555555556,\\\"#d8576b\\\"],[0.6666666666666666,\\\"#ed7953\\\"],[0.7777777777777778,\\\"#fb9f3a\\\"],[0.8888888888888888,\\\"#fdca26\\\"],[1.0,\\\"#f0f921\\\"]]}],\\\"contour\\\":[{\\\"colorbar\\\":{\\\"ticks\\\":\\\"\\\",\\\"outlinewidth\\\":0},\\\"type\\\":\\\"contour\\\",\\\"colorscale\\\":[[0.0,\\\"#0d0887\\\"],[0.1111111111111111,\\\"#46039f\\\"],[0.2222222222222222,\\\"#7201a8\\\"],[0.3333333333333333,\\\"#9c179e\\\"],[0.4444444444444444,\\\"#bd3786\\\"],[0.5555555555555556,\\\"#d8576b\\\"],[0.6666666666666666,\\\"#ed7953\\\"],[0.7777777777777778,\\\"#fb9f3a\\\"],[0.8888888888888888,\\\"#fdca26\\\"],[1.0,\\\"#f0f921\\\"]]}],\\\"scattercarpet\\\":[{\\\"type\\\":\\\"scattercarpet\\\",\\\"marker\\\":{\\\"colorbar\\\":{\\\"ticks\\\":\\\"\\\",\\\"outlinewidth\\\":0}}}],\\\"mesh3d\\\":[{\\\"colorbar\\\":{\\\"ticks\\\":\\\"\\\",\\\"outlinewidth\\\":0},\\\"type\\\":\\\"mesh3d\\\"}],\\\"surface\\\":[{\\\"colorbar\\\":{\\\"ticks\\\":\\\"\\\",\\\"outlinewidth\\\":0},\\\"type\\\":\\\"surface\\\",\\\"colorscale\\\":[[0.0,\\\"#0d0887\\\"],[0.1111111111111111,\\\"#46039f\\\"],[0.2222222222222222,\\\"#7201a8\\\"],[0.3333333333333333,\\\"#9c179e\\\"],[0.4444444444444444,\\\"#bd3786\\\"],[0.5555555555555556,\\\"#d8576b\\\"],[0.6666666666666666,\\\"#ed7953\\\"],[0.7777777777777778,\\\"#fb9f3a\\\"],[0.8888888888888888,\\\"#fdca26\\\"],[1.0,\\\"#f0f921\\\"]]}],\\\"scattermapbox\\\":[{\\\"type\\\":\\\"scattermapbox\\\",\\\"marker\\\":{\\\"colorbar\\\":{\\\"ticks\\\":\\\"\\\",\\\"outlinewidth\\\":0}}}],\\\"scattergeo\\\":[{\\\"type\\\":\\\"scattergeo\\\",\\\"marker\\\":{\\\"colorbar\\\":{\\\"ticks\\\":\\\"\\\",\\\"outlinewidth\\\":0}}}],\\\"histogram\\\":[{\\\"type\\\":\\\"histogram\\\",\\\"marker\\\":{\\\"colorbar\\\":{\\\"ticks\\\":\\\"\\\",\\\"outlinewidth\\\":0}}}],\\\"pie\\\":[{\\\"type\\\":\\\"pie\\\",\\\"automargin\\\":true}],\\\"choropleth\\\":[{\\\"colorbar\\\":{\\\"ticks\\\":\\\"\\\",\\\"outlinewidth\\\":0},\\\"type\\\":\\\"choropleth\\\"}],\\\"heatmapgl\\\":[{\\\"colorbar\\\":{\\\"ticks\\\":\\\"\\\",\\\"outlinewidth\\\":0},\\\"type\\\":\\\"heatmapgl\\\",\\\"colorscale\\\":[[0.0,\\\"#0d0887\\\"],[0.1111111111111111,\\\"#46039f\\\"],[0.2222222222222222,\\\"#7201a8\\\"],[0.3333333333333333,\\\"#9c179e\\\"],[0.4444444444444444,\\\"#bd3786\\\"],[0.5555555555555556,\\\"#d8576b\\\"],[0.6666666666666666,\\\"#ed7953\\\"],[0.7777777777777778,\\\"#fb9f3a\\\"],[0.8888888888888888,\\\"#fdca26\\\"],[1.0,\\\"#f0f921\\\"]]}],\\\"bar\\\":[{\\\"type\\\":\\\"bar\\\",\\\"error_y\\\":{\\\"color\\\":\\\"#2a3f5f\\\"},\\\"error_x\\\":{\\\"color\\\":\\\"#2a3f5f\\\"},\\\"marker\\\":{\\\"line\\\":{\\\"color\\\":\\\"#E5ECF6\\\",\\\"width\\\":0.5}}}],\\\"heatmap\\\":[{\\\"colorbar\\\":{\\\"ticks\\\":\\\"\\\",\\\"outlinewidth\\\":0},\\\"type\\\":\\\"heatmap\\\",\\\"colorscale\\\":[[0.0,\\\"#0d0887\\\"],[0.1111111111111111,\\\"#46039f\\\"],[0.2222222222222222,\\\"#7201a8\\\"],[0.3333333333333333,\\\"#9c179e\\\"],[0.4444444444444444,\\\"#bd3786\\\"],[0.5555555555555556,\\\"#d8576b\\\"],[0.6666666666666666,\\\"#ed7953\\\"],[0.7777777777777778,\\\"#fb9f3a\\\"],[0.8888888888888888,\\\"#fdca26\\\"],[1.0,\\\"#f0f921\\\"]]}],\\\"contourcarpet\\\":[{\\\"colorbar\\\":{\\\"ticks\\\":\\\"\\\",\\\"outlinewidth\\\":0},\\\"type\\\":\\\"contourcarpet\\\"}],\\\"table\\\":[{\\\"type\\\":\\\"table\\\",\\\"header\\\":{\\\"line\\\":{\\\"color\\\":\\\"white\\\"},\\\"fill\\\":{\\\"color\\\":\\\"#C8D4E3\\\"}},\\\"cells\\\":{\\\"line\\\":{\\\"color\\\":\\\"white\\\"},\\\"fill\\\":{\\\"color\\\":\\\"#EBF0F8\\\"}}}],\\\"scatter3d\\\":[{\\\"line\\\":{\\\"colorbar\\\":{\\\"ticks\\\":\\\"\\\",\\\"outlinewidth\\\":0}},\\\"type\\\":\\\"scatter3d\\\",\\\"marker\\\":{\\\"colorbar\\\":{\\\"ticks\\\":\\\"\\\",\\\"outlinewidth\\\":0}}}],\\\"scattergl\\\":[{\\\"type\\\":\\\"scattergl\\\",\\\"marker\\\":{\\\"colorbar\\\":{\\\"ticks\\\":\\\"\\\",\\\"outlinewidth\\\":0}}}],\\\"histogram2d\\\":[{\\\"colorbar\\\":{\\\"ticks\\\":\\\"\\\",\\\"outlinewidth\\\":0},\\\"type\\\":\\\"histogram2d\\\",\\\"colorscale\\\":[[0.0,\\\"#0d0887\\\"],[0.1111111111111111,\\\"#46039f\\\"],[0.2222222222222222,\\\"#7201a8\\\"],[0.3333333333333333,\\\"#9c179e\\\"],[0.4444444444444444,\\\"#bd3786\\\"],[0.5555555555555556,\\\"#d8576b\\\"],[0.6666666666666666,\\\"#ed7953\\\"],[0.7777777777777778,\\\"#fb9f3a\\\"],[0.8888888888888888,\\\"#fdca26\\\"],[1.0,\\\"#f0f921\\\"]]}],\\\"scatterternary\\\":[{\\\"type\\\":\\\"scatterternary\\\",\\\"marker\\\":{\\\"colorbar\\\":{\\\"ticks\\\":\\\"\\\",\\\"outlinewidth\\\":0}}}],\\\"scatterpolargl\\\":[{\\\"type\\\":\\\"scatterpolargl\\\",\\\"marker\\\":{\\\"colorbar\\\":{\\\"ticks\\\":\\\"\\\",\\\"outlinewidth\\\":0}}}]}},\\\"scene\\\":{\\\"domain\\\":{\\\"y\\\":[0.0,1.0],\\\"x\\\":[0.0,1.0]}},\\\"margin\\\":{\\\"l\\\":50,\\\"b\\\":50,\\\"r\\\":50,\\\"t\\\":60},\\\"annotations\\\":[]},{\\\"showLink\\\":false,\\\"editable\\\":false,\\\"responsive\\\":true,\\\"staticPlot\\\":false,\\\"scrollZoom\\\":true}); gd.on(\\\"plotly_hover\\\",(function (data){var filtered_data=WebIO.PlotlyCommands.filterEventData(gd,data,\\\"hover\\\"); return !(filtered_data.isnil) ? (WebIO.setval({\\\"name\\\":\\\"hover\\\",\\\"scope\\\":\\\"17035174104749959750\\\",\\\"id\\\":\\\"6704420257232340397\\\",\\\"type\\\":\\\"observable\\\"},filtered_data.out)) : undefined})); gd.on(\\\"plotly_unhover\\\",(function (){return WebIO.setval({\\\"name\\\":\\\"hover\\\",\\\"scope\\\":\\\"17035174104749959750\\\",\\\"id\\\":\\\"6704420257232340397\\\",\\\"type\\\":\\\"observable\\\"},{})})); gd.on(\\\"plotly_selected\\\",(function (data){var filtered_data=WebIO.PlotlyCommands.filterEventData(gd,data,\\\"selected\\\"); return !(filtered_data.isnil) ? (WebIO.setval({\\\"name\\\":\\\"selected\\\",\\\"scope\\\":\\\"17035174104749959750\\\",\\\"id\\\":\\\"4452134204941264171\\\",\\\"type\\\":\\\"observable\\\"},filtered_data.out)) : undefined})); gd.on(\\\"plotly_deselect\\\",(function (){return WebIO.setval({\\\"name\\\":\\\"selected\\\",\\\"scope\\\":\\\"17035174104749959750\\\",\\\"id\\\":\\\"4452134204941264171\\\",\\\"type\\\":\\\"observable\\\"},{})})); gd.on(\\\"plotly_relayout\\\",(function (data){var filtered_data=WebIO.PlotlyCommands.filterEventData(gd,data,\\\"relayout\\\"); return !(filtered_data.isnil) ? (WebIO.setval({\\\"name\\\":\\\"relayout\\\",\\\"scope\\\":\\\"17035174104749959750\\\",\\\"id\\\":\\\"12435538119027598017\\\",\\\"type\\\":\\\"observable\\\"},filtered_data.out)) : undefined})); return gd.on(\\\"plotly_click\\\",(function (data){var filtered_data=WebIO.PlotlyCommands.filterEventData(gd,data,\\\"click\\\"); return !(filtered_data.isnil) ? (WebIO.setval({\\\"name\\\":\\\"click\\\",\\\"scope\\\":\\\"17035174104749959750\\\",\\\"id\\\":\\\"381163019333656269\\\",\\\"type\\\":\\\"observable\\\"},filtered_data.out)) : undefined}))}));\\n    (WebIO.importBlock({\\\"data\\\":[{\\\"name\\\":\\\"Plotly\\\",\\\"type\\\":\\\"js\\\",\\\"url\\\":\\\"\\/assetserver\\/d18d62e3d860f95bdd778d5ce0d98356c8e8cd70-plotly.min.js\\\"},{\\\"name\\\":null,\\\"type\\\":\\\"js\\\",\\\"url\\\":\\\"\\/assetserver\\/3ce237707c6799d71e862d9d30b4d1f68d73bd38-plotly_webio.bundle.js\\\"}],\\\"type\\\":\\\"async_block\\\"})).then((imports) => handler.apply(this, imports));\\n}\\n\"],\"observables\":{\"_toImage\":{\"sync\":false,\"id\":\"3981626906881860577\",\"value\":{}},\"hover\":{\"sync\":false,\"id\":\"6704420257232340397\",\"value\":{}},\"selected\":{\"sync\":false,\"id\":\"4452134204941264171\",\"value\":{}},\"__gd_contents\":{\"sync\":false,\"id\":\"10608811509834614661\",\"value\":{}},\"click\":{\"sync\":false,\"id\":\"381163019333656269\",\"value\":{}},\"image\":{\"sync\":true,\"id\":\"16758020847996847852\",\"value\":\"\"},\"__get_gd_contents\":{\"sync\":false,\"id\":\"13265445003512757577\",\"value\":\"\"},\"_downloadImage\":{\"sync\":false,\"id\":\"3947108776534136432\",\"value\":{}},\"relayout\":{\"sync\":false,\"id\":\"12435538119027598017\",\"value\":{}},\"_commands\":{\"sync\":false,\"id\":\"2683555899570400317\",\"value\":[\"react\",[{\"x\":[1.0,1.0,2.0,1.0,0.0,1.0],\"mode\":\"markers\",\"textposition\":\"bottom center\",\"y\":[0.0,1.0,1.0,1.0,1.0,2.0],\"type\":\"scatter3d\",\"scene\":\"scene\",\"text\":[\"1\",\"2\",\"3\",\"4\",\"5\",\"6\"],\"z\":[1.0,0.0,1.0,2.0,1.0,1.0],\"marker\":{\"color\":{\"r\":0.5,\"g\":1.0,\"b\":0.5},\"size\":4}},{\"mode\":\"lines\",\"line\":{\"color\":\"black\"},\"y\":[1.0,2.0],\"type\":\"scatter3d\",\"scene\":\"scene\",\"z\":[1.0,1.0],\"x\":[0.0,1.0]},{\"mode\":\"lines\",\"line\":{\"color\":\"black\"},\"y\":[1.0,2.0],\"type\":\"scatter3d\",\"scene\":\"scene\",\"z\":[2.0,1.0],\"x\":[1.0,1.0]},{\"mode\":\"lines\",\"line\":{\"color\":\"black\"},\"y\":[1.0,1.0],\"type\":\"scatter3d\",\"scene\":\"scene\",\"z\":[2.0,1.0],\"x\":[1.0,0.0]},{\"mode\":\"lines\",\"line\":{\"color\":\"black\"},\"y\":[1.0,2.0],\"type\":\"scatter3d\",\"scene\":\"scene\",\"z\":[1.0,1.0],\"x\":[2.0,1.0]},{\"mode\":\"lines\",\"line\":{\"color\":\"black\"},\"y\":[1.0,1.0],\"type\":\"scatter3d\",\"scene\":\"scene\",\"z\":[1.0,2.0],\"x\":[2.0,1.0]},{\"mode\":\"lines\",\"line\":{\"color\":\"black\"},\"y\":[1.0,2.0],\"type\":\"scatter3d\",\"scene\":\"scene\",\"z\":[0.0,1.0],\"x\":[1.0,1.0]},{\"mode\":\"lines\",\"line\":{\"color\":\"black\"},\"y\":[1.0,1.0],\"type\":\"scatter3d\",\"scene\":\"scene\",\"z\":[0.0,1.0],\"x\":[1.0,0.0]},{\"mode\":\"lines\",\"line\":{\"color\":\"black\"},\"y\":[1.0,1.0],\"type\":\"scatter3d\",\"scene\":\"scene\",\"z\":[0.0,1.0],\"x\":[1.0,2.0]},{\"mode\":\"lines\",\"line\":{\"color\":\"black\"},\"y\":[0.0,1.0],\"type\":\"scatter3d\",\"scene\":\"scene\",\"z\":[1.0,1.0],\"x\":[1.0,0.0]},{\"mode\":\"lines\",\"line\":{\"color\":\"black\"},\"y\":[0.0,1.0],\"type\":\"scatter3d\",\"scene\":\"scene\",\"z\":[1.0,2.0],\"x\":[1.0,1.0]},{\"mode\":\"lines\",\"line\":{\"color\":\"black\"},\"y\":[0.0,1.0],\"type\":\"scatter3d\",\"scene\":\"scene\",\"z\":[1.0,1.0],\"x\":[1.0,2.0]},{\"mode\":\"lines\",\"line\":{\"color\":\"black\"},\"y\":[0.0,1.0],\"type\":\"scatter3d\",\"scene\":\"scene\",\"z\":[1.0,0.0],\"x\":[1.0,1.0]},{\"y\":[0.0,1.0,1.0,1.0,1.0,2.0],\"type\":\"mesh3d\",\"j\":[1,4,1,2,3,3,2,4],\"k\":[2,5,4,5,4,5,3,5],\"opacity\":0.6,\"scene\":\"scene\",\"z\":[1.0,0.0,1.0,2.0,1.0,1.0],\"i\":[0,1,0,1,0,2,0,3],\"facecolor\":[{\"r\":0.5,\"g\":1.0,\"b\":0.5},{\"r\":0.5,\"g\":1.0,\"b\":0.5},{\"r\":0.5,\"g\":1.0,\"b\":0.5},{\"r\":0.5,\"g\":1.0,\"b\":0.5},{\"r\":0.5,\"g\":1.0,\"b\":0.5},{\"r\":0.5,\"g\":1.0,\"b\":0.5},{\"r\":0.5,\"g\":1.0,\"b\":0.5},{\"r\":0.5,\"g\":1.0,\"b\":0.5}],\"x\":[1.0,1.0,2.0,1.0,0.0,1.0]},{\"mode\":\"lines\",\"line\":{\"color\":\"red\",\"dash\":\"dot\",\"width\":10},\"y\":[0.0,1.0],\"type\":\"scatter3d\",\"scene\":\"scene\",\"z\":[1.0,1.0],\"x\":[1.0,2.0]},{\"mode\":\"lines\",\"line\":{\"color\":\"red\",\"dash\":\"dot\",\"width\":10},\"y\":[1.0,2.0],\"type\":\"scatter3d\",\"scene\":\"scene\",\"z\":[1.0,1.0],\"x\":[2.0,1.0]},{\"mode\":\"lines\",\"line\":{\"color\":\"red\",\"dash\":\"dot\",\"width\":10},\"y\":[2.0,1.0],\"type\":\"scatter3d\",\"scene\":\"scene\",\"z\":[1.0,1.0],\"x\":[1.0,0.0]},{\"mode\":\"lines\",\"line\":{\"color\":\"red\",\"dash\":\"dot\",\"width\":10},\"y\":[1.0,0.0],\"type\":\"scatter3d\",\"scene\":\"scene\",\"z\":[1.0,1.0],\"x\":[0.0,1.0]}],{\"showlegend\":false,\"template\":{\"data\":{\"scatterpolargl\":[{\"type\":\"scatterpolargl\",\"marker\":{\"colorbar\":{\"ticks\":\"\",\"outlinewidth\":0}}}],\"carpet\":[{\"baxis\":{\"gridcolor\":\"white\",\"endlinecolor\":\"#2a3f5f\",\"minorgridcolor\":\"white\",\"startlinecolor\":\"#2a3f5f\",\"linecolor\":\"white\"},\"type\":\"carpet\",\"aaxis\":{\"gridcolor\":\"white\",\"endlinecolor\":\"#2a3f5f\",\"minorgridcolor\":\"white\",\"startlinecolor\":\"#2a3f5f\",\"linecolor\":\"white\"}}],\"scatterpolar\":[{\"type\":\"scatterpolar\",\"marker\":{\"colorbar\":{\"ticks\":\"\",\"outlinewidth\":0}}}],\"parcoords\":[{\"line\":{\"colorbar\":{\"ticks\":\"\",\"outlinewidth\":0}},\"type\":\"parcoords\"}],\"scatter\":[{\"type\":\"scatter\",\"marker\":{\"colorbar\":{\"ticks\":\"\",\"outlinewidth\":0}}}],\"histogram2dcontour\":[{\"colorbar\":{\"ticks\":\"\",\"outlinewidth\":0},\"type\":\"histogram2dcontour\",\"colorscale\":[[0.0,\"#0d0887\"],[0.1111111111111111,\"#46039f\"],[0.2222222222222222,\"#7201a8\"],[0.3333333333333333,\"#9c179e\"],[0.4444444444444444,\"#bd3786\"],[0.5555555555555556,\"#d8576b\"],[0.6666666666666666,\"#ed7953\"],[0.7777777777777778,\"#fb9f3a\"],[0.8888888888888888,\"#fdca26\"],[1.0,\"#f0f921\"]]}],\"contour\":[{\"colorbar\":{\"ticks\":\"\",\"outlinewidth\":0},\"type\":\"contour\",\"colorscale\":[[0.0,\"#0d0887\"],[0.1111111111111111,\"#46039f\"],[0.2222222222222222,\"#7201a8\"],[0.3333333333333333,\"#9c179e\"],[0.4444444444444444,\"#bd3786\"],[0.5555555555555556,\"#d8576b\"],[0.6666666666666666,\"#ed7953\"],[0.7777777777777778,\"#fb9f3a\"],[0.8888888888888888,\"#fdca26\"],[1.0,\"#f0f921\"]]}],\"scattercarpet\":[{\"type\":\"scattercarpet\",\"marker\":{\"colorbar\":{\"ticks\":\"\",\"outlinewidth\":0}}}],\"mesh3d\":[{\"colorbar\":{\"ticks\":\"\",\"outlinewidth\":0},\"type\":\"mesh3d\"}],\"surface\":[{\"colorbar\":{\"ticks\":\"\",\"outlinewidth\":0},\"type\":\"surface\",\"colorscale\":[[0.0,\"#0d0887\"],[0.1111111111111111,\"#46039f\"],[0.2222222222222222,\"#7201a8\"],[0.3333333333333333,\"#9c179e\"],[0.4444444444444444,\"#bd3786\"],[0.5555555555555556,\"#d8576b\"],[0.6666666666666666,\"#ed7953\"],[0.7777777777777778,\"#fb9f3a\"],[0.8888888888888888,\"#fdca26\"],[1.0,\"#f0f921\"]]}],\"scattermapbox\":[{\"type\":\"scattermapbox\",\"marker\":{\"colorbar\":{\"ticks\":\"\",\"outlinewidth\":0}}}],\"scattergeo\":[{\"type\":\"scattergeo\",\"marker\":{\"colorbar\":{\"ticks\":\"\",\"outlinewidth\":0}}}],\"histogram\":[{\"type\":\"histogram\",\"marker\":{\"colorbar\":{\"ticks\":\"\",\"outlinewidth\":0}}}],\"pie\":[{\"type\":\"pie\",\"automargin\":true}],\"choropleth\":[{\"colorbar\":{\"ticks\":\"\",\"outlinewidth\":0},\"type\":\"choropleth\"}],\"heatmapgl\":[{\"colorbar\":{\"ticks\":\"\",\"outlinewidth\":0},\"type\":\"heatmapgl\",\"colorscale\":[[0.0,\"#0d0887\"],[0.1111111111111111,\"#46039f\"],[0.2222222222222222,\"#7201a8\"],[0.3333333333333333,\"#9c179e\"],[0.4444444444444444,\"#bd3786\"],[0.5555555555555556,\"#d8576b\"],[0.6666666666666666,\"#ed7953\"],[0.7777777777777778,\"#fb9f3a\"],[0.8888888888888888,\"#fdca26\"],[1.0,\"#f0f921\"]]}],\"bar\":[{\"type\":\"bar\",\"error_y\":{\"color\":\"#2a3f5f\"},\"error_x\":{\"color\":\"#2a3f5f\"},\"marker\":{\"line\":{\"color\":\"#E5ECF6\",\"width\":0.5}}}],\"heatmap\":[{\"colorbar\":{\"ticks\":\"\",\"outlinewidth\":0},\"type\":\"heatmap\",\"colorscale\":[[0.0,\"#0d0887\"],[0.1111111111111111,\"#46039f\"],[0.2222222222222222,\"#7201a8\"],[0.3333333333333333,\"#9c179e\"],[0.4444444444444444,\"#bd3786\"],[0.5555555555555556,\"#d8576b\"],[0.6666666666666666,\"#ed7953\"],[0.7777777777777778,\"#fb9f3a\"],[0.8888888888888888,\"#fdca26\"],[1.0,\"#f0f921\"]]}],\"contourcarpet\":[{\"colorbar\":{\"ticks\":\"\",\"outlinewidth\":0},\"type\":\"contourcarpet\"}],\"table\":[{\"type\":\"table\",\"header\":{\"line\":{\"color\":\"white\"},\"fill\":{\"color\":\"#C8D4E3\"}},\"cells\":{\"line\":{\"color\":\"white\"},\"fill\":{\"color\":\"#EBF0F8\"}}}],\"scatter3d\":[{\"line\":{\"colorbar\":{\"ticks\":\"\",\"outlinewidth\":0}},\"type\":\"scatter3d\",\"marker\":{\"colorbar\":{\"ticks\":\"\",\"outlinewidth\":0}}}],\"scattergl\":[{\"type\":\"scattergl\",\"marker\":{\"colorbar\":{\"ticks\":\"\",\"outlinewidth\":0}}}],\"histogram2d\":[{\"colorbar\":{\"ticks\":\"\",\"outlinewidth\":0},\"type\":\"histogram2d\",\"colorscale\":[[0.0,\"#0d0887\"],[0.1111111111111111,\"#46039f\"],[0.2222222222222222,\"#7201a8\"],[0.3333333333333333,\"#9c179e\"],[0.4444444444444444,\"#bd3786\"],[0.5555555555555556,\"#d8576b\"],[0.6666666666666666,\"#ed7953\"],[0.7777777777777778,\"#fb9f3a\"],[0.8888888888888888,\"#fdca26\"],[1.0,\"#f0f921\"]]}],\"scatterternary\":[{\"type\":\"scatterternary\",\"marker\":{\"colorbar\":{\"ticks\":\"\",\"outlinewidth\":0}}}],\"barpolar\":[{\"type\":\"barpolar\",\"marker\":{\"line\":{\"color\":\"#E5ECF6\",\"width\":0.5}}}]},\"layout\":{\"xaxis\":{\"gridcolor\":\"white\",\"zerolinewidth\":2,\"title\":{\"standoff\":15},\"ticks\":\"\",\"zerolinecolor\":\"white\",\"automargin\":true,\"linecolor\":\"white\"},\"hovermode\":\"closest\",\"paper_bgcolor\":\"white\",\"geo\":{\"showlakes\":true,\"showland\":true,\"landcolor\":\"#E5ECF6\",\"bgcolor\":\"white\",\"subunitcolor\":\"white\",\"lakecolor\":\"white\"},\"colorscale\":{\"sequential\":[[0.0,\"#0d0887\"],[0.1111111111111111,\"#46039f\"],[0.2222222222222222,\"#7201a8\"],[0.3333333333333333,\"#9c179e\"],[0.4444444444444444,\"#bd3786\"],[0.5555555555555556,\"#d8576b\"],[0.6666666666666666,\"#ed7953\"],[0.7777777777777778,\"#fb9f3a\"],[0.8888888888888888,\"#fdca26\"],[1.0,\"#f0f921\"]],\"diverging\":[[0,\"#8e0152\"],[0.1,\"#c51b7d\"],[0.2,\"#de77ae\"],[0.3,\"#f1b6da\"],[0.4,\"#fde0ef\"],[0.5,\"#f7f7f7\"],[0.6,\"#e6f5d0\"],[0.7,\"#b8e186\"],[0.8,\"#7fbc41\"],[0.9,\"#4d9221\"],[1,\"#276419\"]],\"sequentialminus\":[[0.0,\"#0d0887\"],[0.1111111111111111,\"#46039f\"],[0.2222222222222222,\"#7201a8\"],[0.3333333333333333,\"#9c179e\"],[0.4444444444444444,\"#bd3786\"],[0.5555555555555556,\"#d8576b\"],[0.6666666666666666,\"#ed7953\"],[0.7777777777777778,\"#fb9f3a\"],[0.8888888888888888,\"#fdca26\"],[1.0,\"#f0f921\"]]},\"yaxis\":{\"gridcolor\":\"white\",\"zerolinewidth\":2,\"title\":{\"standoff\":15},\"ticks\":\"\",\"zerolinecolor\":\"white\",\"automargin\":true,\"linecolor\":\"white\"},\"shapedefaults\":{\"line\":{\"color\":\"#2a3f5f\"}},\"font\":{\"color\":\"#2a3f5f\"},\"annotationdefaults\":{\"arrowhead\":0,\"arrowwidth\":1,\"arrowcolor\":\"#2a3f5f\"},\"plot_bgcolor\":\"#E5ECF6\",\"title\":{\"x\":0.05},\"coloraxis\":{\"colorbar\":{\"ticks\":\"\",\"outlinewidth\":0}},\"hoverlabel\":{\"align\":\"left\"},\"mapbox\":{\"style\":\"light\"},\"polar\":{\"angularaxis\":{\"gridcolor\":\"white\",\"ticks\":\"\",\"linecolor\":\"white\"},\"bgcolor\":\"#E5ECF6\",\"radialaxis\":{\"gridcolor\":\"white\",\"ticks\":\"\",\"linecolor\":\"white\"}},\"autotypenumbers\":\"strict\",\"ternary\":{\"aaxis\":{\"gridcolor\":\"white\",\"ticks\":\"\",\"linecolor\":\"white\"},\"bgcolor\":\"#E5ECF6\",\"caxis\":{\"gridcolor\":\"white\",\"ticks\":\"\",\"linecolor\":\"white\"},\"baxis\":{\"gridcolor\":\"white\",\"ticks\":\"\",\"linecolor\":\"white\"}},\"scene\":{\"xaxis\":{\"gridcolor\":\"white\",\"gridwidth\":2,\"backgroundcolor\":\"#E5ECF6\",\"ticks\":\"\",\"showbackground\":true,\"zerolinecolor\":\"white\",\"linecolor\":\"white\"},\"zaxis\":{\"gridcolor\":\"white\",\"gridwidth\":2,\"backgroundcolor\":\"#E5ECF6\",\"ticks\":\"\",\"showbackground\":true,\"zerolinecolor\":\"white\",\"linecolor\":\"white\"},\"yaxis\":{\"gridcolor\":\"white\",\"gridwidth\":2,\"backgroundcolor\":\"#E5ECF6\",\"ticks\":\"\",\"showbackground\":true,\"zerolinecolor\":\"white\",\"linecolor\":\"white\"}},\"colorway\":[\"#636efa\",\"#EF553B\",\"#00cc96\",\"#ab63fa\",\"#FFA15A\",\"#19d3f3\",\"#FF6692\",\"#B6E880\",\"#FF97FF\",\"#FECB52\"]}},\"scene\":{\"camera\":{\"eye\":{\"y\":1.616244071283537,\"z\":1.0101525445522106,\"x\":0.6060915267313264}},\"xaxis\":{\"showticklabels\":false,\"showaxeslabels\":false,\"title\":{\"text\":\"\"},\"showbackground\":false},\"domain\":{\"y\":[0.0,1.0],\"x\":[0.0,1.0]},\"yaxis\":{\"showticklabels\":false,\"showaxeslabels\":false,\"title\":{\"text\":\"\"},\"showbackground\":false},\"zaxis\":{\"showticklabels\":false,\"showaxeslabels\":false,\"title\":{\"text\":\"\"},\"showbackground\":false},\"aspectmode\":\"data\",\"autosize\":true},\"margin\":{\"l\":50,\"b\":50,\"r\":50,\"t\":60},\"annotations\":[]}]}}},\"children\":[{\"props\":{\"id\":\"plot-d6a5c854-15a6-4366-bb98-f4b45d607e89\"},\"nodeType\":\"DOM\",\"type\":\"node\",\"instanceArgs\":{\"namespace\":\"html\",\"tag\":\"div\"},\"children\":[]}]},\n",
       "        window,\n",
       "    );\n",
       "    })()\n",
       "    </script>\n",
       "</div>\n"
      ],
      "text/plain": [
       "data: [\n",
       "  \"scatter3d with fields marker, mode, scene, text, textposition, type, x, y, and z\",\n",
       "  \"scatter3d with fields line, mode, scene, type, x, y, and z\",\n",
       "  \"scatter3d with fields line, mode, scene, type, x, y, and z\",\n",
       "  \"scatter3d with fields line, mode, scene, type, x, y, and z\",\n",
       "  \"scatter3d with fields line, mode, scene, type, x, y, and z\",\n",
       "  \"scatter3d with fields line, mode, scene, type, x, y, and z\",\n",
       "  \"scatter3d with fields line, mode, scene, type, x, y, and z\",\n",
       "  \"scatter3d with fields line, mode, scene, type, x, y, and z\",\n",
       "  \"scatter3d with fields line, mode, scene, type, x, y, and z\",\n",
       "  \"scatter3d with fields line, mode, scene, type, x, y, and z\",\n",
       "  \"scatter3d with fields line, mode, scene, type, x, y, and z\",\n",
       "  \"scatter3d with fields line, mode, scene, type, x, y, and z\",\n",
       "  \"scatter3d with fields line, mode, scene, type, x, y, and z\",\n",
       "  \"mesh3d with fields facecolor, i, j, k, opacity, scene, type, x, y, and z\",\n",
       "  \"scatter3d with fields line, mode, scene, type, x, y, and z\",\n",
       "  \"scatter3d with fields line, mode, scene, type, x, y, and z\",\n",
       "  \"scatter3d with fields line, mode, scene, type, x, y, and z\",\n",
       "  \"scatter3d with fields line, mode, scene, type, x, y, and z\"\n",
       "]\n",
       "\n",
       "layout: \"layout with fields annotations, margin, scene, showlegend, and template\"\n",
       "\n"
      ]
     },
     "metadata": {},
     "output_type": "display_data"
    }
   ],
   "source": [
    "width = 600\n",
    "height = 600\n",
    "\n",
    "surf = Octahedron\n",
    "\n",
    "p = plot(surf, opacity = 0.6, subfigures = (1,1), colors = [RGB(0.5,1,0.5)], \n",
    "    showbackground = false, viewpoint = [0.6,1.6,1], zoomfactor = 0.8, width = width, height = height)\n",
    "\n",
    "v = get_verts(surf)\n",
    "for d in [[1,3], [3,6], [6,5], [5,1]]\n",
    "    add_trace!(\n",
    "        p, \n",
    "        scatter(\n",
    "            x = [v[d[1]][1], v[d[2]][1]],\n",
    "            y = [v[d[1]][2], v[d[2]][2]],\n",
    "            z = [v[d[1]][3], v[d[2]][3]],\n",
    "            line = attr(color = \"red\", width = 10, dash = \"dot\"),\n",
    "            mode = \"lines\",\n",
    "            type = \"scatter3d\"\n",
    "        )\n",
    "    )\n",
    "end\n",
    "\n",
    "display(p)"
   ]
  },
  {
   "cell_type": "code",
   "execution_count": null,
   "metadata": {},
   "outputs": [],
   "source": [
    "width = 600\n",
    "height = 600\n",
    "\n",
    "v = get_verts(bricard_octahedron(1))[1:5]\n",
    "e = filter(e -> !(6 in e), get_edges(bricard_octahedron(1)))\n",
    "f = filter(f -> !(6 in f), get_facets(bricard_octahedron(1)))\n",
    "\n",
    "surf = Polyhedron(v,e,f)\n",
    "\n",
    "p = plot(surf, opacity = 0.6, subfigures = (1,1), colors = [RGB(0.5,1,0.5)], \n",
    "    showbackground = false, viewpoint = [0.6,1.6,1], zoomfactor = 0.8, width = width, height = height)\n",
    "\n",
    "for d in [[1,3], [2,4]]\n",
    "    add_trace!(\n",
    "        p,\n",
    "        scatter(\n",
    "            x = [v[d[1]][1], v[d[2]][1]],\n",
    "            y = [v[d[1]][2], v[d[2]][2]],\n",
    "            z = [v[d[1]][3], v[d[2]][3]],\n",
    "            line = attr(color = \"grey\", width = 5, dash = \"dot\"),\n",
    "            mode = \"lines\",\n",
    "            type = \"scatter3d\"\n",
    "        )\n",
    "    )\n",
    "end\n",
    "\n",
    "p1 = deepcopy(p)\n",
    "p2 = deepcopy(p)\n",
    "p3 = deepcopy(p)\n",
    "\n",
    "# Line symmetry\n",
    "m1 = (v[1] + v[3]) / 2\n",
    "m2 = (v[2] + v[4]) / 2\n",
    "d = m1-m2\n",
    "\n",
    "add_trace!(\n",
    "    p1, \n",
    "    scatter(\n",
    "        x = [(m2 + 3*d)[1], (m2 - 1*d)[1]],\n",
    "        y = [(m2 + 3*d)[2], (m2 - 1*d)[2]],\n",
    "        z = [(m2 + 3*d)[3], (m2 - 1*d)[3]],\n",
    "        line = attr(color = \"red\", width = 5),\n",
    "        mode = \"lines\",\n",
    "        type = \"scatter3d\")\n",
    ")\n",
    "\n",
    "display(p1)\n",
    "# PlotlyJS.savefig(p1, \"Images//linesymmetry.png\", width = width, height = height)\n",
    "\n",
    "# plane symmetry 1\n",
    "mesh = mesh3d(\n",
    "    x = [v[1][1] + 2*d[1], v[3][1] + 2*d[1], v[3][1] - 1.5*d[1], v[1][1] - 1.5*d[1]],\n",
    "    y = [v[1][2] + 2*d[2], v[3][2] + 2*d[2], v[3][2] - 1.5*d[2], v[1][2] - 1.5*d[2]],\n",
    "    z = [v[1][3] + 2*d[3], v[3][3] + 2*d[3], v[3][3] - 1.5*d[3], v[1][3] - 1.5*d[3]],\n",
    "    i = [1, 2].-1,\n",
    "    j = [2, 3].-1,\n",
    "    k = [4, 4].-1,\n",
    "    facecolor = \"grey\",\n",
    "    opacity = 0.4\n",
    ")\n",
    "add_trace!(\n",
    "    p2,\n",
    "    mesh\n",
    ")\n",
    "\n",
    "display(p2)\n",
    "# PlotlyJS.savefig(p2, \"Images//planesymmetry_1.png\", width = width, height = height)\n",
    "\n",
    "# plane symmetry 2\n",
    "mesh = mesh3d(\n",
    "    x = [v[2][1] + 3*d[1], v[4][1] + 3*d[1], v[4][1] - 1*d[1], v[2][1] - 1*d[1]],\n",
    "    y = [v[2][2] + 3*d[2], v[4][2] + 3*d[2], v[4][2] - 1*d[2], v[2][2] - 1*d[2]],\n",
    "    z = [v[2][3] + 3*d[3], v[4][3] + 3*d[3], v[4][3] - 1*d[3], v[2][3] - 1*d[3]],\n",
    "    i = [1, 2].-1,\n",
    "    j = [2, 3].-1,\n",
    "    k = [4, 4].-1,\n",
    "    facecolor = \"grey\",\n",
    "    opacity = 0.4\n",
    ")\n",
    "add_trace!(\n",
    "    p3,\n",
    "    mesh\n",
    ")\n",
    "\n",
    "display(p3)\n",
    "# PlotlyJS.savefig(p2, \"Images//planesymmetry_2.png\", width = width, height = height)"
   ]
  },
  {
   "cell_type": "code",
   "execution_count": null,
   "metadata": {},
   "outputs": [],
   "source": [
    "viewpoint = [2,1,0.5]\n",
    "zoomfactor = 0.75\n",
    "\n",
    "for n in 1:3\n",
    "    v2 = get_verts(bricard_octahedron(n))[[1,2,3,4,6]]\n",
    "    \n",
    "    surf2 = Polyhedron(v2, e, f)\n",
    "\n",
    "    if n in [1,2]\n",
    "        p = plot([surf, surf2], colors = [RGB(1,0,0), RGB(0,0,1)], \n",
    "                zoomfactor = zoomfactor, viewpoint = viewpoint, showbackground = false, subfigures = (1,1), opacity = 0.6, width = 600, height = 600)\n",
    "    else \n",
    "        p = plot([surf2, surf], colors = [RGB(0,0,1), RGB(1,0,0)], \n",
    "            zoomfactor = zoomfactor, viewpoint = viewpoint, showbackground = false, subfigures = (1,1), opacity = 0.6, width = 600, height = 600)\n",
    "    end\n",
    "\n",
    "    display(p)\n",
    "    # PlotlyJS.savefig(p2, \"Images//bricard_$n.png\", width = width, height = height)\n",
    "end"
   ]
  },
  {
   "cell_type": "code",
   "execution_count": null,
   "metadata": {},
   "outputs": [],
   "source": [
    "m2 + 3*d"
   ]
  },
  {
   "cell_type": "markdown",
   "metadata": {},
   "source": [
    "## Assemblies from paper"
   ]
  },
  {
   "cell_type": "markdown",
   "metadata": {},
   "source": [
    "Assembly 1: n1 = 6, n2 = 3, nmerges = 2, stack = 7"
   ]
  },
  {
   "cell_type": "code",
   "execution_count": null,
   "metadata": {},
   "outputs": [],
   "source": [
    "ass, frame = assembly1(6,3,2,7)\n",
    "colors = [RGB(0.5,0.5,0.5) for block in ass]\n",
    "colors[frame] .= RGB(1,0,0)\n",
    "\n",
    "display(plot(ass, colors = colors, width = 400, height = 400, drawverts = false))"
   ]
  },
  {
   "cell_type": "code",
   "execution_count": null,
   "metadata": {},
   "outputs": [],
   "source": [
    "display(titest(ass, frame))"
   ]
  },
  {
   "cell_type": "code",
   "execution_count": null,
   "metadata": {},
   "outputs": [],
   "source": [
    "display(wangtest(ass, frame))"
   ]
  },
  {
   "cell_type": "markdown",
   "metadata": {},
   "source": [
    "Assembly 2: n1 = 6, n2 = 3, nmerges = 2, stack = 7"
   ]
  },
  {
   "cell_type": "code",
   "execution_count": null,
   "metadata": {},
   "outputs": [],
   "source": [
    "ass, frame = assembly2(6,3,2,7)\n",
    "colors = [RGB(0.5,0.5,0.5) for block in ass]\n",
    "colors[frame] .= RGB(1,0,0)\n",
    "\n",
    "display(plot(ass, colors = colors, width = 400, height = 400, drawverts = false))\n"
   ]
  },
  {
   "cell_type": "code",
   "execution_count": null,
   "metadata": {},
   "outputs": [],
   "source": [
    "titest(ass, frame)"
   ]
  },
  {
   "cell_type": "code",
   "execution_count": null,
   "metadata": {},
   "outputs": [],
   "source": [
    "wangtest(ass, frame)"
   ]
  },
  {
   "cell_type": "markdown",
   "metadata": {},
   "source": [
    "Assembly 2: n1 = 6, n2 = 4, nmerges = 2, stack = 7"
   ]
  },
  {
   "cell_type": "code",
   "execution_count": null,
   "metadata": {},
   "outputs": [],
   "source": [
    "ass, frame = assembly2(6,4,2,7)\n",
    "colors = [RGB(0.5,0.5,0.5) for block in ass]\n",
    "colors[frame] .= RGB(1,0,0)\n",
    "\n",
    "display(plot(ass, colors = colors, width = 600, height = 600, drawverts = false))\n"
   ]
  },
  {
   "cell_type": "code",
   "execution_count": null,
   "metadata": {},
   "outputs": [],
   "source": [
    "titest(ass, frame)"
   ]
  },
  {
   "cell_type": "code",
   "execution_count": null,
   "metadata": {},
   "outputs": [],
   "source": [
    "wangtest(ass, frame)"
   ]
  },
  {
   "cell_type": "markdown",
   "metadata": {},
   "source": [
    "Assembly 3: n1 = 6, towerheight = 4, ntowers = 1, nlinks = 1"
   ]
  },
  {
   "cell_type": "code",
   "execution_count": null,
   "metadata": {},
   "outputs": [],
   "source": [
    "ass, frame, link = assembly3(6,4,1,1)\n",
    "colors = [RGB(0.5,0.5,0.5) for block in ass]\n",
    "colors[frame] .= RGB(1,0,0)\n",
    "colors[link] .= RGB(0,0,1)\n",
    "\n",
    "display(plot(ass, colors = colors, width = 400, height = 400, drawverts = false))"
   ]
  },
  {
   "cell_type": "code",
   "execution_count": null,
   "metadata": {},
   "outputs": [],
   "source": [
    "titest(ass, frame)"
   ]
  },
  {
   "cell_type": "code",
   "execution_count": null,
   "metadata": {},
   "outputs": [],
   "source": [
    "wangtest(ass, frame)"
   ]
  }
 ],
 "metadata": {
  "kernelspec": {
   "display_name": "Julia 1.8.5",
   "language": "julia",
   "name": "julia-1.8"
  },
  "language_info": {
   "file_extension": ".jl",
   "mimetype": "application/julia",
   "name": "julia",
   "version": "1.8.5"
  },
  "orig_nbformat": 4,
  "vscode": {
   "interpreter": {
    "hash": "a2ac061361b194fcb51195d855160f93752d4459f9e3b172838ff5b9184122a7"
   }
  }
 },
 "nbformat": 4,
 "nbformat_minor": 2
}
