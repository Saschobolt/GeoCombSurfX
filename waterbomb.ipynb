{
 "cells": [
  {
   "cell_type": "code",
   "execution_count": 1,
   "metadata": {},
   "outputs": [
    {
     "name": "stderr",
     "output_type": "stream",
     "text": [
      "┌ Warning: Kaleido is not available on this system. Julia will be unable to save images of any plots.\n",
      "└ @ PlotlyJS C:\\Users\\sasch\\.julia\\packages\\PlotlyJS\\d9sRW\\src\\kaleido.jl:65\n"
     ]
    },
    {
     "name": "stderr",
     "output_type": "stream",
     "text": [
      "┌ Warning: ErrorException(\"Could not start Kaleido process\")\n",
      "└ @ PlotlyJS C:\\Users\\sasch\\.julia\\packages\\PlotlyJS\\d9sRW\\src\\kaleido.jl:66\n"
     ]
    },
    {
     "data": {
      "text/plain": [
       "plot (generic function with 2 methods)"
      ]
     },
     "metadata": {},
     "output_type": "display_data"
    }
   ],
   "source": [
    "include(\"src/SimplicialSurface.jl\")\n",
    "include(\"src/examples.jl\")\n",
    "include(\"src/plotting.jl\")"
   ]
  },
  {
   "cell_type": "code",
   "execution_count": 2,
   "metadata": {},
   "outputs": [
    {
     "data": {
      "text/plain": [
       "1:3:13"
      ]
     },
     "metadata": {},
     "output_type": "display_data"
    }
   ],
   "source": [
    "eta = 2\n",
    "zeta = 1\n",
    "gamma = 0.03\n",
    "del_beta = 0.015\n",
    "base_length = 1\n",
    "\n",
    "ran = 1:3:13"
   ]
  },
  {
   "cell_type": "code",
   "execution_count": 3,
   "metadata": {},
   "outputs": [
    {
     "name": "stderr",
     "output_type": "stream",
     "text": [
      "┌ Warning: Kaleido is not available on this system. Julia will be unable to save images of any plots.\n",
      "└ @ PlotlyJS C:\\Users\\sasch\\.julia\\packages\\PlotlyJS\\d9sRW\\src\\kaleido.jl:65\n"
     ]
    },
    {
     "data": {
      "application/vnd.plotly.v1+json": {
       "config": {
        "editable": false,
        "responsive": true,
        "scrollZoom": true,
        "showLink": false,
        "staticPlot": false
       },
       "data": [
        {
         "facecolor": [
          "#407FB7",
          "#407FB7",
          "#407FB7",
          "#407FB7",
          "#407FB7",
          "#407FB7",
          "#407FB7",
          "#407FB7",
          "#407FB7",
          "#407FB7",
          "#407FB7",
          "#407FB7",
          "#407FB7",
          "#407FB7",
          "#407FB7",
          "#407FB7",
          "#407FB7",
          "#407FB7"
         ],
         "i": [
          0,
          0,
          0,
          0,
          7,
          0,
          0,
          12,
          7,
          7,
          12,
          12,
          7,
          7,
          12,
          12,
          7,
          12
         ],
         "j": [
          1,
          2,
          6,
          3,
          3,
          5,
          4,
          4,
          2,
          11,
          3,
          15,
          10,
          8,
          11,
          14,
          9,
          13
         ],
         "k": [
          2,
          3,
          1,
          4,
          2,
          6,
          5,
          3,
          8,
          3,
          11,
          4,
          11,
          9,
          13,
          15,
          10,
          14
         ],
         "opacity": 0.9,
         "type": "mesh3d",
         "x": [
          0,
          -1.5090416043449524,
          0.39165646388066533,
          0.02999550020249566,
          1.5090416043449524,
          -0.39165646388066533,
          -0.02999550020249566,
          0.1979290430844575,
          -1.0554351630312246,
          0.8069545436913671,
          0.4501355172013194,
          1.8774255922350063,
          1.3327326940647908,
          1.567740315293336,
          3.028522040499942,
          1.1861645580384885
         ],
         "y": [
          0,
          1.3455306091969783,
          1.9669986166483566,
          0,
          -1.3455306091969783,
          -1.9669986166483566,
          0,
          1.9972076959055318,
          3.3082144451739057,
          3.934855191849734,
          1.9672027733306472,
          0.6286607282843827,
          -1.5073059575368741,
          -1.3465439689041683,
          -2.7063967453182523,
          -3.282116489015732
         ],
         "z": [
          0,
          0.9551653344159208,
          0.9886969487177608,
          0.9995500337489875,
          0.9551653344159208,
          0.9886969487177608,
          0.9995500337489875,
          0.008106770324109369,
          1.3159062466203588,
          0.9433126947448608,
          0.9753149170199625,
          0.5616142579032656,
          -0.01578466678151924,
          0.9428221352887258,
          0.812756083679684,
          1.3364598964737222
         ]
        },
        {
         "line": {
          "color": "#000000"
         },
         "mode": "lines",
         "type": "scatter3d",
         "x": [
          0,
          -1.5090416043449524
         ],
         "y": [
          0,
          1.3455306091969783
         ],
         "z": [
          0,
          0.9551653344159208
         ]
        },
        {
         "line": {
          "color": "#000000"
         },
         "mode": "lines",
         "type": "scatter3d",
         "x": [
          0,
          0.39165646388066533
         ],
         "y": [
          0,
          1.9669986166483566
         ],
         "z": [
          0,
          0.9886969487177608
         ]
        },
        {
         "line": {
          "color": "#000000"
         },
         "mode": "lines",
         "type": "scatter3d",
         "x": [
          0,
          0.02999550020249566
         ],
         "y": [
          0,
          0
         ],
         "z": [
          0,
          0.9995500337489875
         ]
        },
        {
         "line": {
          "color": "#000000"
         },
         "mode": "lines",
         "type": "scatter3d",
         "x": [
          0,
          1.5090416043449524
         ],
         "y": [
          0,
          -1.3455306091969783
         ],
         "z": [
          0,
          0.9551653344159208
         ]
        },
        {
         "line": {
          "color": "#000000"
         },
         "mode": "lines",
         "type": "scatter3d",
         "x": [
          0,
          -0.39165646388066533
         ],
         "y": [
          0,
          -1.9669986166483566
         ],
         "z": [
          0,
          0.9886969487177608
         ]
        },
        {
         "line": {
          "color": "#000000"
         },
         "mode": "lines",
         "type": "scatter3d",
         "x": [
          0,
          -0.02999550020249566
         ],
         "y": [
          0,
          0
         ],
         "z": [
          0,
          0.9995500337489875
         ]
        },
        {
         "line": {
          "color": "#000000"
         },
         "mode": "lines",
         "type": "scatter3d",
         "x": [
          -1.5090416043449524,
          0.39165646388066533
         ],
         "y": [
          1.3455306091969783,
          1.9669986166483566
         ],
         "z": [
          0.9551653344159208,
          0.9886969487177608
         ]
        },
        {
         "line": {
          "color": "#000000"
         },
         "mode": "lines",
         "type": "scatter3d",
         "x": [
          -1.5090416043449524,
          -0.02999550020249566
         ],
         "y": [
          1.3455306091969783,
          0
         ],
         "z": [
          0.9551653344159208,
          0.9995500337489875
         ]
        },
        {
         "line": {
          "color": "#000000"
         },
         "mode": "lines",
         "type": "scatter3d",
         "x": [
          0.39165646388066533,
          0.02999550020249566
         ],
         "y": [
          1.9669986166483566,
          0
         ],
         "z": [
          0.9886969487177608,
          0.9995500337489875
         ]
        },
        {
         "line": {
          "color": "#000000"
         },
         "mode": "lines",
         "type": "scatter3d",
         "x": [
          0.39165646388066533,
          0.1979290430844575
         ],
         "y": [
          1.9669986166483566,
          1.9972076959055318
         ],
         "z": [
          0.9886969487177608,
          0.008106770324109369
         ]
        },
        {
         "line": {
          "color": "#000000"
         },
         "mode": "lines",
         "type": "scatter3d",
         "x": [
          0.39165646388066533,
          -1.0554351630312246
         ],
         "y": [
          1.9669986166483566,
          3.3082144451739057
         ],
         "z": [
          0.9886969487177608,
          1.3159062466203588
         ]
        },
        {
         "line": {
          "color": "#000000"
         },
         "mode": "lines",
         "type": "scatter3d",
         "x": [
          0.02999550020249566,
          1.5090416043449524
         ],
         "y": [
          0,
          -1.3455306091969783
         ],
         "z": [
          0.9995500337489875,
          0.9551653344159208
         ]
        },
        {
         "line": {
          "color": "#000000"
         },
         "mode": "lines",
         "type": "scatter3d",
         "x": [
          0.02999550020249566,
          0.1979290430844575
         ],
         "y": [
          0,
          1.9972076959055318
         ],
         "z": [
          0.9995500337489875,
          0.008106770324109369
         ]
        },
        {
         "line": {
          "color": "#000000"
         },
         "mode": "lines",
         "type": "scatter3d",
         "x": [
          0.02999550020249566,
          1.8774255922350063
         ],
         "y": [
          0,
          0.6286607282843827
         ],
         "z": [
          0.9995500337489875,
          0.5616142579032656
         ]
        },
        {
         "line": {
          "color": "#000000"
         },
         "mode": "lines",
         "type": "scatter3d",
         "x": [
          0.02999550020249566,
          1.3327326940647908
         ],
         "y": [
          0,
          -1.5073059575368741
         ],
         "z": [
          0.9995500337489875,
          -0.01578466678151924
         ]
        },
        {
         "line": {
          "color": "#000000"
         },
         "mode": "lines",
         "type": "scatter3d",
         "x": [
          1.5090416043449524,
          -0.39165646388066533
         ],
         "y": [
          -1.3455306091969783,
          -1.9669986166483566
         ],
         "z": [
          0.9551653344159208,
          0.9886969487177608
         ]
        },
        {
         "line": {
          "color": "#000000"
         },
         "mode": "lines",
         "type": "scatter3d",
         "x": [
          1.5090416043449524,
          1.3327326940647908
         ],
         "y": [
          -1.3455306091969783,
          -1.5073059575368741
         ],
         "z": [
          0.9551653344159208,
          -0.01578466678151924
         ]
        },
        {
         "line": {
          "color": "#000000"
         },
         "mode": "lines",
         "type": "scatter3d",
         "x": [
          1.5090416043449524,
          1.1861645580384885
         ],
         "y": [
          -1.3455306091969783,
          -3.282116489015732
         ],
         "z": [
          0.9551653344159208,
          1.3364598964737222
         ]
        },
        {
         "line": {
          "color": "#000000"
         },
         "mode": "lines",
         "type": "scatter3d",
         "x": [
          -0.39165646388066533,
          -0.02999550020249566
         ],
         "y": [
          -1.9669986166483566,
          0
         ],
         "z": [
          0.9886969487177608,
          0.9995500337489875
         ]
        },
        {
         "line": {
          "color": "#000000"
         },
         "mode": "lines",
         "type": "scatter3d",
         "x": [
          0.1979290430844575,
          -1.0554351630312246
         ],
         "y": [
          1.9972076959055318,
          3.3082144451739057
         ],
         "z": [
          0.008106770324109369,
          1.3159062466203588
         ]
        },
        {
         "line": {
          "color": "#000000"
         },
         "mode": "lines",
         "type": "scatter3d",
         "x": [
          0.1979290430844575,
          0.8069545436913671
         ],
         "y": [
          1.9972076959055318,
          3.934855191849734
         ],
         "z": [
          0.008106770324109369,
          0.9433126947448608
         ]
        },
        {
         "line": {
          "color": "#000000"
         },
         "mode": "lines",
         "type": "scatter3d",
         "x": [
          0.1979290430844575,
          0.4501355172013194
         ],
         "y": [
          1.9972076959055318,
          1.9672027733306472
         ],
         "z": [
          0.008106770324109369,
          0.9753149170199625
         ]
        },
        {
         "line": {
          "color": "#000000"
         },
         "mode": "lines",
         "type": "scatter3d",
         "x": [
          0.1979290430844575,
          1.8774255922350063
         ],
         "y": [
          1.9972076959055318,
          0.6286607282843827
         ],
         "z": [
          0.008106770324109369,
          0.5616142579032656
         ]
        },
        {
         "line": {
          "color": "#000000"
         },
         "mode": "lines",
         "type": "scatter3d",
         "x": [
          -1.0554351630312246,
          0.8069545436913671
         ],
         "y": [
          3.3082144451739057,
          3.934855191849734
         ],
         "z": [
          1.3159062466203588,
          0.9433126947448608
         ]
        },
        {
         "line": {
          "color": "#000000"
         },
         "mode": "lines",
         "type": "scatter3d",
         "x": [
          0.8069545436913671,
          0.4501355172013194
         ],
         "y": [
          3.934855191849734,
          1.9672027733306472
         ],
         "z": [
          0.9433126947448608,
          0.9753149170199625
         ]
        },
        {
         "line": {
          "color": "#000000"
         },
         "mode": "lines",
         "type": "scatter3d",
         "x": [
          0.4501355172013194,
          1.8774255922350063
         ],
         "y": [
          1.9672027733306472,
          0.6286607282843827
         ],
         "z": [
          0.9753149170199625,
          0.5616142579032656
         ]
        },
        {
         "line": {
          "color": "#000000"
         },
         "mode": "lines",
         "type": "scatter3d",
         "x": [
          1.8774255922350063,
          1.3327326940647908
         ],
         "y": [
          0.6286607282843827,
          -1.5073059575368741
         ],
         "z": [
          0.5616142579032656,
          -0.01578466678151924
         ]
        },
        {
         "line": {
          "color": "#000000"
         },
         "mode": "lines",
         "type": "scatter3d",
         "x": [
          1.8774255922350063,
          1.567740315293336
         ],
         "y": [
          0.6286607282843827,
          -1.3465439689041683
         ],
         "z": [
          0.5616142579032656,
          0.9428221352887258
         ]
        },
        {
         "line": {
          "color": "#000000"
         },
         "mode": "lines",
         "type": "scatter3d",
         "x": [
          1.3327326940647908,
          1.567740315293336
         ],
         "y": [
          -1.5073059575368741,
          -1.3465439689041683
         ],
         "z": [
          -0.01578466678151924,
          0.9428221352887258
         ]
        },
        {
         "line": {
          "color": "#000000"
         },
         "mode": "lines",
         "type": "scatter3d",
         "x": [
          1.3327326940647908,
          3.028522040499942
         ],
         "y": [
          -1.5073059575368741,
          -2.7063967453182523
         ],
         "z": [
          -0.01578466678151924,
          0.812756083679684
         ]
        },
        {
         "line": {
          "color": "#000000"
         },
         "mode": "lines",
         "type": "scatter3d",
         "x": [
          1.3327326940647908,
          1.1861645580384885
         ],
         "y": [
          -1.5073059575368741,
          -3.282116489015732
         ],
         "z": [
          -0.01578466678151924,
          1.3364598964737222
         ]
        },
        {
         "line": {
          "color": "#000000"
         },
         "mode": "lines",
         "type": "scatter3d",
         "x": [
          1.567740315293336,
          3.028522040499942
         ],
         "y": [
          -1.3465439689041683,
          -2.7063967453182523
         ],
         "z": [
          0.9428221352887258,
          0.812756083679684
         ]
        },
        {
         "line": {
          "color": "#000000"
         },
         "mode": "lines",
         "type": "scatter3d",
         "x": [
          3.028522040499942,
          1.1861645580384885
         ],
         "y": [
          -2.7063967453182523,
          -3.282116489015732
         ],
         "z": [
          0.812756083679684,
          1.3364598964737222
         ]
        }
       ],
       "frames": [],
       "layout": {
        "height": 400,
        "margin": {
         "b": 50,
         "l": 50,
         "r": 50,
         "t": 60
        },
        "scene": {
         "aspectmode": "data",
         "autosize": true,
         "camera": {
          "eye": {
           "x": 1.8,
           "y": 1,
           "z": 1.8
          }
         },
         "xaxis": {
          "showaxeslabels": false,
          "showbackground": false,
          "showticklabels": false,
          "title": {
           "text": ""
          }
         },
         "yaxis": {
          "showaxeslabels": false,
          "showbackground": false,
          "showticklabels": false,
          "title": {
           "text": ""
          }
         },
         "zaxis": {
          "showaxeslabels": false,
          "showbackground": false,
          "showticklabels": false,
          "title": {
           "text": ""
          }
         }
        },
        "showlegend": false,
        "template": {
         "data": {
          "bar": [
           {
            "error_x": {
             "color": "#2a3f5f"
            },
            "error_y": {
             "color": "#2a3f5f"
            },
            "marker": {
             "line": {
              "color": "#E5ECF6",
              "width": 0.5
             }
            },
            "type": "bar"
           }
          ],
          "barpolar": [
           {
            "marker": {
             "line": {
              "color": "#E5ECF6",
              "width": 0.5
             }
            },
            "type": "barpolar"
           }
          ],
          "carpet": [
           {
            "aaxis": {
             "endlinecolor": "#2a3f5f",
             "gridcolor": "white",
             "linecolor": "white",
             "minorgridcolor": "white",
             "startlinecolor": "#2a3f5f"
            },
            "baxis": {
             "endlinecolor": "#2a3f5f",
             "gridcolor": "white",
             "linecolor": "white",
             "minorgridcolor": "white",
             "startlinecolor": "#2a3f5f"
            },
            "type": "carpet"
           }
          ],
          "choropleth": [
           {
            "colorbar": {
             "outlinewidth": 0,
             "ticks": ""
            },
            "type": "choropleth"
           }
          ],
          "contour": [
           {
            "colorbar": {
             "outlinewidth": 0,
             "ticks": ""
            },
            "colorscale": [
             [
              0,
              "#0d0887"
             ],
             [
              0.1111111111111111,
              "#46039f"
             ],
             [
              0.2222222222222222,
              "#7201a8"
             ],
             [
              0.3333333333333333,
              "#9c179e"
             ],
             [
              0.4444444444444444,
              "#bd3786"
             ],
             [
              0.5555555555555556,
              "#d8576b"
             ],
             [
              0.6666666666666666,
              "#ed7953"
             ],
             [
              0.7777777777777778,
              "#fb9f3a"
             ],
             [
              0.8888888888888888,
              "#fdca26"
             ],
             [
              1,
              "#f0f921"
             ]
            ],
            "type": "contour"
           }
          ],
          "contourcarpet": [
           {
            "colorbar": {
             "outlinewidth": 0,
             "ticks": ""
            },
            "type": "contourcarpet"
           }
          ],
          "heatmap": [
           {
            "colorbar": {
             "outlinewidth": 0,
             "ticks": ""
            },
            "colorscale": [
             [
              0,
              "#0d0887"
             ],
             [
              0.1111111111111111,
              "#46039f"
             ],
             [
              0.2222222222222222,
              "#7201a8"
             ],
             [
              0.3333333333333333,
              "#9c179e"
             ],
             [
              0.4444444444444444,
              "#bd3786"
             ],
             [
              0.5555555555555556,
              "#d8576b"
             ],
             [
              0.6666666666666666,
              "#ed7953"
             ],
             [
              0.7777777777777778,
              "#fb9f3a"
             ],
             [
              0.8888888888888888,
              "#fdca26"
             ],
             [
              1,
              "#f0f921"
             ]
            ],
            "type": "heatmap"
           }
          ],
          "heatmapgl": [
           {
            "colorbar": {
             "outlinewidth": 0,
             "ticks": ""
            },
            "colorscale": [
             [
              0,
              "#0d0887"
             ],
             [
              0.1111111111111111,
              "#46039f"
             ],
             [
              0.2222222222222222,
              "#7201a8"
             ],
             [
              0.3333333333333333,
              "#9c179e"
             ],
             [
              0.4444444444444444,
              "#bd3786"
             ],
             [
              0.5555555555555556,
              "#d8576b"
             ],
             [
              0.6666666666666666,
              "#ed7953"
             ],
             [
              0.7777777777777778,
              "#fb9f3a"
             ],
             [
              0.8888888888888888,
              "#fdca26"
             ],
             [
              1,
              "#f0f921"
             ]
            ],
            "type": "heatmapgl"
           }
          ],
          "histogram": [
           {
            "marker": {
             "colorbar": {
              "outlinewidth": 0,
              "ticks": ""
             }
            },
            "type": "histogram"
           }
          ],
          "histogram2d": [
           {
            "colorbar": {
             "outlinewidth": 0,
             "ticks": ""
            },
            "colorscale": [
             [
              0,
              "#0d0887"
             ],
             [
              0.1111111111111111,
              "#46039f"
             ],
             [
              0.2222222222222222,
              "#7201a8"
             ],
             [
              0.3333333333333333,
              "#9c179e"
             ],
             [
              0.4444444444444444,
              "#bd3786"
             ],
             [
              0.5555555555555556,
              "#d8576b"
             ],
             [
              0.6666666666666666,
              "#ed7953"
             ],
             [
              0.7777777777777778,
              "#fb9f3a"
             ],
             [
              0.8888888888888888,
              "#fdca26"
             ],
             [
              1,
              "#f0f921"
             ]
            ],
            "type": "histogram2d"
           }
          ],
          "histogram2dcontour": [
           {
            "colorbar": {
             "outlinewidth": 0,
             "ticks": ""
            },
            "colorscale": [
             [
              0,
              "#0d0887"
             ],
             [
              0.1111111111111111,
              "#46039f"
             ],
             [
              0.2222222222222222,
              "#7201a8"
             ],
             [
              0.3333333333333333,
              "#9c179e"
             ],
             [
              0.4444444444444444,
              "#bd3786"
             ],
             [
              0.5555555555555556,
              "#d8576b"
             ],
             [
              0.6666666666666666,
              "#ed7953"
             ],
             [
              0.7777777777777778,
              "#fb9f3a"
             ],
             [
              0.8888888888888888,
              "#fdca26"
             ],
             [
              1,
              "#f0f921"
             ]
            ],
            "type": "histogram2dcontour"
           }
          ],
          "mesh3d": [
           {
            "colorbar": {
             "outlinewidth": 0,
             "ticks": ""
            },
            "type": "mesh3d"
           }
          ],
          "parcoords": [
           {
            "line": {
             "colorbar": {
              "outlinewidth": 0,
              "ticks": ""
             }
            },
            "type": "parcoords"
           }
          ],
          "pie": [
           {
            "automargin": true,
            "type": "pie"
           }
          ],
          "scatter": [
           {
            "marker": {
             "colorbar": {
              "outlinewidth": 0,
              "ticks": ""
             }
            },
            "type": "scatter"
           }
          ],
          "scatter3d": [
           {
            "line": {
             "colorbar": {
              "outlinewidth": 0,
              "ticks": ""
             }
            },
            "marker": {
             "colorbar": {
              "outlinewidth": 0,
              "ticks": ""
             }
            },
            "type": "scatter3d"
           }
          ],
          "scattercarpet": [
           {
            "marker": {
             "colorbar": {
              "outlinewidth": 0,
              "ticks": ""
             }
            },
            "type": "scattercarpet"
           }
          ],
          "scattergeo": [
           {
            "marker": {
             "colorbar": {
              "outlinewidth": 0,
              "ticks": ""
             }
            },
            "type": "scattergeo"
           }
          ],
          "scattergl": [
           {
            "marker": {
             "colorbar": {
              "outlinewidth": 0,
              "ticks": ""
             }
            },
            "type": "scattergl"
           }
          ],
          "scattermapbox": [
           {
            "marker": {
             "colorbar": {
              "outlinewidth": 0,
              "ticks": ""
             }
            },
            "type": "scattermapbox"
           }
          ],
          "scatterpolar": [
           {
            "marker": {
             "colorbar": {
              "outlinewidth": 0,
              "ticks": ""
             }
            },
            "type": "scatterpolar"
           }
          ],
          "scatterpolargl": [
           {
            "marker": {
             "colorbar": {
              "outlinewidth": 0,
              "ticks": ""
             }
            },
            "type": "scatterpolargl"
           }
          ],
          "scatterternary": [
           {
            "marker": {
             "colorbar": {
              "outlinewidth": 0,
              "ticks": ""
             }
            },
            "type": "scatterternary"
           }
          ],
          "surface": [
           {
            "colorbar": {
             "outlinewidth": 0,
             "ticks": ""
            },
            "colorscale": [
             [
              0,
              "#0d0887"
             ],
             [
              0.1111111111111111,
              "#46039f"
             ],
             [
              0.2222222222222222,
              "#7201a8"
             ],
             [
              0.3333333333333333,
              "#9c179e"
             ],
             [
              0.4444444444444444,
              "#bd3786"
             ],
             [
              0.5555555555555556,
              "#d8576b"
             ],
             [
              0.6666666666666666,
              "#ed7953"
             ],
             [
              0.7777777777777778,
              "#fb9f3a"
             ],
             [
              0.8888888888888888,
              "#fdca26"
             ],
             [
              1,
              "#f0f921"
             ]
            ],
            "type": "surface"
           }
          ],
          "table": [
           {
            "cells": {
             "fill": {
              "color": "#EBF0F8"
             },
             "line": {
              "color": "white"
             }
            },
            "header": {
             "fill": {
              "color": "#C8D4E3"
             },
             "line": {
              "color": "white"
             }
            },
            "type": "table"
           }
          ]
         },
         "layout": {
          "annotationdefaults": {
           "arrowcolor": "#2a3f5f",
           "arrowhead": 0,
           "arrowwidth": 1
          },
          "autotypenumbers": "strict",
          "coloraxis": {
           "colorbar": {
            "outlinewidth": 0,
            "ticks": ""
           }
          },
          "colorscale": {
           "diverging": [
            [
             0,
             "#8e0152"
            ],
            [
             0.1,
             "#c51b7d"
            ],
            [
             0.2,
             "#de77ae"
            ],
            [
             0.3,
             "#f1b6da"
            ],
            [
             0.4,
             "#fde0ef"
            ],
            [
             0.5,
             "#f7f7f7"
            ],
            [
             0.6,
             "#e6f5d0"
            ],
            [
             0.7,
             "#b8e186"
            ],
            [
             0.8,
             "#7fbc41"
            ],
            [
             0.9,
             "#4d9221"
            ],
            [
             1,
             "#276419"
            ]
           ],
           "sequential": [
            [
             0,
             "#0d0887"
            ],
            [
             0.1111111111111111,
             "#46039f"
            ],
            [
             0.2222222222222222,
             "#7201a8"
            ],
            [
             0.3333333333333333,
             "#9c179e"
            ],
            [
             0.4444444444444444,
             "#bd3786"
            ],
            [
             0.5555555555555556,
             "#d8576b"
            ],
            [
             0.6666666666666666,
             "#ed7953"
            ],
            [
             0.7777777777777778,
             "#fb9f3a"
            ],
            [
             0.8888888888888888,
             "#fdca26"
            ],
            [
             1,
             "#f0f921"
            ]
           ],
           "sequentialminus": [
            [
             0,
             "#0d0887"
            ],
            [
             0.1111111111111111,
             "#46039f"
            ],
            [
             0.2222222222222222,
             "#7201a8"
            ],
            [
             0.3333333333333333,
             "#9c179e"
            ],
            [
             0.4444444444444444,
             "#bd3786"
            ],
            [
             0.5555555555555556,
             "#d8576b"
            ],
            [
             0.6666666666666666,
             "#ed7953"
            ],
            [
             0.7777777777777778,
             "#fb9f3a"
            ],
            [
             0.8888888888888888,
             "#fdca26"
            ],
            [
             1,
             "#f0f921"
            ]
           ]
          },
          "colorway": [
           "#636efa",
           "#EF553B",
           "#00cc96",
           "#ab63fa",
           "#FFA15A",
           "#19d3f3",
           "#FF6692",
           "#B6E880",
           "#FF97FF",
           "#FECB52"
          ],
          "font": {
           "color": "#2a3f5f"
          },
          "geo": {
           "bgcolor": "white",
           "lakecolor": "white",
           "landcolor": "#E5ECF6",
           "showlakes": true,
           "showland": true,
           "subunitcolor": "white"
          },
          "hoverlabel": {
           "align": "left"
          },
          "hovermode": "closest",
          "mapbox": {
           "style": "light"
          },
          "paper_bgcolor": "white",
          "plot_bgcolor": "#E5ECF6",
          "polar": {
           "angularaxis": {
            "gridcolor": "white",
            "linecolor": "white",
            "ticks": ""
           },
           "bgcolor": "#E5ECF6",
           "radialaxis": {
            "gridcolor": "white",
            "linecolor": "white",
            "ticks": ""
           }
          },
          "scene": {
           "xaxis": {
            "backgroundcolor": "#E5ECF6",
            "gridcolor": "white",
            "gridwidth": 2,
            "linecolor": "white",
            "showbackground": true,
            "ticks": "",
            "zerolinecolor": "white"
           },
           "yaxis": {
            "backgroundcolor": "#E5ECF6",
            "gridcolor": "white",
            "gridwidth": 2,
            "linecolor": "white",
            "showbackground": true,
            "ticks": "",
            "zerolinecolor": "white"
           },
           "zaxis": {
            "backgroundcolor": "#E5ECF6",
            "gridcolor": "white",
            "gridwidth": 2,
            "linecolor": "white",
            "showbackground": true,
            "ticks": "",
            "zerolinecolor": "white"
           }
          },
          "shapedefaults": {
           "line": {
            "color": "#2a3f5f"
           }
          },
          "ternary": {
           "aaxis": {
            "gridcolor": "white",
            "linecolor": "white",
            "ticks": ""
           },
           "baxis": {
            "gridcolor": "white",
            "linecolor": "white",
            "ticks": ""
           },
           "bgcolor": "#E5ECF6",
           "caxis": {
            "gridcolor": "white",
            "linecolor": "white",
            "ticks": ""
           }
          },
          "title": {
           "x": 0.05
          },
          "xaxis": {
           "automargin": true,
           "gridcolor": "white",
           "linecolor": "white",
           "ticks": "",
           "title": {
            "standoff": 15
           },
           "zerolinecolor": "white",
           "zerolinewidth": 2
          },
          "yaxis": {
           "automargin": true,
           "gridcolor": "white",
           "linecolor": "white",
           "ticks": "",
           "title": {
            "standoff": 15
           },
           "zerolinecolor": "white",
           "zerolinewidth": 2
          }
         }
        },
        "width": 400
       }
      },
      "text/html": [
       "<html>\n",
       "<head><meta charset=\"utf-8\" /></head>\n",
       "<body>\n",
       "<div>\n",
       "    <script src=\"https://cdnjs.cloudflare.com/ajax/libs/mathjax/2.7.5/MathJax.js?config=TeX-AMS-MML_SVG\"></script>\n",
       "    <script type=\"text/javascript\">\n",
       "window.PlotlyConfig = {MathJaxConfig: 'local'};\n",
       "</script>\n",
       "<script src=\"https://cdn.plot.ly/plotly-2.3.0.min.js\"></script>\n",
       "\n",
       "    <div\n",
       "        id=1205c0a4-5b39-4b02-8524-7d8592eb56f9\n",
       "        class=\"plotly-graph-div\"\n",
       "        style=\"height:400; width:400;\">\n",
       "    </div>\n",
       "    <script type=\"text/javascript\">\n",
       "        \n",
       "        window.PLOTLYENV = window.PLOTLYENV || {}\n",
       "        \n",
       "        if (document.getElementById('1205c0a4-5b39-4b02-8524-7d8592eb56f9')) {\n",
       "    Plotly.newPlot(\n",
       "        '1205c0a4-5b39-4b02-8524-7d8592eb56f9',\n",
       "        [{\"y\":[0.0,1.3455306091969783,1.9669986166483566,0.0,-1.3455306091969783,-1.9669986166483566,0.0,1.9972076959055318,3.3082144451739057,3.934855191849734,1.9672027733306472,0.6286607282843827,-1.5073059575368741,-1.3465439689041683,-2.7063967453182523,-3.282116489015732],\"type\":\"mesh3d\",\"j\":[1,2,6,3,3,5,4,4,2,11,3,15,10,8,11,14,9,13],\"k\":[2,3,1,4,2,6,5,3,8,3,11,4,11,9,13,15,10,14],\"opacity\":0.9,\"z\":[0.0,0.9551653344159208,0.9886969487177608,0.9995500337489875,0.9551653344159208,0.9886969487177608,0.9995500337489875,0.008106770324109369,1.3159062466203588,0.9433126947448608,0.9753149170199625,0.5616142579032656,-0.01578466678151924,0.9428221352887258,0.812756083679684,1.3364598964737222],\"i\":[0,0,0,0,7,0,0,12,7,7,12,12,7,7,12,12,7,12],\"facecolor\":[\"#407FB7\",\"#407FB7\",\"#407FB7\",\"#407FB7\",\"#407FB7\",\"#407FB7\",\"#407FB7\",\"#407FB7\",\"#407FB7\",\"#407FB7\",\"#407FB7\",\"#407FB7\",\"#407FB7\",\"#407FB7\",\"#407FB7\",\"#407FB7\",\"#407FB7\",\"#407FB7\"],\"x\":[0.0,-1.5090416043449524,0.39165646388066533,0.02999550020249566,1.5090416043449524,-0.39165646388066533,-0.02999550020249566,0.1979290430844575,-1.0554351630312246,0.8069545436913671,0.4501355172013194,1.8774255922350063,1.3327326940647908,1.567740315293336,3.028522040499942,1.1861645580384885]},{\"mode\":\"lines\",\"line\":{\"color\":\"#000000\"},\"y\":[0.0,1.3455306091969783],\"type\":\"scatter3d\",\"z\":[0.0,0.9551653344159208],\"x\":[0.0,-1.5090416043449524]},{\"mode\":\"lines\",\"line\":{\"color\":\"#000000\"},\"y\":[0.0,1.9669986166483566],\"type\":\"scatter3d\",\"z\":[0.0,0.9886969487177608],\"x\":[0.0,0.39165646388066533]},{\"mode\":\"lines\",\"line\":{\"color\":\"#000000\"},\"y\":[0.0,0.0],\"type\":\"scatter3d\",\"z\":[0.0,0.9995500337489875],\"x\":[0.0,0.02999550020249566]},{\"mode\":\"lines\",\"line\":{\"color\":\"#000000\"},\"y\":[0.0,-1.3455306091969783],\"type\":\"scatter3d\",\"z\":[0.0,0.9551653344159208],\"x\":[0.0,1.5090416043449524]},{\"mode\":\"lines\",\"line\":{\"color\":\"#000000\"},\"y\":[0.0,-1.9669986166483566],\"type\":\"scatter3d\",\"z\":[0.0,0.9886969487177608],\"x\":[0.0,-0.39165646388066533]},{\"mode\":\"lines\",\"line\":{\"color\":\"#000000\"},\"y\":[0.0,0.0],\"type\":\"scatter3d\",\"z\":[0.0,0.9995500337489875],\"x\":[0.0,-0.02999550020249566]},{\"mode\":\"lines\",\"line\":{\"color\":\"#000000\"},\"y\":[1.3455306091969783,1.9669986166483566],\"type\":\"scatter3d\",\"z\":[0.9551653344159208,0.9886969487177608],\"x\":[-1.5090416043449524,0.39165646388066533]},{\"mode\":\"lines\",\"line\":{\"color\":\"#000000\"},\"y\":[1.3455306091969783,0.0],\"type\":\"scatter3d\",\"z\":[0.9551653344159208,0.9995500337489875],\"x\":[-1.5090416043449524,-0.02999550020249566]},{\"mode\":\"lines\",\"line\":{\"color\":\"#000000\"},\"y\":[1.9669986166483566,0.0],\"type\":\"scatter3d\",\"z\":[0.9886969487177608,0.9995500337489875],\"x\":[0.39165646388066533,0.02999550020249566]},{\"mode\":\"lines\",\"line\":{\"color\":\"#000000\"},\"y\":[1.9669986166483566,1.9972076959055318],\"type\":\"scatter3d\",\"z\":[0.9886969487177608,0.008106770324109369],\"x\":[0.39165646388066533,0.1979290430844575]},{\"mode\":\"lines\",\"line\":{\"color\":\"#000000\"},\"y\":[1.9669986166483566,3.3082144451739057],\"type\":\"scatter3d\",\"z\":[0.9886969487177608,1.3159062466203588],\"x\":[0.39165646388066533,-1.0554351630312246]},{\"mode\":\"lines\",\"line\":{\"color\":\"#000000\"},\"y\":[0.0,-1.3455306091969783],\"type\":\"scatter3d\",\"z\":[0.9995500337489875,0.9551653344159208],\"x\":[0.02999550020249566,1.5090416043449524]},{\"mode\":\"lines\",\"line\":{\"color\":\"#000000\"},\"y\":[0.0,1.9972076959055318],\"type\":\"scatter3d\",\"z\":[0.9995500337489875,0.008106770324109369],\"x\":[0.02999550020249566,0.1979290430844575]},{\"mode\":\"lines\",\"line\":{\"color\":\"#000000\"},\"y\":[0.0,0.6286607282843827],\"type\":\"scatter3d\",\"z\":[0.9995500337489875,0.5616142579032656],\"x\":[0.02999550020249566,1.8774255922350063]},{\"mode\":\"lines\",\"line\":{\"color\":\"#000000\"},\"y\":[0.0,-1.5073059575368741],\"type\":\"scatter3d\",\"z\":[0.9995500337489875,-0.01578466678151924],\"x\":[0.02999550020249566,1.3327326940647908]},{\"mode\":\"lines\",\"line\":{\"color\":\"#000000\"},\"y\":[-1.3455306091969783,-1.9669986166483566],\"type\":\"scatter3d\",\"z\":[0.9551653344159208,0.9886969487177608],\"x\":[1.5090416043449524,-0.39165646388066533]},{\"mode\":\"lines\",\"line\":{\"color\":\"#000000\"},\"y\":[-1.3455306091969783,-1.5073059575368741],\"type\":\"scatter3d\",\"z\":[0.9551653344159208,-0.01578466678151924],\"x\":[1.5090416043449524,1.3327326940647908]},{\"mode\":\"lines\",\"line\":{\"color\":\"#000000\"},\"y\":[-1.3455306091969783,-3.282116489015732],\"type\":\"scatter3d\",\"z\":[0.9551653344159208,1.3364598964737222],\"x\":[1.5090416043449524,1.1861645580384885]},{\"mode\":\"lines\",\"line\":{\"color\":\"#000000\"},\"y\":[-1.9669986166483566,0.0],\"type\":\"scatter3d\",\"z\":[0.9886969487177608,0.9995500337489875],\"x\":[-0.39165646388066533,-0.02999550020249566]},{\"mode\":\"lines\",\"line\":{\"color\":\"#000000\"},\"y\":[1.9972076959055318,3.3082144451739057],\"type\":\"scatter3d\",\"z\":[0.008106770324109369,1.3159062466203588],\"x\":[0.1979290430844575,-1.0554351630312246]},{\"mode\":\"lines\",\"line\":{\"color\":\"#000000\"},\"y\":[1.9972076959055318,3.934855191849734],\"type\":\"scatter3d\",\"z\":[0.008106770324109369,0.9433126947448608],\"x\":[0.1979290430844575,0.8069545436913671]},{\"mode\":\"lines\",\"line\":{\"color\":\"#000000\"},\"y\":[1.9972076959055318,1.9672027733306472],\"type\":\"scatter3d\",\"z\":[0.008106770324109369,0.9753149170199625],\"x\":[0.1979290430844575,0.4501355172013194]},{\"mode\":\"lines\",\"line\":{\"color\":\"#000000\"},\"y\":[1.9972076959055318,0.6286607282843827],\"type\":\"scatter3d\",\"z\":[0.008106770324109369,0.5616142579032656],\"x\":[0.1979290430844575,1.8774255922350063]},{\"mode\":\"lines\",\"line\":{\"color\":\"#000000\"},\"y\":[3.3082144451739057,3.934855191849734],\"type\":\"scatter3d\",\"z\":[1.3159062466203588,0.9433126947448608],\"x\":[-1.0554351630312246,0.8069545436913671]},{\"mode\":\"lines\",\"line\":{\"color\":\"#000000\"},\"y\":[3.934855191849734,1.9672027733306472],\"type\":\"scatter3d\",\"z\":[0.9433126947448608,0.9753149170199625],\"x\":[0.8069545436913671,0.4501355172013194]},{\"mode\":\"lines\",\"line\":{\"color\":\"#000000\"},\"y\":[1.9672027733306472,0.6286607282843827],\"type\":\"scatter3d\",\"z\":[0.9753149170199625,0.5616142579032656],\"x\":[0.4501355172013194,1.8774255922350063]},{\"mode\":\"lines\",\"line\":{\"color\":\"#000000\"},\"y\":[0.6286607282843827,-1.5073059575368741],\"type\":\"scatter3d\",\"z\":[0.5616142579032656,-0.01578466678151924],\"x\":[1.8774255922350063,1.3327326940647908]},{\"mode\":\"lines\",\"line\":{\"color\":\"#000000\"},\"y\":[0.6286607282843827,-1.3465439689041683],\"type\":\"scatter3d\",\"z\":[0.5616142579032656,0.9428221352887258],\"x\":[1.8774255922350063,1.567740315293336]},{\"mode\":\"lines\",\"line\":{\"color\":\"#000000\"},\"y\":[-1.5073059575368741,-1.3465439689041683],\"type\":\"scatter3d\",\"z\":[-0.01578466678151924,0.9428221352887258],\"x\":[1.3327326940647908,1.567740315293336]},{\"mode\":\"lines\",\"line\":{\"color\":\"#000000\"},\"y\":[-1.5073059575368741,-2.7063967453182523],\"type\":\"scatter3d\",\"z\":[-0.01578466678151924,0.812756083679684],\"x\":[1.3327326940647908,3.028522040499942]},{\"mode\":\"lines\",\"line\":{\"color\":\"#000000\"},\"y\":[-1.5073059575368741,-3.282116489015732],\"type\":\"scatter3d\",\"z\":[-0.01578466678151924,1.3364598964737222],\"x\":[1.3327326940647908,1.1861645580384885]},{\"mode\":\"lines\",\"line\":{\"color\":\"#000000\"},\"y\":[-1.3465439689041683,-2.7063967453182523],\"type\":\"scatter3d\",\"z\":[0.9428221352887258,0.812756083679684],\"x\":[1.567740315293336,3.028522040499942]},{\"mode\":\"lines\",\"line\":{\"color\":\"#000000\"},\"y\":[-2.7063967453182523,-3.282116489015732],\"type\":\"scatter3d\",\"z\":[0.812756083679684,1.3364598964737222],\"x\":[3.028522040499942,1.1861645580384885]}],\n",
       "        {\"showlegend\":false,\"template\":{\"layout\":{\"coloraxis\":{\"colorbar\":{\"ticks\":\"\",\"outlinewidth\":0}},\"xaxis\":{\"gridcolor\":\"white\",\"zerolinewidth\":2,\"title\":{\"standoff\":15},\"ticks\":\"\",\"zerolinecolor\":\"white\",\"automargin\":true,\"linecolor\":\"white\"},\"hovermode\":\"closest\",\"paper_bgcolor\":\"white\",\"geo\":{\"showlakes\":true,\"showland\":true,\"landcolor\":\"#E5ECF6\",\"bgcolor\":\"white\",\"subunitcolor\":\"white\",\"lakecolor\":\"white\"},\"colorscale\":{\"sequential\":[[0.0,\"#0d0887\"],[0.1111111111111111,\"#46039f\"],[0.2222222222222222,\"#7201a8\"],[0.3333333333333333,\"#9c179e\"],[0.4444444444444444,\"#bd3786\"],[0.5555555555555556,\"#d8576b\"],[0.6666666666666666,\"#ed7953\"],[0.7777777777777778,\"#fb9f3a\"],[0.8888888888888888,\"#fdca26\"],[1.0,\"#f0f921\"]],\"diverging\":[[0,\"#8e0152\"],[0.1,\"#c51b7d\"],[0.2,\"#de77ae\"],[0.3,\"#f1b6da\"],[0.4,\"#fde0ef\"],[0.5,\"#f7f7f7\"],[0.6,\"#e6f5d0\"],[0.7,\"#b8e186\"],[0.8,\"#7fbc41\"],[0.9,\"#4d9221\"],[1,\"#276419\"]],\"sequentialminus\":[[0.0,\"#0d0887\"],[0.1111111111111111,\"#46039f\"],[0.2222222222222222,\"#7201a8\"],[0.3333333333333333,\"#9c179e\"],[0.4444444444444444,\"#bd3786\"],[0.5555555555555556,\"#d8576b\"],[0.6666666666666666,\"#ed7953\"],[0.7777777777777778,\"#fb9f3a\"],[0.8888888888888888,\"#fdca26\"],[1.0,\"#f0f921\"]]},\"yaxis\":{\"gridcolor\":\"white\",\"zerolinewidth\":2,\"title\":{\"standoff\":15},\"ticks\":\"\",\"zerolinecolor\":\"white\",\"automargin\":true,\"linecolor\":\"white\"},\"shapedefaults\":{\"line\":{\"color\":\"#2a3f5f\"}},\"hoverlabel\":{\"align\":\"left\"},\"mapbox\":{\"style\":\"light\"},\"polar\":{\"angularaxis\":{\"gridcolor\":\"white\",\"ticks\":\"\",\"linecolor\":\"white\"},\"bgcolor\":\"#E5ECF6\",\"radialaxis\":{\"gridcolor\":\"white\",\"ticks\":\"\",\"linecolor\":\"white\"}},\"autotypenumbers\":\"strict\",\"font\":{\"color\":\"#2a3f5f\"},\"ternary\":{\"baxis\":{\"gridcolor\":\"white\",\"ticks\":\"\",\"linecolor\":\"white\"},\"bgcolor\":\"#E5ECF6\",\"caxis\":{\"gridcolor\":\"white\",\"ticks\":\"\",\"linecolor\":\"white\"},\"aaxis\":{\"gridcolor\":\"white\",\"ticks\":\"\",\"linecolor\":\"white\"}},\"annotationdefaults\":{\"arrowhead\":0,\"arrowwidth\":1,\"arrowcolor\":\"#2a3f5f\"},\"plot_bgcolor\":\"#E5ECF6\",\"title\":{\"x\":0.05},\"scene\":{\"xaxis\":{\"gridcolor\":\"white\",\"gridwidth\":2,\"backgroundcolor\":\"#E5ECF6\",\"ticks\":\"\",\"showbackground\":true,\"zerolinecolor\":\"white\",\"linecolor\":\"white\"},\"zaxis\":{\"gridcolor\":\"white\",\"gridwidth\":2,\"backgroundcolor\":\"#E5ECF6\",\"ticks\":\"\",\"showbackground\":true,\"zerolinecolor\":\"white\",\"linecolor\":\"white\"},\"yaxis\":{\"gridcolor\":\"white\",\"gridwidth\":2,\"backgroundcolor\":\"#E5ECF6\",\"ticks\":\"\",\"showbackground\":true,\"zerolinecolor\":\"white\",\"linecolor\":\"white\"}},\"colorway\":[\"#636efa\",\"#EF553B\",\"#00cc96\",\"#ab63fa\",\"#FFA15A\",\"#19d3f3\",\"#FF6692\",\"#B6E880\",\"#FF97FF\",\"#FECB52\"]},\"data\":{\"barpolar\":[{\"type\":\"barpolar\",\"marker\":{\"line\":{\"color\":\"#E5ECF6\",\"width\":0.5}}}],\"carpet\":[{\"aaxis\":{\"gridcolor\":\"white\",\"endlinecolor\":\"#2a3f5f\",\"minorgridcolor\":\"white\",\"startlinecolor\":\"#2a3f5f\",\"linecolor\":\"white\"},\"type\":\"carpet\",\"baxis\":{\"gridcolor\":\"white\",\"endlinecolor\":\"#2a3f5f\",\"minorgridcolor\":\"white\",\"startlinecolor\":\"#2a3f5f\",\"linecolor\":\"white\"}}],\"scatterpolar\":[{\"type\":\"scatterpolar\",\"marker\":{\"colorbar\":{\"ticks\":\"\",\"outlinewidth\":0}}}],\"parcoords\":[{\"line\":{\"colorbar\":{\"ticks\":\"\",\"outlinewidth\":0}},\"type\":\"parcoords\"}],\"scatter\":[{\"type\":\"scatter\",\"marker\":{\"colorbar\":{\"ticks\":\"\",\"outlinewidth\":0}}}],\"histogram2dcontour\":[{\"colorbar\":{\"ticks\":\"\",\"outlinewidth\":0},\"type\":\"histogram2dcontour\",\"colorscale\":[[0.0,\"#0d0887\"],[0.1111111111111111,\"#46039f\"],[0.2222222222222222,\"#7201a8\"],[0.3333333333333333,\"#9c179e\"],[0.4444444444444444,\"#bd3786\"],[0.5555555555555556,\"#d8576b\"],[0.6666666666666666,\"#ed7953\"],[0.7777777777777778,\"#fb9f3a\"],[0.8888888888888888,\"#fdca26\"],[1.0,\"#f0f921\"]]}],\"contour\":[{\"colorbar\":{\"ticks\":\"\",\"outlinewidth\":0},\"type\":\"contour\",\"colorscale\":[[0.0,\"#0d0887\"],[0.1111111111111111,\"#46039f\"],[0.2222222222222222,\"#7201a8\"],[0.3333333333333333,\"#9c179e\"],[0.4444444444444444,\"#bd3786\"],[0.5555555555555556,\"#d8576b\"],[0.6666666666666666,\"#ed7953\"],[0.7777777777777778,\"#fb9f3a\"],[0.8888888888888888,\"#fdca26\"],[1.0,\"#f0f921\"]]}],\"scattercarpet\":[{\"type\":\"scattercarpet\",\"marker\":{\"colorbar\":{\"ticks\":\"\",\"outlinewidth\":0}}}],\"mesh3d\":[{\"colorbar\":{\"ticks\":\"\",\"outlinewidth\":0},\"type\":\"mesh3d\"}],\"surface\":[{\"colorbar\":{\"ticks\":\"\",\"outlinewidth\":0},\"type\":\"surface\",\"colorscale\":[[0.0,\"#0d0887\"],[0.1111111111111111,\"#46039f\"],[0.2222222222222222,\"#7201a8\"],[0.3333333333333333,\"#9c179e\"],[0.4444444444444444,\"#bd3786\"],[0.5555555555555556,\"#d8576b\"],[0.6666666666666666,\"#ed7953\"],[0.7777777777777778,\"#fb9f3a\"],[0.8888888888888888,\"#fdca26\"],[1.0,\"#f0f921\"]]}],\"scattermapbox\":[{\"type\":\"scattermapbox\",\"marker\":{\"colorbar\":{\"ticks\":\"\",\"outlinewidth\":0}}}],\"scattergeo\":[{\"type\":\"scattergeo\",\"marker\":{\"colorbar\":{\"ticks\":\"\",\"outlinewidth\":0}}}],\"histogram\":[{\"type\":\"histogram\",\"marker\":{\"colorbar\":{\"ticks\":\"\",\"outlinewidth\":0}}}],\"pie\":[{\"type\":\"pie\",\"automargin\":true}],\"choropleth\":[{\"colorbar\":{\"ticks\":\"\",\"outlinewidth\":0},\"type\":\"choropleth\"}],\"heatmapgl\":[{\"colorbar\":{\"ticks\":\"\",\"outlinewidth\":0},\"type\":\"heatmapgl\",\"colorscale\":[[0.0,\"#0d0887\"],[0.1111111111111111,\"#46039f\"],[0.2222222222222222,\"#7201a8\"],[0.3333333333333333,\"#9c179e\"],[0.4444444444444444,\"#bd3786\"],[0.5555555555555556,\"#d8576b\"],[0.6666666666666666,\"#ed7953\"],[0.7777777777777778,\"#fb9f3a\"],[0.8888888888888888,\"#fdca26\"],[1.0,\"#f0f921\"]]}],\"bar\":[{\"type\":\"bar\",\"error_y\":{\"color\":\"#2a3f5f\"},\"error_x\":{\"color\":\"#2a3f5f\"},\"marker\":{\"line\":{\"color\":\"#E5ECF6\",\"width\":0.5}}}],\"heatmap\":[{\"colorbar\":{\"ticks\":\"\",\"outlinewidth\":0},\"type\":\"heatmap\",\"colorscale\":[[0.0,\"#0d0887\"],[0.1111111111111111,\"#46039f\"],[0.2222222222222222,\"#7201a8\"],[0.3333333333333333,\"#9c179e\"],[0.4444444444444444,\"#bd3786\"],[0.5555555555555556,\"#d8576b\"],[0.6666666666666666,\"#ed7953\"],[0.7777777777777778,\"#fb9f3a\"],[0.8888888888888888,\"#fdca26\"],[1.0,\"#f0f921\"]]}],\"contourcarpet\":[{\"colorbar\":{\"ticks\":\"\",\"outlinewidth\":0},\"type\":\"contourcarpet\"}],\"table\":[{\"type\":\"table\",\"header\":{\"line\":{\"color\":\"white\"},\"fill\":{\"color\":\"#C8D4E3\"}},\"cells\":{\"line\":{\"color\":\"white\"},\"fill\":{\"color\":\"#EBF0F8\"}}}],\"scatter3d\":[{\"line\":{\"colorbar\":{\"ticks\":\"\",\"outlinewidth\":0}},\"type\":\"scatter3d\",\"marker\":{\"colorbar\":{\"ticks\":\"\",\"outlinewidth\":0}}}],\"scattergl\":[{\"type\":\"scattergl\",\"marker\":{\"colorbar\":{\"ticks\":\"\",\"outlinewidth\":0}}}],\"histogram2d\":[{\"colorbar\":{\"ticks\":\"\",\"outlinewidth\":0},\"type\":\"histogram2d\",\"colorscale\":[[0.0,\"#0d0887\"],[0.1111111111111111,\"#46039f\"],[0.2222222222222222,\"#7201a8\"],[0.3333333333333333,\"#9c179e\"],[0.4444444444444444,\"#bd3786\"],[0.5555555555555556,\"#d8576b\"],[0.6666666666666666,\"#ed7953\"],[0.7777777777777778,\"#fb9f3a\"],[0.8888888888888888,\"#fdca26\"],[1.0,\"#f0f921\"]]}],\"scatterternary\":[{\"type\":\"scatterternary\",\"marker\":{\"colorbar\":{\"ticks\":\"\",\"outlinewidth\":0}}}],\"scatterpolargl\":[{\"type\":\"scatterpolargl\",\"marker\":{\"colorbar\":{\"ticks\":\"\",\"outlinewidth\":0}}}]}},\"scene\":{\"camera\":{\"eye\":{\"y\":1.0,\"z\":1.8,\"x\":1.8}},\"xaxis\":{\"showticklabels\":false,\"showaxeslabels\":false,\"title\":{\"text\":\"\"},\"showbackground\":false},\"yaxis\":{\"showticklabels\":false,\"showaxeslabels\":false,\"title\":{\"text\":\"\"},\"showbackground\":false},\"zaxis\":{\"showticklabels\":false,\"showaxeslabels\":false,\"title\":{\"text\":\"\"},\"showbackground\":false},\"aspectmode\":\"data\",\"autosize\":true},\"margin\":{\"l\":50,\"b\":50,\"r\":50,\"t\":60},\"height\":400,\"width\":400},\n",
       "        {\"editable\":false,\"responsive\":true,\"staticPlot\":false,\"scrollZoom\":true},\n",
       "    )\n",
       "}\n",
       "\n",
       "        \n",
       "    </script>\n",
       "</div>\n",
       "\n",
       "</body>\n",
       "</html>"
      ],
      "text/plain": [
       "data: [\n",
       "  \"mesh3d with fields facecolor, i, j, k, opacity, type, x, y, and z\",\n",
       "  \"scatter3d with fields line, mode, type, x, y, and z\",\n",
       "  \"scatter3d with fields line, mode, type, x, y, and z\",\n",
       "  \"scatter3d with fields line, mode, type, x, y, and z\",\n",
       "  \"scatter3d with fields line, mode, type, x, y, and z\",\n",
       "  \"scatter3d with fields line, mode, type, x, y, and z\",\n",
       "  \"scatter3d with fields line, mode, type, x, y, and z\",\n",
       "  \"scatter3d with fields line, mode, type, x, y, and z\",\n",
       "  \"scatter3d with fields line, mode, type, x, y, and z\",\n",
       "  \"scatter3d with fields line, mode, type, x, y, and z\",\n",
       "  \"scatter3d with fields line, mode, type, x, y, and z\",\n",
       "  \"scatter3d with fields line, mode, type, x, y, and z\",\n",
       "  \"scatter3d with fields line, mode, type, x, y, and z\",\n",
       "  \"scatter3d with fields line, mode, type, x, y, and z\",\n",
       "  \"scatter3d with fields line, mode, type, x, y, and z\",\n",
       "  \"scatter3d with fields line, mode, type, x, y, and z\",\n",
       "  \"scatter3d with fields line, mode, type, x, y, and z\",\n",
       "  \"scatter3d with fields line, mode, type, x, y, and z\",\n",
       "  \"scatter3d with fields line, mode, type, x, y, and z\",\n",
       "  \"scatter3d with fields line, mode, type, x, y, and z\",\n",
       "  \"scatter3d with fields line, mode, type, x, y, and z\",\n",
       "  \"scatter3d with fields line, mode, type, x, y, and z\",\n",
       "  \"scatter3d with fields line, mode, type, x, y, and z\",\n",
       "  \"scatter3d with fields line, mode, type, x, y, and z\",\n",
       "  \"scatter3d with fields line, mode, type, x, y, and z\",\n",
       "  \"scatter3d with fields line, mode, type, x, y, and z\",\n",
       "  \"scatter3d with fields line, mode, type, x, y, and z\",\n",
       "  \"scatter3d with fields line, mode, type, x, y, and z\",\n",
       "  \"scatter3d with fields line, mode, type, x, y, and z\",\n",
       "  \"scatter3d with fields line, mode, type, x, y, and z\",\n",
       "  \"scatter3d with fields line, mode, type, x, y, and z\",\n",
       "  \"scatter3d with fields line, mode, type, x, y, and z\",\n",
       "  \"scatter3d with fields line, mode, type, x, y, and z\",\n",
       "  \"scatter3d with fields line, mode, type, x, y, and z\"\n",
       "]\n",
       "\n",
       "layout: \"layout with fields height, margin, scene, showlegend, template, and width\"\n",
       "\n"
      ]
     },
     "metadata": {},
     "output_type": "display_data"
    },
    {
     "name": "stderr",
     "output_type": "stream",
     "text": [
      "┌ Warning: ErrorException(\"Could not start Kaleido process\")\n",
      "└ @ PlotlyJS C:\\Users\\sasch\\.julia\\packages\\PlotlyJS\\d9sRW\\src\\kaleido.jl:66\n",
      "┌ Warning: Kaleido is not available on this system. Julia will be unable to save images of any plots.\n",
      "└ @ PlotlyJS C:\\Users\\sasch\\.julia\\packages\\PlotlyJS\\d9sRW\\src\\kaleido.jl:65\n",
      "┌ Warning: ErrorException(\"Could not start Kaleido process\")\n",
      "└ @ PlotlyJS C:\\Users\\sasch\\.julia\\packages\\PlotlyJS\\d9sRW\\src\\kaleido.jl:66\n"
     ]
    },
    {
     "data": {
      "application/vnd.plotly.v1+json": {
       "config": {
        "editable": false,
        "responsive": true,
        "scrollZoom": true,
        "showLink": false,
        "staticPlot": false
       },
       "data": [
        {
         "facecolor": [
          "#407FB7",
          "#407FB7",
          "#407FB7",
          "#407FB7",
          "#407FB7",
          "#407FB7",
          "#407FB7",
          "#407FB7",
          "#407FB7",
          "#407FB7",
          "#407FB7",
          "#407FB7",
          "#407FB7",
          "#407FB7",
          "#407FB7",
          "#407FB7",
          "#407FB7",
          "#407FB7"
         ],
         "i": [
          0,
          0,
          0,
          0,
          7,
          0,
          0,
          12,
          7,
          7,
          12,
          12,
          7,
          7,
          12,
          12,
          7,
          12
         ],
         "j": [
          1,
          2,
          6,
          3,
          3,
          5,
          4,
          4,
          2,
          11,
          3,
          15,
          10,
          8,
          11,
          14,
          9,
          13
         ],
         "k": [
          2,
          3,
          1,
          4,
          2,
          6,
          5,
          3,
          8,
          3,
          11,
          4,
          11,
          9,
          13,
          15,
          10,
          14
         ],
         "opacity": 0.9,
         "type": "mesh3d",
         "x": [
          0,
          -1.532349521648043,
          0.37736183462775874,
          0.11971220728891936,
          1.532349521648043,
          -0.37736183462775874,
          -0.11971220728891936,
          0.06767580212778575,
          -0.9678129549811755,
          0.8259721049568916,
          0.594498729552825,
          1.7961547777800952,
          1.1510923056026667,
          1.7405026108301378,
          2.9866037759941273,
          1.4360045725457555
         ],
         "y": [
          0,
          1.4055041265583583,
          1.98309139912739,
          0,
          -1.4055041265583583,
          -1.98309139912739,
          0,
          2.0084362042846315,
          3.3846136170825596,
          3.969043324298564,
          1.984406897866545,
          0.5913557312564366,
          -1.6817786859683734,
          -1.4227496334565135,
          -2.920095096235554,
          -3.2996392404618495
         ],
         "z": [
          0,
          0.8224737647684848,
          0.961741414556609,
          0.9928086358538663,
          0.8224737647684848,
          0.961741414556609,
          0.9928086358538663,
          0.011240387662914941,
          1.437388613621823,
          0.7734781708161668,
          0.8608757185975326,
          0.07638149365700522,
          -0.05974803446123909,
          0.7054313184008643,
          0.2524539996839398,
          1.4572728046703185
         ]
        },
        {
         "line": {
          "color": "#000000"
         },
         "mode": "lines",
         "type": "scatter3d",
         "x": [
          0,
          -1.532349521648043
         ],
         "y": [
          0,
          1.4055041265583583
         ],
         "z": [
          0,
          0.8224737647684848
         ]
        },
        {
         "line": {
          "color": "#000000"
         },
         "mode": "lines",
         "type": "scatter3d",
         "x": [
          0,
          0.37736183462775874
         ],
         "y": [
          0,
          1.98309139912739
         ],
         "z": [
          0,
          0.961741414556609
         ]
        },
        {
         "line": {
          "color": "#000000"
         },
         "mode": "lines",
         "type": "scatter3d",
         "x": [
          0,
          0.11971220728891936
         ],
         "y": [
          0,
          0
         ],
         "z": [
          0,
          0.9928086358538663
         ]
        },
        {
         "line": {
          "color": "#000000"
         },
         "mode": "lines",
         "type": "scatter3d",
         "x": [
          0,
          1.532349521648043
         ],
         "y": [
          0,
          -1.4055041265583583
         ],
         "z": [
          0,
          0.8224737647684848
         ]
        },
        {
         "line": {
          "color": "#000000"
         },
         "mode": "lines",
         "type": "scatter3d",
         "x": [
          0,
          -0.37736183462775874
         ],
         "y": [
          0,
          -1.98309139912739
         ],
         "z": [
          0,
          0.961741414556609
         ]
        },
        {
         "line": {
          "color": "#000000"
         },
         "mode": "lines",
         "type": "scatter3d",
         "x": [
          0,
          -0.11971220728891936
         ],
         "y": [
          0,
          0
         ],
         "z": [
          0,
          0.9928086358538663
         ]
        },
        {
         "line": {
          "color": "#000000"
         },
         "mode": "lines",
         "type": "scatter3d",
         "x": [
          -1.532349521648043,
          0.37736183462775874
         ],
         "y": [
          1.4055041265583583,
          1.98309139912739
         ],
         "z": [
          0.8224737647684848,
          0.961741414556609
         ]
        },
        {
         "line": {
          "color": "#000000"
         },
         "mode": "lines",
         "type": "scatter3d",
         "x": [
          -1.532349521648043,
          -0.11971220728891936
         ],
         "y": [
          1.4055041265583583,
          0
         ],
         "z": [
          0.8224737647684848,
          0.9928086358538663
         ]
        },
        {
         "line": {
          "color": "#000000"
         },
         "mode": "lines",
         "type": "scatter3d",
         "x": [
          0.37736183462775874,
          0.11971220728891936
         ],
         "y": [
          1.98309139912739,
          0
         ],
         "z": [
          0.961741414556609,
          0.9928086358538663
         ]
        },
        {
         "line": {
          "color": "#000000"
         },
         "mode": "lines",
         "type": "scatter3d",
         "x": [
          0.37736183462775874,
          0.06767580212778575
         ],
         "y": [
          1.98309139912739,
          2.0084362042846315
         ],
         "z": [
          0.961741414556609,
          0.011240387662914941
         ]
        },
        {
         "line": {
          "color": "#000000"
         },
         "mode": "lines",
         "type": "scatter3d",
         "x": [
          0.37736183462775874,
          -0.9678129549811755
         ],
         "y": [
          1.98309139912739,
          3.3846136170825596
         ],
         "z": [
          0.961741414556609,
          1.437388613621823
         ]
        },
        {
         "line": {
          "color": "#000000"
         },
         "mode": "lines",
         "type": "scatter3d",
         "x": [
          0.11971220728891936,
          1.532349521648043
         ],
         "y": [
          0,
          -1.4055041265583583
         ],
         "z": [
          0.9928086358538663,
          0.8224737647684848
         ]
        },
        {
         "line": {
          "color": "#000000"
         },
         "mode": "lines",
         "type": "scatter3d",
         "x": [
          0.11971220728891936,
          0.06767580212778575
         ],
         "y": [
          0,
          2.0084362042846315
         ],
         "z": [
          0.9928086358538663,
          0.011240387662914941
         ]
        },
        {
         "line": {
          "color": "#000000"
         },
         "mode": "lines",
         "type": "scatter3d",
         "x": [
          0.11971220728891936,
          1.7961547777800952
         ],
         "y": [
          0,
          0.5913557312564366
         ],
         "z": [
          0.9928086358538663,
          0.07638149365700522
         ]
        },
        {
         "line": {
          "color": "#000000"
         },
         "mode": "lines",
         "type": "scatter3d",
         "x": [
          0.11971220728891936,
          1.1510923056026667
         ],
         "y": [
          0,
          -1.6817786859683734
         ],
         "z": [
          0.9928086358538663,
          -0.05974803446123909
         ]
        },
        {
         "line": {
          "color": "#000000"
         },
         "mode": "lines",
         "type": "scatter3d",
         "x": [
          1.532349521648043,
          -0.37736183462775874
         ],
         "y": [
          -1.4055041265583583,
          -1.98309139912739
         ],
         "z": [
          0.8224737647684848,
          0.961741414556609
         ]
        },
        {
         "line": {
          "color": "#000000"
         },
         "mode": "lines",
         "type": "scatter3d",
         "x": [
          1.532349521648043,
          1.1510923056026667
         ],
         "y": [
          -1.4055041265583583,
          -1.6817786859683734
         ],
         "z": [
          0.8224737647684848,
          -0.05974803446123909
         ]
        },
        {
         "line": {
          "color": "#000000"
         },
         "mode": "lines",
         "type": "scatter3d",
         "x": [
          1.532349521648043,
          1.4360045725457555
         ],
         "y": [
          -1.4055041265583583,
          -3.2996392404618495
         ],
         "z": [
          0.8224737647684848,
          1.4572728046703185
         ]
        },
        {
         "line": {
          "color": "#000000"
         },
         "mode": "lines",
         "type": "scatter3d",
         "x": [
          -0.37736183462775874,
          -0.11971220728891936
         ],
         "y": [
          -1.98309139912739,
          0
         ],
         "z": [
          0.961741414556609,
          0.9928086358538663
         ]
        },
        {
         "line": {
          "color": "#000000"
         },
         "mode": "lines",
         "type": "scatter3d",
         "x": [
          0.06767580212778575,
          -0.9678129549811755
         ],
         "y": [
          2.0084362042846315,
          3.3846136170825596
         ],
         "z": [
          0.011240387662914941,
          1.437388613621823
         ]
        },
        {
         "line": {
          "color": "#000000"
         },
         "mode": "lines",
         "type": "scatter3d",
         "x": [
          0.06767580212778575,
          0.8259721049568916
         ],
         "y": [
          2.0084362042846315,
          3.969043324298564
         ],
         "z": [
          0.011240387662914941,
          0.7734781708161668
         ]
        },
        {
         "line": {
          "color": "#000000"
         },
         "mode": "lines",
         "type": "scatter3d",
         "x": [
          0.06767580212778575,
          0.594498729552825
         ],
         "y": [
          2.0084362042846315,
          1.984406897866545
         ],
         "z": [
          0.011240387662914941,
          0.8608757185975326
         ]
        },
        {
         "line": {
          "color": "#000000"
         },
         "mode": "lines",
         "type": "scatter3d",
         "x": [
          0.06767580212778575,
          1.7961547777800952
         ],
         "y": [
          2.0084362042846315,
          0.5913557312564366
         ],
         "z": [
          0.011240387662914941,
          0.07638149365700522
         ]
        },
        {
         "line": {
          "color": "#000000"
         },
         "mode": "lines",
         "type": "scatter3d",
         "x": [
          -0.9678129549811755,
          0.8259721049568916
         ],
         "y": [
          3.3846136170825596,
          3.969043324298564
         ],
         "z": [
          1.437388613621823,
          0.7734781708161668
         ]
        },
        {
         "line": {
          "color": "#000000"
         },
         "mode": "lines",
         "type": "scatter3d",
         "x": [
          0.8259721049568916,
          0.594498729552825
         ],
         "y": [
          3.969043324298564,
          1.984406897866545
         ],
         "z": [
          0.7734781708161668,
          0.8608757185975326
         ]
        },
        {
         "line": {
          "color": "#000000"
         },
         "mode": "lines",
         "type": "scatter3d",
         "x": [
          0.594498729552825,
          1.7961547777800952
         ],
         "y": [
          1.984406897866545,
          0.5913557312564366
         ],
         "z": [
          0.8608757185975326,
          0.07638149365700522
         ]
        },
        {
         "line": {
          "color": "#000000"
         },
         "mode": "lines",
         "type": "scatter3d",
         "x": [
          1.7961547777800952,
          1.1510923056026667
         ],
         "y": [
          0.5913557312564366,
          -1.6817786859683734
         ],
         "z": [
          0.07638149365700522,
          -0.05974803446123909
         ]
        },
        {
         "line": {
          "color": "#000000"
         },
         "mode": "lines",
         "type": "scatter3d",
         "x": [
          1.7961547777800952,
          1.7405026108301378
         ],
         "y": [
          0.5913557312564366,
          -1.4227496334565135
         ],
         "z": [
          0.07638149365700522,
          0.7054313184008643
         ]
        },
        {
         "line": {
          "color": "#000000"
         },
         "mode": "lines",
         "type": "scatter3d",
         "x": [
          1.1510923056026667,
          1.7405026108301378
         ],
         "y": [
          -1.6817786859683734,
          -1.4227496334565135
         ],
         "z": [
          -0.05974803446123909,
          0.7054313184008643
         ]
        },
        {
         "line": {
          "color": "#000000"
         },
         "mode": "lines",
         "type": "scatter3d",
         "x": [
          1.1510923056026667,
          2.9866037759941273
         ],
         "y": [
          -1.6817786859683734,
          -2.920095096235554
         ],
         "z": [
          -0.05974803446123909,
          0.2524539996839398
         ]
        },
        {
         "line": {
          "color": "#000000"
         },
         "mode": "lines",
         "type": "scatter3d",
         "x": [
          1.1510923056026667,
          1.4360045725457555
         ],
         "y": [
          -1.6817786859683734,
          -3.2996392404618495
         ],
         "z": [
          -0.05974803446123909,
          1.4572728046703185
         ]
        },
        {
         "line": {
          "color": "#000000"
         },
         "mode": "lines",
         "type": "scatter3d",
         "x": [
          1.7405026108301378,
          2.9866037759941273
         ],
         "y": [
          -1.4227496334565135,
          -2.920095096235554
         ],
         "z": [
          0.7054313184008643,
          0.2524539996839398
         ]
        },
        {
         "line": {
          "color": "#000000"
         },
         "mode": "lines",
         "type": "scatter3d",
         "x": [
          2.9866037759941273,
          1.4360045725457555
         ],
         "y": [
          -2.920095096235554,
          -3.2996392404618495
         ],
         "z": [
          0.2524539996839398,
          1.4572728046703185
         ]
        }
       ],
       "frames": [],
       "layout": {
        "height": 400,
        "margin": {
         "b": 50,
         "l": 50,
         "r": 50,
         "t": 60
        },
        "scene": {
         "aspectmode": "data",
         "autosize": true,
         "camera": {
          "eye": {
           "x": 1.8,
           "y": 1,
           "z": 1.8
          }
         },
         "xaxis": {
          "showaxeslabels": false,
          "showbackground": false,
          "showticklabels": false,
          "title": {
           "text": ""
          }
         },
         "yaxis": {
          "showaxeslabels": false,
          "showbackground": false,
          "showticklabels": false,
          "title": {
           "text": ""
          }
         },
         "zaxis": {
          "showaxeslabels": false,
          "showbackground": false,
          "showticklabels": false,
          "title": {
           "text": ""
          }
         }
        },
        "showlegend": false,
        "template": {
         "data": {
          "bar": [
           {
            "error_x": {
             "color": "#2a3f5f"
            },
            "error_y": {
             "color": "#2a3f5f"
            },
            "marker": {
             "line": {
              "color": "#E5ECF6",
              "width": 0.5
             }
            },
            "type": "bar"
           }
          ],
          "barpolar": [
           {
            "marker": {
             "line": {
              "color": "#E5ECF6",
              "width": 0.5
             }
            },
            "type": "barpolar"
           }
          ],
          "carpet": [
           {
            "aaxis": {
             "endlinecolor": "#2a3f5f",
             "gridcolor": "white",
             "linecolor": "white",
             "minorgridcolor": "white",
             "startlinecolor": "#2a3f5f"
            },
            "baxis": {
             "endlinecolor": "#2a3f5f",
             "gridcolor": "white",
             "linecolor": "white",
             "minorgridcolor": "white",
             "startlinecolor": "#2a3f5f"
            },
            "type": "carpet"
           }
          ],
          "choropleth": [
           {
            "colorbar": {
             "outlinewidth": 0,
             "ticks": ""
            },
            "type": "choropleth"
           }
          ],
          "contour": [
           {
            "colorbar": {
             "outlinewidth": 0,
             "ticks": ""
            },
            "colorscale": [
             [
              0,
              "#0d0887"
             ],
             [
              0.1111111111111111,
              "#46039f"
             ],
             [
              0.2222222222222222,
              "#7201a8"
             ],
             [
              0.3333333333333333,
              "#9c179e"
             ],
             [
              0.4444444444444444,
              "#bd3786"
             ],
             [
              0.5555555555555556,
              "#d8576b"
             ],
             [
              0.6666666666666666,
              "#ed7953"
             ],
             [
              0.7777777777777778,
              "#fb9f3a"
             ],
             [
              0.8888888888888888,
              "#fdca26"
             ],
             [
              1,
              "#f0f921"
             ]
            ],
            "type": "contour"
           }
          ],
          "contourcarpet": [
           {
            "colorbar": {
             "outlinewidth": 0,
             "ticks": ""
            },
            "type": "contourcarpet"
           }
          ],
          "heatmap": [
           {
            "colorbar": {
             "outlinewidth": 0,
             "ticks": ""
            },
            "colorscale": [
             [
              0,
              "#0d0887"
             ],
             [
              0.1111111111111111,
              "#46039f"
             ],
             [
              0.2222222222222222,
              "#7201a8"
             ],
             [
              0.3333333333333333,
              "#9c179e"
             ],
             [
              0.4444444444444444,
              "#bd3786"
             ],
             [
              0.5555555555555556,
              "#d8576b"
             ],
             [
              0.6666666666666666,
              "#ed7953"
             ],
             [
              0.7777777777777778,
              "#fb9f3a"
             ],
             [
              0.8888888888888888,
              "#fdca26"
             ],
             [
              1,
              "#f0f921"
             ]
            ],
            "type": "heatmap"
           }
          ],
          "heatmapgl": [
           {
            "colorbar": {
             "outlinewidth": 0,
             "ticks": ""
            },
            "colorscale": [
             [
              0,
              "#0d0887"
             ],
             [
              0.1111111111111111,
              "#46039f"
             ],
             [
              0.2222222222222222,
              "#7201a8"
             ],
             [
              0.3333333333333333,
              "#9c179e"
             ],
             [
              0.4444444444444444,
              "#bd3786"
             ],
             [
              0.5555555555555556,
              "#d8576b"
             ],
             [
              0.6666666666666666,
              "#ed7953"
             ],
             [
              0.7777777777777778,
              "#fb9f3a"
             ],
             [
              0.8888888888888888,
              "#fdca26"
             ],
             [
              1,
              "#f0f921"
             ]
            ],
            "type": "heatmapgl"
           }
          ],
          "histogram": [
           {
            "marker": {
             "colorbar": {
              "outlinewidth": 0,
              "ticks": ""
             }
            },
            "type": "histogram"
           }
          ],
          "histogram2d": [
           {
            "colorbar": {
             "outlinewidth": 0,
             "ticks": ""
            },
            "colorscale": [
             [
              0,
              "#0d0887"
             ],
             [
              0.1111111111111111,
              "#46039f"
             ],
             [
              0.2222222222222222,
              "#7201a8"
             ],
             [
              0.3333333333333333,
              "#9c179e"
             ],
             [
              0.4444444444444444,
              "#bd3786"
             ],
             [
              0.5555555555555556,
              "#d8576b"
             ],
             [
              0.6666666666666666,
              "#ed7953"
             ],
             [
              0.7777777777777778,
              "#fb9f3a"
             ],
             [
              0.8888888888888888,
              "#fdca26"
             ],
             [
              1,
              "#f0f921"
             ]
            ],
            "type": "histogram2d"
           }
          ],
          "histogram2dcontour": [
           {
            "colorbar": {
             "outlinewidth": 0,
             "ticks": ""
            },
            "colorscale": [
             [
              0,
              "#0d0887"
             ],
             [
              0.1111111111111111,
              "#46039f"
             ],
             [
              0.2222222222222222,
              "#7201a8"
             ],
             [
              0.3333333333333333,
              "#9c179e"
             ],
             [
              0.4444444444444444,
              "#bd3786"
             ],
             [
              0.5555555555555556,
              "#d8576b"
             ],
             [
              0.6666666666666666,
              "#ed7953"
             ],
             [
              0.7777777777777778,
              "#fb9f3a"
             ],
             [
              0.8888888888888888,
              "#fdca26"
             ],
             [
              1,
              "#f0f921"
             ]
            ],
            "type": "histogram2dcontour"
           }
          ],
          "mesh3d": [
           {
            "colorbar": {
             "outlinewidth": 0,
             "ticks": ""
            },
            "type": "mesh3d"
           }
          ],
          "parcoords": [
           {
            "line": {
             "colorbar": {
              "outlinewidth": 0,
              "ticks": ""
             }
            },
            "type": "parcoords"
           }
          ],
          "pie": [
           {
            "automargin": true,
            "type": "pie"
           }
          ],
          "scatter": [
           {
            "marker": {
             "colorbar": {
              "outlinewidth": 0,
              "ticks": ""
             }
            },
            "type": "scatter"
           }
          ],
          "scatter3d": [
           {
            "line": {
             "colorbar": {
              "outlinewidth": 0,
              "ticks": ""
             }
            },
            "marker": {
             "colorbar": {
              "outlinewidth": 0,
              "ticks": ""
             }
            },
            "type": "scatter3d"
           }
          ],
          "scattercarpet": [
           {
            "marker": {
             "colorbar": {
              "outlinewidth": 0,
              "ticks": ""
             }
            },
            "type": "scattercarpet"
           }
          ],
          "scattergeo": [
           {
            "marker": {
             "colorbar": {
              "outlinewidth": 0,
              "ticks": ""
             }
            },
            "type": "scattergeo"
           }
          ],
          "scattergl": [
           {
            "marker": {
             "colorbar": {
              "outlinewidth": 0,
              "ticks": ""
             }
            },
            "type": "scattergl"
           }
          ],
          "scattermapbox": [
           {
            "marker": {
             "colorbar": {
              "outlinewidth": 0,
              "ticks": ""
             }
            },
            "type": "scattermapbox"
           }
          ],
          "scatterpolar": [
           {
            "marker": {
             "colorbar": {
              "outlinewidth": 0,
              "ticks": ""
             }
            },
            "type": "scatterpolar"
           }
          ],
          "scatterpolargl": [
           {
            "marker": {
             "colorbar": {
              "outlinewidth": 0,
              "ticks": ""
             }
            },
            "type": "scatterpolargl"
           }
          ],
          "scatterternary": [
           {
            "marker": {
             "colorbar": {
              "outlinewidth": 0,
              "ticks": ""
             }
            },
            "type": "scatterternary"
           }
          ],
          "surface": [
           {
            "colorbar": {
             "outlinewidth": 0,
             "ticks": ""
            },
            "colorscale": [
             [
              0,
              "#0d0887"
             ],
             [
              0.1111111111111111,
              "#46039f"
             ],
             [
              0.2222222222222222,
              "#7201a8"
             ],
             [
              0.3333333333333333,
              "#9c179e"
             ],
             [
              0.4444444444444444,
              "#bd3786"
             ],
             [
              0.5555555555555556,
              "#d8576b"
             ],
             [
              0.6666666666666666,
              "#ed7953"
             ],
             [
              0.7777777777777778,
              "#fb9f3a"
             ],
             [
              0.8888888888888888,
              "#fdca26"
             ],
             [
              1,
              "#f0f921"
             ]
            ],
            "type": "surface"
           }
          ],
          "table": [
           {
            "cells": {
             "fill": {
              "color": "#EBF0F8"
             },
             "line": {
              "color": "white"
             }
            },
            "header": {
             "fill": {
              "color": "#C8D4E3"
             },
             "line": {
              "color": "white"
             }
            },
            "type": "table"
           }
          ]
         },
         "layout": {
          "annotationdefaults": {
           "arrowcolor": "#2a3f5f",
           "arrowhead": 0,
           "arrowwidth": 1
          },
          "autotypenumbers": "strict",
          "coloraxis": {
           "colorbar": {
            "outlinewidth": 0,
            "ticks": ""
           }
          },
          "colorscale": {
           "diverging": [
            [
             0,
             "#8e0152"
            ],
            [
             0.1,
             "#c51b7d"
            ],
            [
             0.2,
             "#de77ae"
            ],
            [
             0.3,
             "#f1b6da"
            ],
            [
             0.4,
             "#fde0ef"
            ],
            [
             0.5,
             "#f7f7f7"
            ],
            [
             0.6,
             "#e6f5d0"
            ],
            [
             0.7,
             "#b8e186"
            ],
            [
             0.8,
             "#7fbc41"
            ],
            [
             0.9,
             "#4d9221"
            ],
            [
             1,
             "#276419"
            ]
           ],
           "sequential": [
            [
             0,
             "#0d0887"
            ],
            [
             0.1111111111111111,
             "#46039f"
            ],
            [
             0.2222222222222222,
             "#7201a8"
            ],
            [
             0.3333333333333333,
             "#9c179e"
            ],
            [
             0.4444444444444444,
             "#bd3786"
            ],
            [
             0.5555555555555556,
             "#d8576b"
            ],
            [
             0.6666666666666666,
             "#ed7953"
            ],
            [
             0.7777777777777778,
             "#fb9f3a"
            ],
            [
             0.8888888888888888,
             "#fdca26"
            ],
            [
             1,
             "#f0f921"
            ]
           ],
           "sequentialminus": [
            [
             0,
             "#0d0887"
            ],
            [
             0.1111111111111111,
             "#46039f"
            ],
            [
             0.2222222222222222,
             "#7201a8"
            ],
            [
             0.3333333333333333,
             "#9c179e"
            ],
            [
             0.4444444444444444,
             "#bd3786"
            ],
            [
             0.5555555555555556,
             "#d8576b"
            ],
            [
             0.6666666666666666,
             "#ed7953"
            ],
            [
             0.7777777777777778,
             "#fb9f3a"
            ],
            [
             0.8888888888888888,
             "#fdca26"
            ],
            [
             1,
             "#f0f921"
            ]
           ]
          },
          "colorway": [
           "#636efa",
           "#EF553B",
           "#00cc96",
           "#ab63fa",
           "#FFA15A",
           "#19d3f3",
           "#FF6692",
           "#B6E880",
           "#FF97FF",
           "#FECB52"
          ],
          "font": {
           "color": "#2a3f5f"
          },
          "geo": {
           "bgcolor": "white",
           "lakecolor": "white",
           "landcolor": "#E5ECF6",
           "showlakes": true,
           "showland": true,
           "subunitcolor": "white"
          },
          "hoverlabel": {
           "align": "left"
          },
          "hovermode": "closest",
          "mapbox": {
           "style": "light"
          },
          "paper_bgcolor": "white",
          "plot_bgcolor": "#E5ECF6",
          "polar": {
           "angularaxis": {
            "gridcolor": "white",
            "linecolor": "white",
            "ticks": ""
           },
           "bgcolor": "#E5ECF6",
           "radialaxis": {
            "gridcolor": "white",
            "linecolor": "white",
            "ticks": ""
           }
          },
          "scene": {
           "xaxis": {
            "backgroundcolor": "#E5ECF6",
            "gridcolor": "white",
            "gridwidth": 2,
            "linecolor": "white",
            "showbackground": true,
            "ticks": "",
            "zerolinecolor": "white"
           },
           "yaxis": {
            "backgroundcolor": "#E5ECF6",
            "gridcolor": "white",
            "gridwidth": 2,
            "linecolor": "white",
            "showbackground": true,
            "ticks": "",
            "zerolinecolor": "white"
           },
           "zaxis": {
            "backgroundcolor": "#E5ECF6",
            "gridcolor": "white",
            "gridwidth": 2,
            "linecolor": "white",
            "showbackground": true,
            "ticks": "",
            "zerolinecolor": "white"
           }
          },
          "shapedefaults": {
           "line": {
            "color": "#2a3f5f"
           }
          },
          "ternary": {
           "aaxis": {
            "gridcolor": "white",
            "linecolor": "white",
            "ticks": ""
           },
           "baxis": {
            "gridcolor": "white",
            "linecolor": "white",
            "ticks": ""
           },
           "bgcolor": "#E5ECF6",
           "caxis": {
            "gridcolor": "white",
            "linecolor": "white",
            "ticks": ""
           }
          },
          "title": {
           "x": 0.05
          },
          "xaxis": {
           "automargin": true,
           "gridcolor": "white",
           "linecolor": "white",
           "ticks": "",
           "title": {
            "standoff": 15
           },
           "zerolinecolor": "white",
           "zerolinewidth": 2
          },
          "yaxis": {
           "automargin": true,
           "gridcolor": "white",
           "linecolor": "white",
           "ticks": "",
           "title": {
            "standoff": 15
           },
           "zerolinecolor": "white",
           "zerolinewidth": 2
          }
         }
        },
        "width": 400
       }
      },
      "text/html": [
       "<html>\n",
       "<head><meta charset=\"utf-8\" /></head>\n",
       "<body>\n",
       "<div>\n",
       "    <script src=\"https://cdnjs.cloudflare.com/ajax/libs/mathjax/2.7.5/MathJax.js?config=TeX-AMS-MML_SVG\"></script>\n",
       "    <script type=\"text/javascript\">\n",
       "window.PlotlyConfig = {MathJaxConfig: 'local'};\n",
       "</script>\n",
       "<script src=\"https://cdn.plot.ly/plotly-2.3.0.min.js\"></script>\n",
       "\n",
       "    <div\n",
       "        id=32881f8b-6750-45c7-a315-5a0843f6c654\n",
       "        class=\"plotly-graph-div\"\n",
       "        style=\"height:400; width:400;\">\n",
       "    </div>\n",
       "    <script type=\"text/javascript\">\n",
       "        \n",
       "        window.PLOTLYENV = window.PLOTLYENV || {}\n",
       "        \n",
       "        if (document.getElementById('32881f8b-6750-45c7-a315-5a0843f6c654')) {\n",
       "    Plotly.newPlot(\n",
       "        '32881f8b-6750-45c7-a315-5a0843f6c654',\n",
       "        [{\"y\":[0.0,1.4055041265583583,1.98309139912739,0.0,-1.4055041265583583,-1.98309139912739,0.0,2.0084362042846315,3.3846136170825596,3.969043324298564,1.984406897866545,0.5913557312564366,-1.6817786859683734,-1.4227496334565135,-2.920095096235554,-3.2996392404618495],\"type\":\"mesh3d\",\"j\":[1,2,6,3,3,5,4,4,2,11,3,15,10,8,11,14,9,13],\"k\":[2,3,1,4,2,6,5,3,8,3,11,4,11,9,13,15,10,14],\"opacity\":0.9,\"z\":[0.0,0.8224737647684848,0.961741414556609,0.9928086358538663,0.8224737647684848,0.961741414556609,0.9928086358538663,0.011240387662914941,1.437388613621823,0.7734781708161668,0.8608757185975326,0.07638149365700522,-0.05974803446123909,0.7054313184008643,0.2524539996839398,1.4572728046703185],\"i\":[0,0,0,0,7,0,0,12,7,7,12,12,7,7,12,12,7,12],\"facecolor\":[\"#407FB7\",\"#407FB7\",\"#407FB7\",\"#407FB7\",\"#407FB7\",\"#407FB7\",\"#407FB7\",\"#407FB7\",\"#407FB7\",\"#407FB7\",\"#407FB7\",\"#407FB7\",\"#407FB7\",\"#407FB7\",\"#407FB7\",\"#407FB7\",\"#407FB7\",\"#407FB7\"],\"x\":[0.0,-1.532349521648043,0.37736183462775874,0.11971220728891936,1.532349521648043,-0.37736183462775874,-0.11971220728891936,0.06767580212778575,-0.9678129549811755,0.8259721049568916,0.594498729552825,1.7961547777800952,1.1510923056026667,1.7405026108301378,2.9866037759941273,1.4360045725457555]},{\"mode\":\"lines\",\"line\":{\"color\":\"#000000\"},\"y\":[0.0,1.4055041265583583],\"type\":\"scatter3d\",\"z\":[0.0,0.8224737647684848],\"x\":[0.0,-1.532349521648043]},{\"mode\":\"lines\",\"line\":{\"color\":\"#000000\"},\"y\":[0.0,1.98309139912739],\"type\":\"scatter3d\",\"z\":[0.0,0.961741414556609],\"x\":[0.0,0.37736183462775874]},{\"mode\":\"lines\",\"line\":{\"color\":\"#000000\"},\"y\":[0.0,0.0],\"type\":\"scatter3d\",\"z\":[0.0,0.9928086358538663],\"x\":[0.0,0.11971220728891936]},{\"mode\":\"lines\",\"line\":{\"color\":\"#000000\"},\"y\":[0.0,-1.4055041265583583],\"type\":\"scatter3d\",\"z\":[0.0,0.8224737647684848],\"x\":[0.0,1.532349521648043]},{\"mode\":\"lines\",\"line\":{\"color\":\"#000000\"},\"y\":[0.0,-1.98309139912739],\"type\":\"scatter3d\",\"z\":[0.0,0.961741414556609],\"x\":[0.0,-0.37736183462775874]},{\"mode\":\"lines\",\"line\":{\"color\":\"#000000\"},\"y\":[0.0,0.0],\"type\":\"scatter3d\",\"z\":[0.0,0.9928086358538663],\"x\":[0.0,-0.11971220728891936]},{\"mode\":\"lines\",\"line\":{\"color\":\"#000000\"},\"y\":[1.4055041265583583,1.98309139912739],\"type\":\"scatter3d\",\"z\":[0.8224737647684848,0.961741414556609],\"x\":[-1.532349521648043,0.37736183462775874]},{\"mode\":\"lines\",\"line\":{\"color\":\"#000000\"},\"y\":[1.4055041265583583,0.0],\"type\":\"scatter3d\",\"z\":[0.8224737647684848,0.9928086358538663],\"x\":[-1.532349521648043,-0.11971220728891936]},{\"mode\":\"lines\",\"line\":{\"color\":\"#000000\"},\"y\":[1.98309139912739,0.0],\"type\":\"scatter3d\",\"z\":[0.961741414556609,0.9928086358538663],\"x\":[0.37736183462775874,0.11971220728891936]},{\"mode\":\"lines\",\"line\":{\"color\":\"#000000\"},\"y\":[1.98309139912739,2.0084362042846315],\"type\":\"scatter3d\",\"z\":[0.961741414556609,0.011240387662914941],\"x\":[0.37736183462775874,0.06767580212778575]},{\"mode\":\"lines\",\"line\":{\"color\":\"#000000\"},\"y\":[1.98309139912739,3.3846136170825596],\"type\":\"scatter3d\",\"z\":[0.961741414556609,1.437388613621823],\"x\":[0.37736183462775874,-0.9678129549811755]},{\"mode\":\"lines\",\"line\":{\"color\":\"#000000\"},\"y\":[0.0,-1.4055041265583583],\"type\":\"scatter3d\",\"z\":[0.9928086358538663,0.8224737647684848],\"x\":[0.11971220728891936,1.532349521648043]},{\"mode\":\"lines\",\"line\":{\"color\":\"#000000\"},\"y\":[0.0,2.0084362042846315],\"type\":\"scatter3d\",\"z\":[0.9928086358538663,0.011240387662914941],\"x\":[0.11971220728891936,0.06767580212778575]},{\"mode\":\"lines\",\"line\":{\"color\":\"#000000\"},\"y\":[0.0,0.5913557312564366],\"type\":\"scatter3d\",\"z\":[0.9928086358538663,0.07638149365700522],\"x\":[0.11971220728891936,1.7961547777800952]},{\"mode\":\"lines\",\"line\":{\"color\":\"#000000\"},\"y\":[0.0,-1.6817786859683734],\"type\":\"scatter3d\",\"z\":[0.9928086358538663,-0.05974803446123909],\"x\":[0.11971220728891936,1.1510923056026667]},{\"mode\":\"lines\",\"line\":{\"color\":\"#000000\"},\"y\":[-1.4055041265583583,-1.98309139912739],\"type\":\"scatter3d\",\"z\":[0.8224737647684848,0.961741414556609],\"x\":[1.532349521648043,-0.37736183462775874]},{\"mode\":\"lines\",\"line\":{\"color\":\"#000000\"},\"y\":[-1.4055041265583583,-1.6817786859683734],\"type\":\"scatter3d\",\"z\":[0.8224737647684848,-0.05974803446123909],\"x\":[1.532349521648043,1.1510923056026667]},{\"mode\":\"lines\",\"line\":{\"color\":\"#000000\"},\"y\":[-1.4055041265583583,-3.2996392404618495],\"type\":\"scatter3d\",\"z\":[0.8224737647684848,1.4572728046703185],\"x\":[1.532349521648043,1.4360045725457555]},{\"mode\":\"lines\",\"line\":{\"color\":\"#000000\"},\"y\":[-1.98309139912739,0.0],\"type\":\"scatter3d\",\"z\":[0.961741414556609,0.9928086358538663],\"x\":[-0.37736183462775874,-0.11971220728891936]},{\"mode\":\"lines\",\"line\":{\"color\":\"#000000\"},\"y\":[2.0084362042846315,3.3846136170825596],\"type\":\"scatter3d\",\"z\":[0.011240387662914941,1.437388613621823],\"x\":[0.06767580212778575,-0.9678129549811755]},{\"mode\":\"lines\",\"line\":{\"color\":\"#000000\"},\"y\":[2.0084362042846315,3.969043324298564],\"type\":\"scatter3d\",\"z\":[0.011240387662914941,0.7734781708161668],\"x\":[0.06767580212778575,0.8259721049568916]},{\"mode\":\"lines\",\"line\":{\"color\":\"#000000\"},\"y\":[2.0084362042846315,1.984406897866545],\"type\":\"scatter3d\",\"z\":[0.011240387662914941,0.8608757185975326],\"x\":[0.06767580212778575,0.594498729552825]},{\"mode\":\"lines\",\"line\":{\"color\":\"#000000\"},\"y\":[2.0084362042846315,0.5913557312564366],\"type\":\"scatter3d\",\"z\":[0.011240387662914941,0.07638149365700522],\"x\":[0.06767580212778575,1.7961547777800952]},{\"mode\":\"lines\",\"line\":{\"color\":\"#000000\"},\"y\":[3.3846136170825596,3.969043324298564],\"type\":\"scatter3d\",\"z\":[1.437388613621823,0.7734781708161668],\"x\":[-0.9678129549811755,0.8259721049568916]},{\"mode\":\"lines\",\"line\":{\"color\":\"#000000\"},\"y\":[3.969043324298564,1.984406897866545],\"type\":\"scatter3d\",\"z\":[0.7734781708161668,0.8608757185975326],\"x\":[0.8259721049568916,0.594498729552825]},{\"mode\":\"lines\",\"line\":{\"color\":\"#000000\"},\"y\":[1.984406897866545,0.5913557312564366],\"type\":\"scatter3d\",\"z\":[0.8608757185975326,0.07638149365700522],\"x\":[0.594498729552825,1.7961547777800952]},{\"mode\":\"lines\",\"line\":{\"color\":\"#000000\"},\"y\":[0.5913557312564366,-1.6817786859683734],\"type\":\"scatter3d\",\"z\":[0.07638149365700522,-0.05974803446123909],\"x\":[1.7961547777800952,1.1510923056026667]},{\"mode\":\"lines\",\"line\":{\"color\":\"#000000\"},\"y\":[0.5913557312564366,-1.4227496334565135],\"type\":\"scatter3d\",\"z\":[0.07638149365700522,0.7054313184008643],\"x\":[1.7961547777800952,1.7405026108301378]},{\"mode\":\"lines\",\"line\":{\"color\":\"#000000\"},\"y\":[-1.6817786859683734,-1.4227496334565135],\"type\":\"scatter3d\",\"z\":[-0.05974803446123909,0.7054313184008643],\"x\":[1.1510923056026667,1.7405026108301378]},{\"mode\":\"lines\",\"line\":{\"color\":\"#000000\"},\"y\":[-1.6817786859683734,-2.920095096235554],\"type\":\"scatter3d\",\"z\":[-0.05974803446123909,0.2524539996839398],\"x\":[1.1510923056026667,2.9866037759941273]},{\"mode\":\"lines\",\"line\":{\"color\":\"#000000\"},\"y\":[-1.6817786859683734,-3.2996392404618495],\"type\":\"scatter3d\",\"z\":[-0.05974803446123909,1.4572728046703185],\"x\":[1.1510923056026667,1.4360045725457555]},{\"mode\":\"lines\",\"line\":{\"color\":\"#000000\"},\"y\":[-1.4227496334565135,-2.920095096235554],\"type\":\"scatter3d\",\"z\":[0.7054313184008643,0.2524539996839398],\"x\":[1.7405026108301378,2.9866037759941273]},{\"mode\":\"lines\",\"line\":{\"color\":\"#000000\"},\"y\":[-2.920095096235554,-3.2996392404618495],\"type\":\"scatter3d\",\"z\":[0.2524539996839398,1.4572728046703185],\"x\":[2.9866037759941273,1.4360045725457555]}],\n",
       "        {\"showlegend\":false,\"template\":{\"layout\":{\"coloraxis\":{\"colorbar\":{\"ticks\":\"\",\"outlinewidth\":0}},\"xaxis\":{\"gridcolor\":\"white\",\"zerolinewidth\":2,\"title\":{\"standoff\":15},\"ticks\":\"\",\"zerolinecolor\":\"white\",\"automargin\":true,\"linecolor\":\"white\"},\"hovermode\":\"closest\",\"paper_bgcolor\":\"white\",\"geo\":{\"showlakes\":true,\"showland\":true,\"landcolor\":\"#E5ECF6\",\"bgcolor\":\"white\",\"subunitcolor\":\"white\",\"lakecolor\":\"white\"},\"colorscale\":{\"sequential\":[[0.0,\"#0d0887\"],[0.1111111111111111,\"#46039f\"],[0.2222222222222222,\"#7201a8\"],[0.3333333333333333,\"#9c179e\"],[0.4444444444444444,\"#bd3786\"],[0.5555555555555556,\"#d8576b\"],[0.6666666666666666,\"#ed7953\"],[0.7777777777777778,\"#fb9f3a\"],[0.8888888888888888,\"#fdca26\"],[1.0,\"#f0f921\"]],\"diverging\":[[0,\"#8e0152\"],[0.1,\"#c51b7d\"],[0.2,\"#de77ae\"],[0.3,\"#f1b6da\"],[0.4,\"#fde0ef\"],[0.5,\"#f7f7f7\"],[0.6,\"#e6f5d0\"],[0.7,\"#b8e186\"],[0.8,\"#7fbc41\"],[0.9,\"#4d9221\"],[1,\"#276419\"]],\"sequentialminus\":[[0.0,\"#0d0887\"],[0.1111111111111111,\"#46039f\"],[0.2222222222222222,\"#7201a8\"],[0.3333333333333333,\"#9c179e\"],[0.4444444444444444,\"#bd3786\"],[0.5555555555555556,\"#d8576b\"],[0.6666666666666666,\"#ed7953\"],[0.7777777777777778,\"#fb9f3a\"],[0.8888888888888888,\"#fdca26\"],[1.0,\"#f0f921\"]]},\"yaxis\":{\"gridcolor\":\"white\",\"zerolinewidth\":2,\"title\":{\"standoff\":15},\"ticks\":\"\",\"zerolinecolor\":\"white\",\"automargin\":true,\"linecolor\":\"white\"},\"shapedefaults\":{\"line\":{\"color\":\"#2a3f5f\"}},\"hoverlabel\":{\"align\":\"left\"},\"mapbox\":{\"style\":\"light\"},\"polar\":{\"angularaxis\":{\"gridcolor\":\"white\",\"ticks\":\"\",\"linecolor\":\"white\"},\"bgcolor\":\"#E5ECF6\",\"radialaxis\":{\"gridcolor\":\"white\",\"ticks\":\"\",\"linecolor\":\"white\"}},\"autotypenumbers\":\"strict\",\"font\":{\"color\":\"#2a3f5f\"},\"ternary\":{\"baxis\":{\"gridcolor\":\"white\",\"ticks\":\"\",\"linecolor\":\"white\"},\"bgcolor\":\"#E5ECF6\",\"caxis\":{\"gridcolor\":\"white\",\"ticks\":\"\",\"linecolor\":\"white\"},\"aaxis\":{\"gridcolor\":\"white\",\"ticks\":\"\",\"linecolor\":\"white\"}},\"annotationdefaults\":{\"arrowhead\":0,\"arrowwidth\":1,\"arrowcolor\":\"#2a3f5f\"},\"plot_bgcolor\":\"#E5ECF6\",\"title\":{\"x\":0.05},\"scene\":{\"xaxis\":{\"gridcolor\":\"white\",\"gridwidth\":2,\"backgroundcolor\":\"#E5ECF6\",\"ticks\":\"\",\"showbackground\":true,\"zerolinecolor\":\"white\",\"linecolor\":\"white\"},\"zaxis\":{\"gridcolor\":\"white\",\"gridwidth\":2,\"backgroundcolor\":\"#E5ECF6\",\"ticks\":\"\",\"showbackground\":true,\"zerolinecolor\":\"white\",\"linecolor\":\"white\"},\"yaxis\":{\"gridcolor\":\"white\",\"gridwidth\":2,\"backgroundcolor\":\"#E5ECF6\",\"ticks\":\"\",\"showbackground\":true,\"zerolinecolor\":\"white\",\"linecolor\":\"white\"}},\"colorway\":[\"#636efa\",\"#EF553B\",\"#00cc96\",\"#ab63fa\",\"#FFA15A\",\"#19d3f3\",\"#FF6692\",\"#B6E880\",\"#FF97FF\",\"#FECB52\"]},\"data\":{\"barpolar\":[{\"type\":\"barpolar\",\"marker\":{\"line\":{\"color\":\"#E5ECF6\",\"width\":0.5}}}],\"carpet\":[{\"aaxis\":{\"gridcolor\":\"white\",\"endlinecolor\":\"#2a3f5f\",\"minorgridcolor\":\"white\",\"startlinecolor\":\"#2a3f5f\",\"linecolor\":\"white\"},\"type\":\"carpet\",\"baxis\":{\"gridcolor\":\"white\",\"endlinecolor\":\"#2a3f5f\",\"minorgridcolor\":\"white\",\"startlinecolor\":\"#2a3f5f\",\"linecolor\":\"white\"}}],\"scatterpolar\":[{\"type\":\"scatterpolar\",\"marker\":{\"colorbar\":{\"ticks\":\"\",\"outlinewidth\":0}}}],\"parcoords\":[{\"line\":{\"colorbar\":{\"ticks\":\"\",\"outlinewidth\":0}},\"type\":\"parcoords\"}],\"scatter\":[{\"type\":\"scatter\",\"marker\":{\"colorbar\":{\"ticks\":\"\",\"outlinewidth\":0}}}],\"histogram2dcontour\":[{\"colorbar\":{\"ticks\":\"\",\"outlinewidth\":0},\"type\":\"histogram2dcontour\",\"colorscale\":[[0.0,\"#0d0887\"],[0.1111111111111111,\"#46039f\"],[0.2222222222222222,\"#7201a8\"],[0.3333333333333333,\"#9c179e\"],[0.4444444444444444,\"#bd3786\"],[0.5555555555555556,\"#d8576b\"],[0.6666666666666666,\"#ed7953\"],[0.7777777777777778,\"#fb9f3a\"],[0.8888888888888888,\"#fdca26\"],[1.0,\"#f0f921\"]]}],\"contour\":[{\"colorbar\":{\"ticks\":\"\",\"outlinewidth\":0},\"type\":\"contour\",\"colorscale\":[[0.0,\"#0d0887\"],[0.1111111111111111,\"#46039f\"],[0.2222222222222222,\"#7201a8\"],[0.3333333333333333,\"#9c179e\"],[0.4444444444444444,\"#bd3786\"],[0.5555555555555556,\"#d8576b\"],[0.6666666666666666,\"#ed7953\"],[0.7777777777777778,\"#fb9f3a\"],[0.8888888888888888,\"#fdca26\"],[1.0,\"#f0f921\"]]}],\"scattercarpet\":[{\"type\":\"scattercarpet\",\"marker\":{\"colorbar\":{\"ticks\":\"\",\"outlinewidth\":0}}}],\"mesh3d\":[{\"colorbar\":{\"ticks\":\"\",\"outlinewidth\":0},\"type\":\"mesh3d\"}],\"surface\":[{\"colorbar\":{\"ticks\":\"\",\"outlinewidth\":0},\"type\":\"surface\",\"colorscale\":[[0.0,\"#0d0887\"],[0.1111111111111111,\"#46039f\"],[0.2222222222222222,\"#7201a8\"],[0.3333333333333333,\"#9c179e\"],[0.4444444444444444,\"#bd3786\"],[0.5555555555555556,\"#d8576b\"],[0.6666666666666666,\"#ed7953\"],[0.7777777777777778,\"#fb9f3a\"],[0.8888888888888888,\"#fdca26\"],[1.0,\"#f0f921\"]]}],\"scattermapbox\":[{\"type\":\"scattermapbox\",\"marker\":{\"colorbar\":{\"ticks\":\"\",\"outlinewidth\":0}}}],\"scattergeo\":[{\"type\":\"scattergeo\",\"marker\":{\"colorbar\":{\"ticks\":\"\",\"outlinewidth\":0}}}],\"histogram\":[{\"type\":\"histogram\",\"marker\":{\"colorbar\":{\"ticks\":\"\",\"outlinewidth\":0}}}],\"pie\":[{\"type\":\"pie\",\"automargin\":true}],\"choropleth\":[{\"colorbar\":{\"ticks\":\"\",\"outlinewidth\":0},\"type\":\"choropleth\"}],\"heatmapgl\":[{\"colorbar\":{\"ticks\":\"\",\"outlinewidth\":0},\"type\":\"heatmapgl\",\"colorscale\":[[0.0,\"#0d0887\"],[0.1111111111111111,\"#46039f\"],[0.2222222222222222,\"#7201a8\"],[0.3333333333333333,\"#9c179e\"],[0.4444444444444444,\"#bd3786\"],[0.5555555555555556,\"#d8576b\"],[0.6666666666666666,\"#ed7953\"],[0.7777777777777778,\"#fb9f3a\"],[0.8888888888888888,\"#fdca26\"],[1.0,\"#f0f921\"]]}],\"bar\":[{\"type\":\"bar\",\"error_y\":{\"color\":\"#2a3f5f\"},\"error_x\":{\"color\":\"#2a3f5f\"},\"marker\":{\"line\":{\"color\":\"#E5ECF6\",\"width\":0.5}}}],\"heatmap\":[{\"colorbar\":{\"ticks\":\"\",\"outlinewidth\":0},\"type\":\"heatmap\",\"colorscale\":[[0.0,\"#0d0887\"],[0.1111111111111111,\"#46039f\"],[0.2222222222222222,\"#7201a8\"],[0.3333333333333333,\"#9c179e\"],[0.4444444444444444,\"#bd3786\"],[0.5555555555555556,\"#d8576b\"],[0.6666666666666666,\"#ed7953\"],[0.7777777777777778,\"#fb9f3a\"],[0.8888888888888888,\"#fdca26\"],[1.0,\"#f0f921\"]]}],\"contourcarpet\":[{\"colorbar\":{\"ticks\":\"\",\"outlinewidth\":0},\"type\":\"contourcarpet\"}],\"table\":[{\"type\":\"table\",\"header\":{\"line\":{\"color\":\"white\"},\"fill\":{\"color\":\"#C8D4E3\"}},\"cells\":{\"line\":{\"color\":\"white\"},\"fill\":{\"color\":\"#EBF0F8\"}}}],\"scatter3d\":[{\"line\":{\"colorbar\":{\"ticks\":\"\",\"outlinewidth\":0}},\"type\":\"scatter3d\",\"marker\":{\"colorbar\":{\"ticks\":\"\",\"outlinewidth\":0}}}],\"scattergl\":[{\"type\":\"scattergl\",\"marker\":{\"colorbar\":{\"ticks\":\"\",\"outlinewidth\":0}}}],\"histogram2d\":[{\"colorbar\":{\"ticks\":\"\",\"outlinewidth\":0},\"type\":\"histogram2d\",\"colorscale\":[[0.0,\"#0d0887\"],[0.1111111111111111,\"#46039f\"],[0.2222222222222222,\"#7201a8\"],[0.3333333333333333,\"#9c179e\"],[0.4444444444444444,\"#bd3786\"],[0.5555555555555556,\"#d8576b\"],[0.6666666666666666,\"#ed7953\"],[0.7777777777777778,\"#fb9f3a\"],[0.8888888888888888,\"#fdca26\"],[1.0,\"#f0f921\"]]}],\"scatterternary\":[{\"type\":\"scatterternary\",\"marker\":{\"colorbar\":{\"ticks\":\"\",\"outlinewidth\":0}}}],\"scatterpolargl\":[{\"type\":\"scatterpolargl\",\"marker\":{\"colorbar\":{\"ticks\":\"\",\"outlinewidth\":0}}}]}},\"scene\":{\"camera\":{\"eye\":{\"y\":1.0,\"z\":1.8,\"x\":1.8}},\"xaxis\":{\"showticklabels\":false,\"showaxeslabels\":false,\"title\":{\"text\":\"\"},\"showbackground\":false},\"yaxis\":{\"showticklabels\":false,\"showaxeslabels\":false,\"title\":{\"text\":\"\"},\"showbackground\":false},\"zaxis\":{\"showticklabels\":false,\"showaxeslabels\":false,\"title\":{\"text\":\"\"},\"showbackground\":false},\"aspectmode\":\"data\",\"autosize\":true},\"margin\":{\"l\":50,\"b\":50,\"r\":50,\"t\":60},\"height\":400,\"width\":400},\n",
       "        {\"editable\":false,\"responsive\":true,\"staticPlot\":false,\"scrollZoom\":true},\n",
       "    )\n",
       "}\n",
       "\n",
       "        \n",
       "    </script>\n",
       "</div>\n",
       "\n",
       "</body>\n",
       "</html>"
      ],
      "text/plain": [
       "data: [\n",
       "  \"mesh3d with fields facecolor, i, j, k, opacity, type, x, y, and z\",\n",
       "  \"scatter3d with fields line, mode, type, x, y, and z\",\n",
       "  \"scatter3d with fields line, mode, type, x, y, and z\",\n",
       "  \"scatter3d with fields line, mode, type, x, y, and z\",\n",
       "  \"scatter3d with fields line, mode, type, x, y, and z\",\n",
       "  \"scatter3d with fields line, mode, type, x, y, and z\",\n",
       "  \"scatter3d with fields line, mode, type, x, y, and z\",\n",
       "  \"scatter3d with fields line, mode, type, x, y, and z\",\n",
       "  \"scatter3d with fields line, mode, type, x, y, and z\",\n",
       "  \"scatter3d with fields line, mode, type, x, y, and z\",\n",
       "  \"scatter3d with fields line, mode, type, x, y, and z\",\n",
       "  \"scatter3d with fields line, mode, type, x, y, and z\",\n",
       "  \"scatter3d with fields line, mode, type, x, y, and z\",\n",
       "  \"scatter3d with fields line, mode, type, x, y, and z\",\n",
       "  \"scatter3d with fields line, mode, type, x, y, and z\",\n",
       "  \"scatter3d with fields line, mode, type, x, y, and z\",\n",
       "  \"scatter3d with fields line, mode, type, x, y, and z\",\n",
       "  \"scatter3d with fields line, mode, type, x, y, and z\",\n",
       "  \"scatter3d with fields line, mode, type, x, y, and z\",\n",
       "  \"scatter3d with fields line, mode, type, x, y, and z\",\n",
       "  \"scatter3d with fields line, mode, type, x, y, and z\",\n",
       "  \"scatter3d with fields line, mode, type, x, y, and z\",\n",
       "  \"scatter3d with fields line, mode, type, x, y, and z\",\n",
       "  \"scatter3d with fields line, mode, type, x, y, and z\",\n",
       "  \"scatter3d with fields line, mode, type, x, y, and z\",\n",
       "  \"scatter3d with fields line, mode, type, x, y, and z\",\n",
       "  \"scatter3d with fields line, mode, type, x, y, and z\",\n",
       "  \"scatter3d with fields line, mode, type, x, y, and z\",\n",
       "  \"scatter3d with fields line, mode, type, x, y, and z\",\n",
       "  \"scatter3d with fields line, mode, type, x, y, and z\",\n",
       "  \"scatter3d with fields line, mode, type, x, y, and z\",\n",
       "  \"scatter3d with fields line, mode, type, x, y, and z\",\n",
       "  \"scatter3d with fields line, mode, type, x, y, and z\",\n",
       "  \"scatter3d with fields line, mode, type, x, y, and z\"\n",
       "]\n",
       "\n",
       "layout: \"layout with fields height, margin, scene, showlegend, template, and width\"\n",
       "\n"
      ]
     },
     "metadata": {},
     "output_type": "display_data"
    },
    {
     "data": {
      "application/vnd.plotly.v1+json": {
       "config": {
        "editable": false,
        "responsive": true,
        "scrollZoom": true,
        "showLink": false,
        "staticPlot": false
       },
       "data": [
        {
         "facecolor": [
          "#407FB7",
          "#407FB7",
          "#407FB7",
          "#407FB7",
          "#407FB7",
          "#407FB7",
          "#407FB7",
          "#407FB7",
          "#407FB7",
          "#407FB7",
          "#407FB7",
          "#407FB7",
          "#407FB7",
          "#407FB7",
          "#407FB7",
          "#407FB7",
          "#407FB7",
          "#407FB7"
         ],
         "i": [
          0,
          0,
          0,
          0,
          7,
          0,
          0,
          12,
          7,
          7,
          12,
          12,
          7,
          7,
          12,
          12,
          7,
          12
         ],
         "j": [
          1,
          2,
          6,
          3,
          3,
          5,
          4,
          4,
          2,
          11,
          3,
          15,
          10,
          8,
          11,
          14,
          9,
          13
         ],
         "k": [
          2,
          3,
          1,
          4,
          2,
          6,
          5,
          3,
          8,
          3,
          11,
          4,
          11,
          9,
          13,
          15,
          10,
          14
         ],
         "opacity": 0.9,
         "type": "mesh3d",
         "x": [
          0,
          -1.5503679241285018,
          0.35883613396500846,
          0.20845989984609956,
          1.5503679241285018,
          -0.35883613396500846,
          -0.20845989984609956,
          0.02186113480074236,
          -0.9288647793423629,
          0.8301278934635308,
          0.7134595726613177,
          1.7003621608442439,
          1.0337023629484945,
          1.8509441193416132,
          2.802761292981576,
          1.665968394506653
         ],
         "y": [
          0,
          1.4551552534966965,
          1.9940811633016544,
          0,
          -1.4551552534966965,
          -1.9940811633016544,
          0,
          2.0043605103199225,
          3.4482148215436634,
          3.989971637398578,
          1.99525520976222,
          0.5467904413768708,
          -1.7755510486608819,
          -1.5065615323723498,
          -3.134077949550979,
          -3.331714936292212
         ],
         "z": [
          0,
          0.6920133582919109,
          0.9459793566069867,
          0.9780309147241483,
          0.6920133582919109,
          0.9459793566069867,
          0.9780309147241483,
          0.004521877501785569,
          1.4227619714694373,
          0.6401737467369659,
          0.7267467000124531,
          -0.2365669021878992,
          -0.10196600688810335,
          0.4077010920444772,
          -0.2595577631070108,
          1.3740399619920525
         ]
        },
        {
         "line": {
          "color": "#000000"
         },
         "mode": "lines",
         "type": "scatter3d",
         "x": [
          0,
          -1.5503679241285018
         ],
         "y": [
          0,
          1.4551552534966965
         ],
         "z": [
          0,
          0.6920133582919109
         ]
        },
        {
         "line": {
          "color": "#000000"
         },
         "mode": "lines",
         "type": "scatter3d",
         "x": [
          0,
          0.35883613396500846
         ],
         "y": [
          0,
          1.9940811633016544
         ],
         "z": [
          0,
          0.9459793566069867
         ]
        },
        {
         "line": {
          "color": "#000000"
         },
         "mode": "lines",
         "type": "scatter3d",
         "x": [
          0,
          0.20845989984609956
         ],
         "y": [
          0,
          0
         ],
         "z": [
          0,
          0.9780309147241483
         ]
        },
        {
         "line": {
          "color": "#000000"
         },
         "mode": "lines",
         "type": "scatter3d",
         "x": [
          0,
          1.5503679241285018
         ],
         "y": [
          0,
          -1.4551552534966965
         ],
         "z": [
          0,
          0.6920133582919109
         ]
        },
        {
         "line": {
          "color": "#000000"
         },
         "mode": "lines",
         "type": "scatter3d",
         "x": [
          0,
          -0.35883613396500846
         ],
         "y": [
          0,
          -1.9940811633016544
         ],
         "z": [
          0,
          0.9459793566069867
         ]
        },
        {
         "line": {
          "color": "#000000"
         },
         "mode": "lines",
         "type": "scatter3d",
         "x": [
          0,
          -0.20845989984609956
         ],
         "y": [
          0,
          0
         ],
         "z": [
          0,
          0.9780309147241483
         ]
        },
        {
         "line": {
          "color": "#000000"
         },
         "mode": "lines",
         "type": "scatter3d",
         "x": [
          -1.5503679241285018,
          0.35883613396500846
         ],
         "y": [
          1.4551552534966965,
          1.9940811633016544
         ],
         "z": [
          0.6920133582919109,
          0.9459793566069867
         ]
        },
        {
         "line": {
          "color": "#000000"
         },
         "mode": "lines",
         "type": "scatter3d",
         "x": [
          -1.5503679241285018,
          -0.20845989984609956
         ],
         "y": [
          1.4551552534966965,
          0
         ],
         "z": [
          0.6920133582919109,
          0.9780309147241483
         ]
        },
        {
         "line": {
          "color": "#000000"
         },
         "mode": "lines",
         "type": "scatter3d",
         "x": [
          0.35883613396500846,
          0.20845989984609956
         ],
         "y": [
          1.9940811633016544,
          0
         ],
         "z": [
          0.9459793566069867,
          0.9780309147241483
         ]
        },
        {
         "line": {
          "color": "#000000"
         },
         "mode": "lines",
         "type": "scatter3d",
         "x": [
          0.35883613396500846,
          0.02186113480074236
         ],
         "y": [
          1.9940811633016544,
          2.0043605103199225
         ],
         "z": [
          0.9459793566069867,
          0.004521877501785569
         ]
        },
        {
         "line": {
          "color": "#000000"
         },
         "mode": "lines",
         "type": "scatter3d",
         "x": [
          0.35883613396500846,
          -0.9288647793423629
         ],
         "y": [
          1.9940811633016544,
          3.4482148215436634
         ],
         "z": [
          0.9459793566069867,
          1.4227619714694373
         ]
        },
        {
         "line": {
          "color": "#000000"
         },
         "mode": "lines",
         "type": "scatter3d",
         "x": [
          0.20845989984609956,
          1.5503679241285018
         ],
         "y": [
          0,
          -1.4551552534966965
         ],
         "z": [
          0.9780309147241483,
          0.6920133582919109
         ]
        },
        {
         "line": {
          "color": "#000000"
         },
         "mode": "lines",
         "type": "scatter3d",
         "x": [
          0.20845989984609956,
          0.02186113480074236
         ],
         "y": [
          0,
          2.0043605103199225
         ],
         "z": [
          0.9780309147241483,
          0.004521877501785569
         ]
        },
        {
         "line": {
          "color": "#000000"
         },
         "mode": "lines",
         "type": "scatter3d",
         "x": [
          0.20845989984609956,
          1.7003621608442439
         ],
         "y": [
          0,
          0.5467904413768708
         ],
         "z": [
          0.9780309147241483,
          -0.2365669021878992
         ]
        },
        {
         "line": {
          "color": "#000000"
         },
         "mode": "lines",
         "type": "scatter3d",
         "x": [
          0.20845989984609956,
          1.0337023629484945
         ],
         "y": [
          0,
          -1.7755510486608819
         ],
         "z": [
          0.9780309147241483,
          -0.10196600688810335
         ]
        },
        {
         "line": {
          "color": "#000000"
         },
         "mode": "lines",
         "type": "scatter3d",
         "x": [
          1.5503679241285018,
          -0.35883613396500846
         ],
         "y": [
          -1.4551552534966965,
          -1.9940811633016544
         ],
         "z": [
          0.6920133582919109,
          0.9459793566069867
         ]
        },
        {
         "line": {
          "color": "#000000"
         },
         "mode": "lines",
         "type": "scatter3d",
         "x": [
          1.5503679241285018,
          1.0337023629484945
         ],
         "y": [
          -1.4551552534966965,
          -1.7755510486608819
         ],
         "z": [
          0.6920133582919109,
          -0.10196600688810335
         ]
        },
        {
         "line": {
          "color": "#000000"
         },
         "mode": "lines",
         "type": "scatter3d",
         "x": [
          1.5503679241285018,
          1.665968394506653
         ],
         "y": [
          -1.4551552534966965,
          -3.331714936292212
         ],
         "z": [
          0.6920133582919109,
          1.3740399619920525
         ]
        },
        {
         "line": {
          "color": "#000000"
         },
         "mode": "lines",
         "type": "scatter3d",
         "x": [
          -0.35883613396500846,
          -0.20845989984609956
         ],
         "y": [
          -1.9940811633016544,
          0
         ],
         "z": [
          0.9459793566069867,
          0.9780309147241483
         ]
        },
        {
         "line": {
          "color": "#000000"
         },
         "mode": "lines",
         "type": "scatter3d",
         "x": [
          0.02186113480074236,
          -0.9288647793423629
         ],
         "y": [
          2.0043605103199225,
          3.4482148215436634
         ],
         "z": [
          0.004521877501785569,
          1.4227619714694373
         ]
        },
        {
         "line": {
          "color": "#000000"
         },
         "mode": "lines",
         "type": "scatter3d",
         "x": [
          0.02186113480074236,
          0.8301278934635308
         ],
         "y": [
          2.0043605103199225,
          3.989971637398578
         ],
         "z": [
          0.004521877501785569,
          0.6401737467369659
         ]
        },
        {
         "line": {
          "color": "#000000"
         },
         "mode": "lines",
         "type": "scatter3d",
         "x": [
          0.02186113480074236,
          0.7134595726613177
         ],
         "y": [
          2.0043605103199225,
          1.99525520976222
         ],
         "z": [
          0.004521877501785569,
          0.7267467000124531
         ]
        },
        {
         "line": {
          "color": "#000000"
         },
         "mode": "lines",
         "type": "scatter3d",
         "x": [
          0.02186113480074236,
          1.7003621608442439
         ],
         "y": [
          2.0043605103199225,
          0.5467904413768708
         ],
         "z": [
          0.004521877501785569,
          -0.2365669021878992
         ]
        },
        {
         "line": {
          "color": "#000000"
         },
         "mode": "lines",
         "type": "scatter3d",
         "x": [
          -0.9288647793423629,
          0.8301278934635308
         ],
         "y": [
          3.4482148215436634,
          3.989971637398578
         ],
         "z": [
          1.4227619714694373,
          0.6401737467369659
         ]
        },
        {
         "line": {
          "color": "#000000"
         },
         "mode": "lines",
         "type": "scatter3d",
         "x": [
          0.8301278934635308,
          0.7134595726613177
         ],
         "y": [
          3.989971637398578,
          1.99525520976222
         ],
         "z": [
          0.6401737467369659,
          0.7267467000124531
         ]
        },
        {
         "line": {
          "color": "#000000"
         },
         "mode": "lines",
         "type": "scatter3d",
         "x": [
          0.7134595726613177,
          1.7003621608442439
         ],
         "y": [
          1.99525520976222,
          0.5467904413768708
         ],
         "z": [
          0.7267467000124531,
          -0.2365669021878992
         ]
        },
        {
         "line": {
          "color": "#000000"
         },
         "mode": "lines",
         "type": "scatter3d",
         "x": [
          1.7003621608442439,
          1.0337023629484945
         ],
         "y": [
          0.5467904413768708,
          -1.7755510486608819
         ],
         "z": [
          -0.2365669021878992,
          -0.10196600688810335
         ]
        },
        {
         "line": {
          "color": "#000000"
         },
         "mode": "lines",
         "type": "scatter3d",
         "x": [
          1.7003621608442439,
          1.8509441193416132
         ],
         "y": [
          0.5467904413768708,
          -1.5065615323723498
         ],
         "z": [
          -0.2365669021878992,
          0.4077010920444772
         ]
        },
        {
         "line": {
          "color": "#000000"
         },
         "mode": "lines",
         "type": "scatter3d",
         "x": [
          1.0337023629484945,
          1.8509441193416132
         ],
         "y": [
          -1.7755510486608819,
          -1.5065615323723498
         ],
         "z": [
          -0.10196600688810335,
          0.4077010920444772
         ]
        },
        {
         "line": {
          "color": "#000000"
         },
         "mode": "lines",
         "type": "scatter3d",
         "x": [
          1.0337023629484945,
          2.802761292981576
         ],
         "y": [
          -1.7755510486608819,
          -3.134077949550979
         ],
         "z": [
          -0.10196600688810335,
          -0.2595577631070108
         ]
        },
        {
         "line": {
          "color": "#000000"
         },
         "mode": "lines",
         "type": "scatter3d",
         "x": [
          1.0337023629484945,
          1.665968394506653
         ],
         "y": [
          -1.7755510486608819,
          -3.331714936292212
         ],
         "z": [
          -0.10196600688810335,
          1.3740399619920525
         ]
        },
        {
         "line": {
          "color": "#000000"
         },
         "mode": "lines",
         "type": "scatter3d",
         "x": [
          1.8509441193416132,
          2.802761292981576
         ],
         "y": [
          -1.5065615323723498,
          -3.134077949550979
         ],
         "z": [
          0.4077010920444772,
          -0.2595577631070108
         ]
        },
        {
         "line": {
          "color": "#000000"
         },
         "mode": "lines",
         "type": "scatter3d",
         "x": [
          2.802761292981576,
          1.665968394506653
         ],
         "y": [
          -3.134077949550979,
          -3.331714936292212
         ],
         "z": [
          -0.2595577631070108,
          1.3740399619920525
         ]
        }
       ],
       "frames": [],
       "layout": {
        "height": 400,
        "margin": {
         "b": 50,
         "l": 50,
         "r": 50,
         "t": 60
        },
        "scene": {
         "aspectmode": "data",
         "autosize": true,
         "camera": {
          "eye": {
           "x": 1.8,
           "y": 1,
           "z": 1.8
          }
         },
         "xaxis": {
          "showaxeslabels": false,
          "showbackground": false,
          "showticklabels": false,
          "title": {
           "text": ""
          }
         },
         "yaxis": {
          "showaxeslabels": false,
          "showbackground": false,
          "showticklabels": false,
          "title": {
           "text": ""
          }
         },
         "zaxis": {
          "showaxeslabels": false,
          "showbackground": false,
          "showticklabels": false,
          "title": {
           "text": ""
          }
         }
        },
        "showlegend": false,
        "template": {
         "data": {
          "bar": [
           {
            "error_x": {
             "color": "#2a3f5f"
            },
            "error_y": {
             "color": "#2a3f5f"
            },
            "marker": {
             "line": {
              "color": "#E5ECF6",
              "width": 0.5
             }
            },
            "type": "bar"
           }
          ],
          "barpolar": [
           {
            "marker": {
             "line": {
              "color": "#E5ECF6",
              "width": 0.5
             }
            },
            "type": "barpolar"
           }
          ],
          "carpet": [
           {
            "aaxis": {
             "endlinecolor": "#2a3f5f",
             "gridcolor": "white",
             "linecolor": "white",
             "minorgridcolor": "white",
             "startlinecolor": "#2a3f5f"
            },
            "baxis": {
             "endlinecolor": "#2a3f5f",
             "gridcolor": "white",
             "linecolor": "white",
             "minorgridcolor": "white",
             "startlinecolor": "#2a3f5f"
            },
            "type": "carpet"
           }
          ],
          "choropleth": [
           {
            "colorbar": {
             "outlinewidth": 0,
             "ticks": ""
            },
            "type": "choropleth"
           }
          ],
          "contour": [
           {
            "colorbar": {
             "outlinewidth": 0,
             "ticks": ""
            },
            "colorscale": [
             [
              0,
              "#0d0887"
             ],
             [
              0.1111111111111111,
              "#46039f"
             ],
             [
              0.2222222222222222,
              "#7201a8"
             ],
             [
              0.3333333333333333,
              "#9c179e"
             ],
             [
              0.4444444444444444,
              "#bd3786"
             ],
             [
              0.5555555555555556,
              "#d8576b"
             ],
             [
              0.6666666666666666,
              "#ed7953"
             ],
             [
              0.7777777777777778,
              "#fb9f3a"
             ],
             [
              0.8888888888888888,
              "#fdca26"
             ],
             [
              1,
              "#f0f921"
             ]
            ],
            "type": "contour"
           }
          ],
          "contourcarpet": [
           {
            "colorbar": {
             "outlinewidth": 0,
             "ticks": ""
            },
            "type": "contourcarpet"
           }
          ],
          "heatmap": [
           {
            "colorbar": {
             "outlinewidth": 0,
             "ticks": ""
            },
            "colorscale": [
             [
              0,
              "#0d0887"
             ],
             [
              0.1111111111111111,
              "#46039f"
             ],
             [
              0.2222222222222222,
              "#7201a8"
             ],
             [
              0.3333333333333333,
              "#9c179e"
             ],
             [
              0.4444444444444444,
              "#bd3786"
             ],
             [
              0.5555555555555556,
              "#d8576b"
             ],
             [
              0.6666666666666666,
              "#ed7953"
             ],
             [
              0.7777777777777778,
              "#fb9f3a"
             ],
             [
              0.8888888888888888,
              "#fdca26"
             ],
             [
              1,
              "#f0f921"
             ]
            ],
            "type": "heatmap"
           }
          ],
          "heatmapgl": [
           {
            "colorbar": {
             "outlinewidth": 0,
             "ticks": ""
            },
            "colorscale": [
             [
              0,
              "#0d0887"
             ],
             [
              0.1111111111111111,
              "#46039f"
             ],
             [
              0.2222222222222222,
              "#7201a8"
             ],
             [
              0.3333333333333333,
              "#9c179e"
             ],
             [
              0.4444444444444444,
              "#bd3786"
             ],
             [
              0.5555555555555556,
              "#d8576b"
             ],
             [
              0.6666666666666666,
              "#ed7953"
             ],
             [
              0.7777777777777778,
              "#fb9f3a"
             ],
             [
              0.8888888888888888,
              "#fdca26"
             ],
             [
              1,
              "#f0f921"
             ]
            ],
            "type": "heatmapgl"
           }
          ],
          "histogram": [
           {
            "marker": {
             "colorbar": {
              "outlinewidth": 0,
              "ticks": ""
             }
            },
            "type": "histogram"
           }
          ],
          "histogram2d": [
           {
            "colorbar": {
             "outlinewidth": 0,
             "ticks": ""
            },
            "colorscale": [
             [
              0,
              "#0d0887"
             ],
             [
              0.1111111111111111,
              "#46039f"
             ],
             [
              0.2222222222222222,
              "#7201a8"
             ],
             [
              0.3333333333333333,
              "#9c179e"
             ],
             [
              0.4444444444444444,
              "#bd3786"
             ],
             [
              0.5555555555555556,
              "#d8576b"
             ],
             [
              0.6666666666666666,
              "#ed7953"
             ],
             [
              0.7777777777777778,
              "#fb9f3a"
             ],
             [
              0.8888888888888888,
              "#fdca26"
             ],
             [
              1,
              "#f0f921"
             ]
            ],
            "type": "histogram2d"
           }
          ],
          "histogram2dcontour": [
           {
            "colorbar": {
             "outlinewidth": 0,
             "ticks": ""
            },
            "colorscale": [
             [
              0,
              "#0d0887"
             ],
             [
              0.1111111111111111,
              "#46039f"
             ],
             [
              0.2222222222222222,
              "#7201a8"
             ],
             [
              0.3333333333333333,
              "#9c179e"
             ],
             [
              0.4444444444444444,
              "#bd3786"
             ],
             [
              0.5555555555555556,
              "#d8576b"
             ],
             [
              0.6666666666666666,
              "#ed7953"
             ],
             [
              0.7777777777777778,
              "#fb9f3a"
             ],
             [
              0.8888888888888888,
              "#fdca26"
             ],
             [
              1,
              "#f0f921"
             ]
            ],
            "type": "histogram2dcontour"
           }
          ],
          "mesh3d": [
           {
            "colorbar": {
             "outlinewidth": 0,
             "ticks": ""
            },
            "type": "mesh3d"
           }
          ],
          "parcoords": [
           {
            "line": {
             "colorbar": {
              "outlinewidth": 0,
              "ticks": ""
             }
            },
            "type": "parcoords"
           }
          ],
          "pie": [
           {
            "automargin": true,
            "type": "pie"
           }
          ],
          "scatter": [
           {
            "marker": {
             "colorbar": {
              "outlinewidth": 0,
              "ticks": ""
             }
            },
            "type": "scatter"
           }
          ],
          "scatter3d": [
           {
            "line": {
             "colorbar": {
              "outlinewidth": 0,
              "ticks": ""
             }
            },
            "marker": {
             "colorbar": {
              "outlinewidth": 0,
              "ticks": ""
             }
            },
            "type": "scatter3d"
           }
          ],
          "scattercarpet": [
           {
            "marker": {
             "colorbar": {
              "outlinewidth": 0,
              "ticks": ""
             }
            },
            "type": "scattercarpet"
           }
          ],
          "scattergeo": [
           {
            "marker": {
             "colorbar": {
              "outlinewidth": 0,
              "ticks": ""
             }
            },
            "type": "scattergeo"
           }
          ],
          "scattergl": [
           {
            "marker": {
             "colorbar": {
              "outlinewidth": 0,
              "ticks": ""
             }
            },
            "type": "scattergl"
           }
          ],
          "scattermapbox": [
           {
            "marker": {
             "colorbar": {
              "outlinewidth": 0,
              "ticks": ""
             }
            },
            "type": "scattermapbox"
           }
          ],
          "scatterpolar": [
           {
            "marker": {
             "colorbar": {
              "outlinewidth": 0,
              "ticks": ""
             }
            },
            "type": "scatterpolar"
           }
          ],
          "scatterpolargl": [
           {
            "marker": {
             "colorbar": {
              "outlinewidth": 0,
              "ticks": ""
             }
            },
            "type": "scatterpolargl"
           }
          ],
          "scatterternary": [
           {
            "marker": {
             "colorbar": {
              "outlinewidth": 0,
              "ticks": ""
             }
            },
            "type": "scatterternary"
           }
          ],
          "surface": [
           {
            "colorbar": {
             "outlinewidth": 0,
             "ticks": ""
            },
            "colorscale": [
             [
              0,
              "#0d0887"
             ],
             [
              0.1111111111111111,
              "#46039f"
             ],
             [
              0.2222222222222222,
              "#7201a8"
             ],
             [
              0.3333333333333333,
              "#9c179e"
             ],
             [
              0.4444444444444444,
              "#bd3786"
             ],
             [
              0.5555555555555556,
              "#d8576b"
             ],
             [
              0.6666666666666666,
              "#ed7953"
             ],
             [
              0.7777777777777778,
              "#fb9f3a"
             ],
             [
              0.8888888888888888,
              "#fdca26"
             ],
             [
              1,
              "#f0f921"
             ]
            ],
            "type": "surface"
           }
          ],
          "table": [
           {
            "cells": {
             "fill": {
              "color": "#EBF0F8"
             },
             "line": {
              "color": "white"
             }
            },
            "header": {
             "fill": {
              "color": "#C8D4E3"
             },
             "line": {
              "color": "white"
             }
            },
            "type": "table"
           }
          ]
         },
         "layout": {
          "annotationdefaults": {
           "arrowcolor": "#2a3f5f",
           "arrowhead": 0,
           "arrowwidth": 1
          },
          "autotypenumbers": "strict",
          "coloraxis": {
           "colorbar": {
            "outlinewidth": 0,
            "ticks": ""
           }
          },
          "colorscale": {
           "diverging": [
            [
             0,
             "#8e0152"
            ],
            [
             0.1,
             "#c51b7d"
            ],
            [
             0.2,
             "#de77ae"
            ],
            [
             0.3,
             "#f1b6da"
            ],
            [
             0.4,
             "#fde0ef"
            ],
            [
             0.5,
             "#f7f7f7"
            ],
            [
             0.6,
             "#e6f5d0"
            ],
            [
             0.7,
             "#b8e186"
            ],
            [
             0.8,
             "#7fbc41"
            ],
            [
             0.9,
             "#4d9221"
            ],
            [
             1,
             "#276419"
            ]
           ],
           "sequential": [
            [
             0,
             "#0d0887"
            ],
            [
             0.1111111111111111,
             "#46039f"
            ],
            [
             0.2222222222222222,
             "#7201a8"
            ],
            [
             0.3333333333333333,
             "#9c179e"
            ],
            [
             0.4444444444444444,
             "#bd3786"
            ],
            [
             0.5555555555555556,
             "#d8576b"
            ],
            [
             0.6666666666666666,
             "#ed7953"
            ],
            [
             0.7777777777777778,
             "#fb9f3a"
            ],
            [
             0.8888888888888888,
             "#fdca26"
            ],
            [
             1,
             "#f0f921"
            ]
           ],
           "sequentialminus": [
            [
             0,
             "#0d0887"
            ],
            [
             0.1111111111111111,
             "#46039f"
            ],
            [
             0.2222222222222222,
             "#7201a8"
            ],
            [
             0.3333333333333333,
             "#9c179e"
            ],
            [
             0.4444444444444444,
             "#bd3786"
            ],
            [
             0.5555555555555556,
             "#d8576b"
            ],
            [
             0.6666666666666666,
             "#ed7953"
            ],
            [
             0.7777777777777778,
             "#fb9f3a"
            ],
            [
             0.8888888888888888,
             "#fdca26"
            ],
            [
             1,
             "#f0f921"
            ]
           ]
          },
          "colorway": [
           "#636efa",
           "#EF553B",
           "#00cc96",
           "#ab63fa",
           "#FFA15A",
           "#19d3f3",
           "#FF6692",
           "#B6E880",
           "#FF97FF",
           "#FECB52"
          ],
          "font": {
           "color": "#2a3f5f"
          },
          "geo": {
           "bgcolor": "white",
           "lakecolor": "white",
           "landcolor": "#E5ECF6",
           "showlakes": true,
           "showland": true,
           "subunitcolor": "white"
          },
          "hoverlabel": {
           "align": "left"
          },
          "hovermode": "closest",
          "mapbox": {
           "style": "light"
          },
          "paper_bgcolor": "white",
          "plot_bgcolor": "#E5ECF6",
          "polar": {
           "angularaxis": {
            "gridcolor": "white",
            "linecolor": "white",
            "ticks": ""
           },
           "bgcolor": "#E5ECF6",
           "radialaxis": {
            "gridcolor": "white",
            "linecolor": "white",
            "ticks": ""
           }
          },
          "scene": {
           "xaxis": {
            "backgroundcolor": "#E5ECF6",
            "gridcolor": "white",
            "gridwidth": 2,
            "linecolor": "white",
            "showbackground": true,
            "ticks": "",
            "zerolinecolor": "white"
           },
           "yaxis": {
            "backgroundcolor": "#E5ECF6",
            "gridcolor": "white",
            "gridwidth": 2,
            "linecolor": "white",
            "showbackground": true,
            "ticks": "",
            "zerolinecolor": "white"
           },
           "zaxis": {
            "backgroundcolor": "#E5ECF6",
            "gridcolor": "white",
            "gridwidth": 2,
            "linecolor": "white",
            "showbackground": true,
            "ticks": "",
            "zerolinecolor": "white"
           }
          },
          "shapedefaults": {
           "line": {
            "color": "#2a3f5f"
           }
          },
          "ternary": {
           "aaxis": {
            "gridcolor": "white",
            "linecolor": "white",
            "ticks": ""
           },
           "baxis": {
            "gridcolor": "white",
            "linecolor": "white",
            "ticks": ""
           },
           "bgcolor": "#E5ECF6",
           "caxis": {
            "gridcolor": "white",
            "linecolor": "white",
            "ticks": ""
           }
          },
          "title": {
           "x": 0.05
          },
          "xaxis": {
           "automargin": true,
           "gridcolor": "white",
           "linecolor": "white",
           "ticks": "",
           "title": {
            "standoff": 15
           },
           "zerolinecolor": "white",
           "zerolinewidth": 2
          },
          "yaxis": {
           "automargin": true,
           "gridcolor": "white",
           "linecolor": "white",
           "ticks": "",
           "title": {
            "standoff": 15
           },
           "zerolinecolor": "white",
           "zerolinewidth": 2
          }
         }
        },
        "width": 400
       }
      },
      "text/html": [
       "<html>\n",
       "<head><meta charset=\"utf-8\" /></head>\n",
       "<body>\n",
       "<div>\n",
       "    <script src=\"https://cdnjs.cloudflare.com/ajax/libs/mathjax/2.7.5/MathJax.js?config=TeX-AMS-MML_SVG\"></script>\n",
       "    <script type=\"text/javascript\">\n",
       "window.PlotlyConfig = {MathJaxConfig: 'local'};\n",
       "</script>\n",
       "<script src=\"https://cdn.plot.ly/plotly-2.3.0.min.js\"></script>\n",
       "\n",
       "    <div\n",
       "        id=7fcfe264-9aa1-4830-b5ad-7745b4143bea\n",
       "        class=\"plotly-graph-div\"\n",
       "        style=\"height:400; width:400;\">\n",
       "    </div>\n",
       "    <script type=\"text/javascript\">\n",
       "        \n",
       "        window.PLOTLYENV = window.PLOTLYENV || {}\n",
       "        \n",
       "        if (document.getElementById('7fcfe264-9aa1-4830-b5ad-7745b4143bea')) {\n",
       "    Plotly.newPlot(\n",
       "        '7fcfe264-9aa1-4830-b5ad-7745b4143bea',\n",
       "        [{\"y\":[0.0,1.4551552534966965,1.9940811633016544,0.0,-1.4551552534966965,-1.9940811633016544,0.0,2.0043605103199225,3.4482148215436634,3.989971637398578,1.99525520976222,0.5467904413768708,-1.7755510486608819,-1.5065615323723498,-3.134077949550979,-3.331714936292212],\"type\":\"mesh3d\",\"j\":[1,2,6,3,3,5,4,4,2,11,3,15,10,8,11,14,9,13],\"k\":[2,3,1,4,2,6,5,3,8,3,11,4,11,9,13,15,10,14],\"opacity\":0.9,\"z\":[0.0,0.6920133582919109,0.9459793566069867,0.9780309147241483,0.6920133582919109,0.9459793566069867,0.9780309147241483,0.004521877501785569,1.4227619714694373,0.6401737467369659,0.7267467000124531,-0.2365669021878992,-0.10196600688810335,0.4077010920444772,-0.2595577631070108,1.3740399619920525],\"i\":[0,0,0,0,7,0,0,12,7,7,12,12,7,7,12,12,7,12],\"facecolor\":[\"#407FB7\",\"#407FB7\",\"#407FB7\",\"#407FB7\",\"#407FB7\",\"#407FB7\",\"#407FB7\",\"#407FB7\",\"#407FB7\",\"#407FB7\",\"#407FB7\",\"#407FB7\",\"#407FB7\",\"#407FB7\",\"#407FB7\",\"#407FB7\",\"#407FB7\",\"#407FB7\"],\"x\":[0.0,-1.5503679241285018,0.35883613396500846,0.20845989984609956,1.5503679241285018,-0.35883613396500846,-0.20845989984609956,0.02186113480074236,-0.9288647793423629,0.8301278934635308,0.7134595726613177,1.7003621608442439,1.0337023629484945,1.8509441193416132,2.802761292981576,1.665968394506653]},{\"mode\":\"lines\",\"line\":{\"color\":\"#000000\"},\"y\":[0.0,1.4551552534966965],\"type\":\"scatter3d\",\"z\":[0.0,0.6920133582919109],\"x\":[0.0,-1.5503679241285018]},{\"mode\":\"lines\",\"line\":{\"color\":\"#000000\"},\"y\":[0.0,1.9940811633016544],\"type\":\"scatter3d\",\"z\":[0.0,0.9459793566069867],\"x\":[0.0,0.35883613396500846]},{\"mode\":\"lines\",\"line\":{\"color\":\"#000000\"},\"y\":[0.0,0.0],\"type\":\"scatter3d\",\"z\":[0.0,0.9780309147241483],\"x\":[0.0,0.20845989984609956]},{\"mode\":\"lines\",\"line\":{\"color\":\"#000000\"},\"y\":[0.0,-1.4551552534966965],\"type\":\"scatter3d\",\"z\":[0.0,0.6920133582919109],\"x\":[0.0,1.5503679241285018]},{\"mode\":\"lines\",\"line\":{\"color\":\"#000000\"},\"y\":[0.0,-1.9940811633016544],\"type\":\"scatter3d\",\"z\":[0.0,0.9459793566069867],\"x\":[0.0,-0.35883613396500846]},{\"mode\":\"lines\",\"line\":{\"color\":\"#000000\"},\"y\":[0.0,0.0],\"type\":\"scatter3d\",\"z\":[0.0,0.9780309147241483],\"x\":[0.0,-0.20845989984609956]},{\"mode\":\"lines\",\"line\":{\"color\":\"#000000\"},\"y\":[1.4551552534966965,1.9940811633016544],\"type\":\"scatter3d\",\"z\":[0.6920133582919109,0.9459793566069867],\"x\":[-1.5503679241285018,0.35883613396500846]},{\"mode\":\"lines\",\"line\":{\"color\":\"#000000\"},\"y\":[1.4551552534966965,0.0],\"type\":\"scatter3d\",\"z\":[0.6920133582919109,0.9780309147241483],\"x\":[-1.5503679241285018,-0.20845989984609956]},{\"mode\":\"lines\",\"line\":{\"color\":\"#000000\"},\"y\":[1.9940811633016544,0.0],\"type\":\"scatter3d\",\"z\":[0.9459793566069867,0.9780309147241483],\"x\":[0.35883613396500846,0.20845989984609956]},{\"mode\":\"lines\",\"line\":{\"color\":\"#000000\"},\"y\":[1.9940811633016544,2.0043605103199225],\"type\":\"scatter3d\",\"z\":[0.9459793566069867,0.004521877501785569],\"x\":[0.35883613396500846,0.02186113480074236]},{\"mode\":\"lines\",\"line\":{\"color\":\"#000000\"},\"y\":[1.9940811633016544,3.4482148215436634],\"type\":\"scatter3d\",\"z\":[0.9459793566069867,1.4227619714694373],\"x\":[0.35883613396500846,-0.9288647793423629]},{\"mode\":\"lines\",\"line\":{\"color\":\"#000000\"},\"y\":[0.0,-1.4551552534966965],\"type\":\"scatter3d\",\"z\":[0.9780309147241483,0.6920133582919109],\"x\":[0.20845989984609956,1.5503679241285018]},{\"mode\":\"lines\",\"line\":{\"color\":\"#000000\"},\"y\":[0.0,2.0043605103199225],\"type\":\"scatter3d\",\"z\":[0.9780309147241483,0.004521877501785569],\"x\":[0.20845989984609956,0.02186113480074236]},{\"mode\":\"lines\",\"line\":{\"color\":\"#000000\"},\"y\":[0.0,0.5467904413768708],\"type\":\"scatter3d\",\"z\":[0.9780309147241483,-0.2365669021878992],\"x\":[0.20845989984609956,1.7003621608442439]},{\"mode\":\"lines\",\"line\":{\"color\":\"#000000\"},\"y\":[0.0,-1.7755510486608819],\"type\":\"scatter3d\",\"z\":[0.9780309147241483,-0.10196600688810335],\"x\":[0.20845989984609956,1.0337023629484945]},{\"mode\":\"lines\",\"line\":{\"color\":\"#000000\"},\"y\":[-1.4551552534966965,-1.9940811633016544],\"type\":\"scatter3d\",\"z\":[0.6920133582919109,0.9459793566069867],\"x\":[1.5503679241285018,-0.35883613396500846]},{\"mode\":\"lines\",\"line\":{\"color\":\"#000000\"},\"y\":[-1.4551552534966965,-1.7755510486608819],\"type\":\"scatter3d\",\"z\":[0.6920133582919109,-0.10196600688810335],\"x\":[1.5503679241285018,1.0337023629484945]},{\"mode\":\"lines\",\"line\":{\"color\":\"#000000\"},\"y\":[-1.4551552534966965,-3.331714936292212],\"type\":\"scatter3d\",\"z\":[0.6920133582919109,1.3740399619920525],\"x\":[1.5503679241285018,1.665968394506653]},{\"mode\":\"lines\",\"line\":{\"color\":\"#000000\"},\"y\":[-1.9940811633016544,0.0],\"type\":\"scatter3d\",\"z\":[0.9459793566069867,0.9780309147241483],\"x\":[-0.35883613396500846,-0.20845989984609956]},{\"mode\":\"lines\",\"line\":{\"color\":\"#000000\"},\"y\":[2.0043605103199225,3.4482148215436634],\"type\":\"scatter3d\",\"z\":[0.004521877501785569,1.4227619714694373],\"x\":[0.02186113480074236,-0.9288647793423629]},{\"mode\":\"lines\",\"line\":{\"color\":\"#000000\"},\"y\":[2.0043605103199225,3.989971637398578],\"type\":\"scatter3d\",\"z\":[0.004521877501785569,0.6401737467369659],\"x\":[0.02186113480074236,0.8301278934635308]},{\"mode\":\"lines\",\"line\":{\"color\":\"#000000\"},\"y\":[2.0043605103199225,1.99525520976222],\"type\":\"scatter3d\",\"z\":[0.004521877501785569,0.7267467000124531],\"x\":[0.02186113480074236,0.7134595726613177]},{\"mode\":\"lines\",\"line\":{\"color\":\"#000000\"},\"y\":[2.0043605103199225,0.5467904413768708],\"type\":\"scatter3d\",\"z\":[0.004521877501785569,-0.2365669021878992],\"x\":[0.02186113480074236,1.7003621608442439]},{\"mode\":\"lines\",\"line\":{\"color\":\"#000000\"},\"y\":[3.4482148215436634,3.989971637398578],\"type\":\"scatter3d\",\"z\":[1.4227619714694373,0.6401737467369659],\"x\":[-0.9288647793423629,0.8301278934635308]},{\"mode\":\"lines\",\"line\":{\"color\":\"#000000\"},\"y\":[3.989971637398578,1.99525520976222],\"type\":\"scatter3d\",\"z\":[0.6401737467369659,0.7267467000124531],\"x\":[0.8301278934635308,0.7134595726613177]},{\"mode\":\"lines\",\"line\":{\"color\":\"#000000\"},\"y\":[1.99525520976222,0.5467904413768708],\"type\":\"scatter3d\",\"z\":[0.7267467000124531,-0.2365669021878992],\"x\":[0.7134595726613177,1.7003621608442439]},{\"mode\":\"lines\",\"line\":{\"color\":\"#000000\"},\"y\":[0.5467904413768708,-1.7755510486608819],\"type\":\"scatter3d\",\"z\":[-0.2365669021878992,-0.10196600688810335],\"x\":[1.7003621608442439,1.0337023629484945]},{\"mode\":\"lines\",\"line\":{\"color\":\"#000000\"},\"y\":[0.5467904413768708,-1.5065615323723498],\"type\":\"scatter3d\",\"z\":[-0.2365669021878992,0.4077010920444772],\"x\":[1.7003621608442439,1.8509441193416132]},{\"mode\":\"lines\",\"line\":{\"color\":\"#000000\"},\"y\":[-1.7755510486608819,-1.5065615323723498],\"type\":\"scatter3d\",\"z\":[-0.10196600688810335,0.4077010920444772],\"x\":[1.0337023629484945,1.8509441193416132]},{\"mode\":\"lines\",\"line\":{\"color\":\"#000000\"},\"y\":[-1.7755510486608819,-3.134077949550979],\"type\":\"scatter3d\",\"z\":[-0.10196600688810335,-0.2595577631070108],\"x\":[1.0337023629484945,2.802761292981576]},{\"mode\":\"lines\",\"line\":{\"color\":\"#000000\"},\"y\":[-1.7755510486608819,-3.331714936292212],\"type\":\"scatter3d\",\"z\":[-0.10196600688810335,1.3740399619920525],\"x\":[1.0337023629484945,1.665968394506653]},{\"mode\":\"lines\",\"line\":{\"color\":\"#000000\"},\"y\":[-1.5065615323723498,-3.134077949550979],\"type\":\"scatter3d\",\"z\":[0.4077010920444772,-0.2595577631070108],\"x\":[1.8509441193416132,2.802761292981576]},{\"mode\":\"lines\",\"line\":{\"color\":\"#000000\"},\"y\":[-3.134077949550979,-3.331714936292212],\"type\":\"scatter3d\",\"z\":[-0.2595577631070108,1.3740399619920525],\"x\":[2.802761292981576,1.665968394506653]}],\n",
       "        {\"showlegend\":false,\"template\":{\"layout\":{\"coloraxis\":{\"colorbar\":{\"ticks\":\"\",\"outlinewidth\":0}},\"xaxis\":{\"gridcolor\":\"white\",\"zerolinewidth\":2,\"title\":{\"standoff\":15},\"ticks\":\"\",\"zerolinecolor\":\"white\",\"automargin\":true,\"linecolor\":\"white\"},\"hovermode\":\"closest\",\"paper_bgcolor\":\"white\",\"geo\":{\"showlakes\":true,\"showland\":true,\"landcolor\":\"#E5ECF6\",\"bgcolor\":\"white\",\"subunitcolor\":\"white\",\"lakecolor\":\"white\"},\"colorscale\":{\"sequential\":[[0.0,\"#0d0887\"],[0.1111111111111111,\"#46039f\"],[0.2222222222222222,\"#7201a8\"],[0.3333333333333333,\"#9c179e\"],[0.4444444444444444,\"#bd3786\"],[0.5555555555555556,\"#d8576b\"],[0.6666666666666666,\"#ed7953\"],[0.7777777777777778,\"#fb9f3a\"],[0.8888888888888888,\"#fdca26\"],[1.0,\"#f0f921\"]],\"diverging\":[[0,\"#8e0152\"],[0.1,\"#c51b7d\"],[0.2,\"#de77ae\"],[0.3,\"#f1b6da\"],[0.4,\"#fde0ef\"],[0.5,\"#f7f7f7\"],[0.6,\"#e6f5d0\"],[0.7,\"#b8e186\"],[0.8,\"#7fbc41\"],[0.9,\"#4d9221\"],[1,\"#276419\"]],\"sequentialminus\":[[0.0,\"#0d0887\"],[0.1111111111111111,\"#46039f\"],[0.2222222222222222,\"#7201a8\"],[0.3333333333333333,\"#9c179e\"],[0.4444444444444444,\"#bd3786\"],[0.5555555555555556,\"#d8576b\"],[0.6666666666666666,\"#ed7953\"],[0.7777777777777778,\"#fb9f3a\"],[0.8888888888888888,\"#fdca26\"],[1.0,\"#f0f921\"]]},\"yaxis\":{\"gridcolor\":\"white\",\"zerolinewidth\":2,\"title\":{\"standoff\":15},\"ticks\":\"\",\"zerolinecolor\":\"white\",\"automargin\":true,\"linecolor\":\"white\"},\"shapedefaults\":{\"line\":{\"color\":\"#2a3f5f\"}},\"hoverlabel\":{\"align\":\"left\"},\"mapbox\":{\"style\":\"light\"},\"polar\":{\"angularaxis\":{\"gridcolor\":\"white\",\"ticks\":\"\",\"linecolor\":\"white\"},\"bgcolor\":\"#E5ECF6\",\"radialaxis\":{\"gridcolor\":\"white\",\"ticks\":\"\",\"linecolor\":\"white\"}},\"autotypenumbers\":\"strict\",\"font\":{\"color\":\"#2a3f5f\"},\"ternary\":{\"baxis\":{\"gridcolor\":\"white\",\"ticks\":\"\",\"linecolor\":\"white\"},\"bgcolor\":\"#E5ECF6\",\"caxis\":{\"gridcolor\":\"white\",\"ticks\":\"\",\"linecolor\":\"white\"},\"aaxis\":{\"gridcolor\":\"white\",\"ticks\":\"\",\"linecolor\":\"white\"}},\"annotationdefaults\":{\"arrowhead\":0,\"arrowwidth\":1,\"arrowcolor\":\"#2a3f5f\"},\"plot_bgcolor\":\"#E5ECF6\",\"title\":{\"x\":0.05},\"scene\":{\"xaxis\":{\"gridcolor\":\"white\",\"gridwidth\":2,\"backgroundcolor\":\"#E5ECF6\",\"ticks\":\"\",\"showbackground\":true,\"zerolinecolor\":\"white\",\"linecolor\":\"white\"},\"zaxis\":{\"gridcolor\":\"white\",\"gridwidth\":2,\"backgroundcolor\":\"#E5ECF6\",\"ticks\":\"\",\"showbackground\":true,\"zerolinecolor\":\"white\",\"linecolor\":\"white\"},\"yaxis\":{\"gridcolor\":\"white\",\"gridwidth\":2,\"backgroundcolor\":\"#E5ECF6\",\"ticks\":\"\",\"showbackground\":true,\"zerolinecolor\":\"white\",\"linecolor\":\"white\"}},\"colorway\":[\"#636efa\",\"#EF553B\",\"#00cc96\",\"#ab63fa\",\"#FFA15A\",\"#19d3f3\",\"#FF6692\",\"#B6E880\",\"#FF97FF\",\"#FECB52\"]},\"data\":{\"barpolar\":[{\"type\":\"barpolar\",\"marker\":{\"line\":{\"color\":\"#E5ECF6\",\"width\":0.5}}}],\"carpet\":[{\"aaxis\":{\"gridcolor\":\"white\",\"endlinecolor\":\"#2a3f5f\",\"minorgridcolor\":\"white\",\"startlinecolor\":\"#2a3f5f\",\"linecolor\":\"white\"},\"type\":\"carpet\",\"baxis\":{\"gridcolor\":\"white\",\"endlinecolor\":\"#2a3f5f\",\"minorgridcolor\":\"white\",\"startlinecolor\":\"#2a3f5f\",\"linecolor\":\"white\"}}],\"scatterpolar\":[{\"type\":\"scatterpolar\",\"marker\":{\"colorbar\":{\"ticks\":\"\",\"outlinewidth\":0}}}],\"parcoords\":[{\"line\":{\"colorbar\":{\"ticks\":\"\",\"outlinewidth\":0}},\"type\":\"parcoords\"}],\"scatter\":[{\"type\":\"scatter\",\"marker\":{\"colorbar\":{\"ticks\":\"\",\"outlinewidth\":0}}}],\"histogram2dcontour\":[{\"colorbar\":{\"ticks\":\"\",\"outlinewidth\":0},\"type\":\"histogram2dcontour\",\"colorscale\":[[0.0,\"#0d0887\"],[0.1111111111111111,\"#46039f\"],[0.2222222222222222,\"#7201a8\"],[0.3333333333333333,\"#9c179e\"],[0.4444444444444444,\"#bd3786\"],[0.5555555555555556,\"#d8576b\"],[0.6666666666666666,\"#ed7953\"],[0.7777777777777778,\"#fb9f3a\"],[0.8888888888888888,\"#fdca26\"],[1.0,\"#f0f921\"]]}],\"contour\":[{\"colorbar\":{\"ticks\":\"\",\"outlinewidth\":0},\"type\":\"contour\",\"colorscale\":[[0.0,\"#0d0887\"],[0.1111111111111111,\"#46039f\"],[0.2222222222222222,\"#7201a8\"],[0.3333333333333333,\"#9c179e\"],[0.4444444444444444,\"#bd3786\"],[0.5555555555555556,\"#d8576b\"],[0.6666666666666666,\"#ed7953\"],[0.7777777777777778,\"#fb9f3a\"],[0.8888888888888888,\"#fdca26\"],[1.0,\"#f0f921\"]]}],\"scattercarpet\":[{\"type\":\"scattercarpet\",\"marker\":{\"colorbar\":{\"ticks\":\"\",\"outlinewidth\":0}}}],\"mesh3d\":[{\"colorbar\":{\"ticks\":\"\",\"outlinewidth\":0},\"type\":\"mesh3d\"}],\"surface\":[{\"colorbar\":{\"ticks\":\"\",\"outlinewidth\":0},\"type\":\"surface\",\"colorscale\":[[0.0,\"#0d0887\"],[0.1111111111111111,\"#46039f\"],[0.2222222222222222,\"#7201a8\"],[0.3333333333333333,\"#9c179e\"],[0.4444444444444444,\"#bd3786\"],[0.5555555555555556,\"#d8576b\"],[0.6666666666666666,\"#ed7953\"],[0.7777777777777778,\"#fb9f3a\"],[0.8888888888888888,\"#fdca26\"],[1.0,\"#f0f921\"]]}],\"scattermapbox\":[{\"type\":\"scattermapbox\",\"marker\":{\"colorbar\":{\"ticks\":\"\",\"outlinewidth\":0}}}],\"scattergeo\":[{\"type\":\"scattergeo\",\"marker\":{\"colorbar\":{\"ticks\":\"\",\"outlinewidth\":0}}}],\"histogram\":[{\"type\":\"histogram\",\"marker\":{\"colorbar\":{\"ticks\":\"\",\"outlinewidth\":0}}}],\"pie\":[{\"type\":\"pie\",\"automargin\":true}],\"choropleth\":[{\"colorbar\":{\"ticks\":\"\",\"outlinewidth\":0},\"type\":\"choropleth\"}],\"heatmapgl\":[{\"colorbar\":{\"ticks\":\"\",\"outlinewidth\":0},\"type\":\"heatmapgl\",\"colorscale\":[[0.0,\"#0d0887\"],[0.1111111111111111,\"#46039f\"],[0.2222222222222222,\"#7201a8\"],[0.3333333333333333,\"#9c179e\"],[0.4444444444444444,\"#bd3786\"],[0.5555555555555556,\"#d8576b\"],[0.6666666666666666,\"#ed7953\"],[0.7777777777777778,\"#fb9f3a\"],[0.8888888888888888,\"#fdca26\"],[1.0,\"#f0f921\"]]}],\"bar\":[{\"type\":\"bar\",\"error_y\":{\"color\":\"#2a3f5f\"},\"error_x\":{\"color\":\"#2a3f5f\"},\"marker\":{\"line\":{\"color\":\"#E5ECF6\",\"width\":0.5}}}],\"heatmap\":[{\"colorbar\":{\"ticks\":\"\",\"outlinewidth\":0},\"type\":\"heatmap\",\"colorscale\":[[0.0,\"#0d0887\"],[0.1111111111111111,\"#46039f\"],[0.2222222222222222,\"#7201a8\"],[0.3333333333333333,\"#9c179e\"],[0.4444444444444444,\"#bd3786\"],[0.5555555555555556,\"#d8576b\"],[0.6666666666666666,\"#ed7953\"],[0.7777777777777778,\"#fb9f3a\"],[0.8888888888888888,\"#fdca26\"],[1.0,\"#f0f921\"]]}],\"contourcarpet\":[{\"colorbar\":{\"ticks\":\"\",\"outlinewidth\":0},\"type\":\"contourcarpet\"}],\"table\":[{\"type\":\"table\",\"header\":{\"line\":{\"color\":\"white\"},\"fill\":{\"color\":\"#C8D4E3\"}},\"cells\":{\"line\":{\"color\":\"white\"},\"fill\":{\"color\":\"#EBF0F8\"}}}],\"scatter3d\":[{\"line\":{\"colorbar\":{\"ticks\":\"\",\"outlinewidth\":0}},\"type\":\"scatter3d\",\"marker\":{\"colorbar\":{\"ticks\":\"\",\"outlinewidth\":0}}}],\"scattergl\":[{\"type\":\"scattergl\",\"marker\":{\"colorbar\":{\"ticks\":\"\",\"outlinewidth\":0}}}],\"histogram2d\":[{\"colorbar\":{\"ticks\":\"\",\"outlinewidth\":0},\"type\":\"histogram2d\",\"colorscale\":[[0.0,\"#0d0887\"],[0.1111111111111111,\"#46039f\"],[0.2222222222222222,\"#7201a8\"],[0.3333333333333333,\"#9c179e\"],[0.4444444444444444,\"#bd3786\"],[0.5555555555555556,\"#d8576b\"],[0.6666666666666666,\"#ed7953\"],[0.7777777777777778,\"#fb9f3a\"],[0.8888888888888888,\"#fdca26\"],[1.0,\"#f0f921\"]]}],\"scatterternary\":[{\"type\":\"scatterternary\",\"marker\":{\"colorbar\":{\"ticks\":\"\",\"outlinewidth\":0}}}],\"scatterpolargl\":[{\"type\":\"scatterpolargl\",\"marker\":{\"colorbar\":{\"ticks\":\"\",\"outlinewidth\":0}}}]}},\"scene\":{\"camera\":{\"eye\":{\"y\":1.0,\"z\":1.8,\"x\":1.8}},\"xaxis\":{\"showticklabels\":false,\"showaxeslabels\":false,\"title\":{\"text\":\"\"},\"showbackground\":false},\"yaxis\":{\"showticklabels\":false,\"showaxeslabels\":false,\"title\":{\"text\":\"\"},\"showbackground\":false},\"zaxis\":{\"showticklabels\":false,\"showaxeslabels\":false,\"title\":{\"text\":\"\"},\"showbackground\":false},\"aspectmode\":\"data\",\"autosize\":true},\"margin\":{\"l\":50,\"b\":50,\"r\":50,\"t\":60},\"height\":400,\"width\":400},\n",
       "        {\"editable\":false,\"responsive\":true,\"staticPlot\":false,\"scrollZoom\":true},\n",
       "    )\n",
       "}\n",
       "\n",
       "        \n",
       "    </script>\n",
       "</div>\n",
       "\n",
       "</body>\n",
       "</html>"
      ],
      "text/plain": [
       "data: [\n",
       "  \"mesh3d with fields facecolor, i, j, k, opacity, type, x, y, and z\",\n",
       "  \"scatter3d with fields line, mode, type, x, y, and z\",\n",
       "  \"scatter3d with fields line, mode, type, x, y, and z\",\n",
       "  \"scatter3d with fields line, mode, type, x, y, and z\",\n",
       "  \"scatter3d with fields line, mode, type, x, y, and z\",\n",
       "  \"scatter3d with fields line, mode, type, x, y, and z\",\n",
       "  \"scatter3d with fields line, mode, type, x, y, and z\",\n",
       "  \"scatter3d with fields line, mode, type, x, y, and z\",\n",
       "  \"scatter3d with fields line, mode, type, x, y, and z\",\n",
       "  \"scatter3d with fields line, mode, type, x, y, and z\",\n",
       "  \"scatter3d with fields line, mode, type, x, y, and z\",\n",
       "  \"scatter3d with fields line, mode, type, x, y, and z\",\n",
       "  \"scatter3d with fields line, mode, type, x, y, and z\",\n",
       "  \"scatter3d with fields line, mode, type, x, y, and z\",\n",
       "  \"scatter3d with fields line, mode, type, x, y, and z\",\n",
       "  \"scatter3d with fields line, mode, type, x, y, and z\",\n",
       "  \"scatter3d with fields line, mode, type, x, y, and z\",\n",
       "  \"scatter3d with fields line, mode, type, x, y, and z\",\n",
       "  \"scatter3d with fields line, mode, type, x, y, and z\",\n",
       "  \"scatter3d with fields line, mode, type, x, y, and z\",\n",
       "  \"scatter3d with fields line, mode, type, x, y, and z\",\n",
       "  \"scatter3d with fields line, mode, type, x, y, and z\",\n",
       "  \"scatter3d with fields line, mode, type, x, y, and z\",\n",
       "  \"scatter3d with fields line, mode, type, x, y, and z\",\n",
       "  \"scatter3d with fields line, mode, type, x, y, and z\",\n",
       "  \"scatter3d with fields line, mode, type, x, y, and z\",\n",
       "  \"scatter3d with fields line, mode, type, x, y, and z\",\n",
       "  \"scatter3d with fields line, mode, type, x, y, and z\",\n",
       "  \"scatter3d with fields line, mode, type, x, y, and z\",\n",
       "  \"scatter3d with fields line, mode, type, x, y, and z\",\n",
       "  \"scatter3d with fields line, mode, type, x, y, and z\",\n",
       "  \"scatter3d with fields line, mode, type, x, y, and z\",\n",
       "  \"scatter3d with fields line, mode, type, x, y, and z\",\n",
       "  \"scatter3d with fields line, mode, type, x, y, and z\"\n",
       "]\n",
       "\n",
       "layout: \"layout with fields height, margin, scene, showlegend, template, and width\"\n",
       "\n"
      ]
     },
     "metadata": {},
     "output_type": "display_data"
    },
    {
     "name": "stderr",
     "output_type": "stream",
     "text": [
      "┌ Warning: Kaleido is not available on this system. Julia will be unable to save images of any plots.\n",
      "└ @ PlotlyJS C:\\Users\\sasch\\.julia\\packages\\PlotlyJS\\d9sRW\\src\\kaleido.jl:65\n",
      "┌ Warning: ErrorException(\"Could not start Kaleido process\")\n",
      "└ @ PlotlyJS C:\\Users\\sasch\\.julia\\packages\\PlotlyJS\\d9sRW\\src\\kaleido.jl:66\n",
      "┌ Warning: Kaleido is not available on this system. Julia will be unable to save images of any plots.\n",
      "└ @ PlotlyJS C:\\Users\\sasch\\.julia\\packages\\PlotlyJS\\d9sRW\\src\\kaleido.jl:65\n",
      "┌ Warning: ErrorException(\"Could not start Kaleido process\")\n",
      "└ @ PlotlyJS C:\\Users\\sasch\\.julia\\packages\\PlotlyJS\\d9sRW\\src\\kaleido.jl:66\n",
      "┌ Warning: Kaleido is not available on this system. Julia will be unable to save images of any plots.\n",
      "└ @ PlotlyJS C:\\Users\\sasch\\.julia\\packages\\PlotlyJS\\d9sRW\\src\\kaleido.jl:65\n",
      "┌ Warning: ErrorException(\"Could not start Kaleido process\")\n",
      "└ @ PlotlyJS C:\\Users\\sasch\\.julia\\packages\\PlotlyJS\\d9sRW\\src\\kaleido.jl:66\n",
      "┌ Warning: Kaleido is not available on this system. Julia will be unable to save images of any plots.\n",
      "└ @ PlotlyJS C:\\Users\\sasch\\.julia\\packages\\PlotlyJS\\d9sRW\\src\\kaleido.jl:65\n",
      "┌ Warning: ErrorException(\"Could not start Kaleido process\")\n",
      "└ @ PlotlyJS C:\\Users\\sasch\\.julia\\packages\\PlotlyJS\\d9sRW\\src\\kaleido.jl:66\n"
     ]
    },
    {
     "data": {
      "application/vnd.plotly.v1+json": {
       "config": {
        "editable": false,
        "responsive": true,
        "scrollZoom": true,
        "showLink": false,
        "staticPlot": false
       },
       "data": [
        {
         "facecolor": [
          "#407FB7",
          "#407FB7",
          "#407FB7",
          "#407FB7",
          "#407FB7",
          "#407FB7",
          "#407FB7",
          "#407FB7",
          "#407FB7",
          "#407FB7",
          "#407FB7",
          "#407FB7",
          "#407FB7",
          "#407FB7",
          "#407FB7",
          "#407FB7",
          "#407FB7",
          "#407FB7"
         ],
         "i": [
          0,
          0,
          0,
          0,
          7,
          0,
          0,
          12,
          7,
          7,
          12,
          12,
          7,
          7,
          12,
          12,
          7,
          12
         ],
         "j": [
          1,
          2,
          6,
          3,
          3,
          5,
          4,
          4,
          2,
          11,
          3,
          15,
          10,
          8,
          11,
          14,
          9,
          13
         ],
         "k": [
          2,
          3,
          1,
          4,
          2,
          6,
          5,
          3,
          8,
          3,
          11,
          4,
          11,
          9,
          13,
          15,
          10,
          14
         ],
         "opacity": 0.9,
         "type": "mesh3d",
         "x": [
          0,
          -1.5635990426204385,
          0.3342451345418994,
          0.29552020666133955,
          1.5635990426204385,
          -0.3342451345418994,
          -0.29552020666133955,
          0.01968390493253444,
          -0.9255527206438132,
          0.8400866872923218,
          0.8152821180623642,
          1.6192466596720412,
          0.9475547878891788,
          1.8910207620637434,
          2.5187621042986486,
          1.8604044779169242
         ],
         "y": [
          0,
          1.4960300798164508,
          1.9995891785428535,
          0,
          -1.4960300798164508,
          -1.9995891785428535,
          0,
          1.999994475290501,
          3.4956137570370625,
          3.99926068364972,
          1.999662257364267,
          0.5039405036217683,
          -1.8313106629889047,
          -1.59299111017958,
          -3.324542359826466,
          -3.3722085500631485
         ],
         "z": [
          0,
          0.5630737378006817,
          0.9433574651686303,
          0.955336489125606,
          0.5630737378006817,
          0.9433574651686303,
          0.955336489125606,
          -0.005879633011371301,
          1.3614720721972544,
          0.5684668676389517,
          0.5999449066829786,
          -0.4566805951935396,
          -0.14972104806699457,
          0.08066069236310888,
          -0.6988719093255111,
          1.1890616620941357
         ]
        },
        {
         "line": {
          "color": "#000000"
         },
         "mode": "lines",
         "type": "scatter3d",
         "x": [
          0,
          -1.5635990426204385
         ],
         "y": [
          0,
          1.4960300798164508
         ],
         "z": [
          0,
          0.5630737378006817
         ]
        },
        {
         "line": {
          "color": "#000000"
         },
         "mode": "lines",
         "type": "scatter3d",
         "x": [
          0,
          0.3342451345418994
         ],
         "y": [
          0,
          1.9995891785428535
         ],
         "z": [
          0,
          0.9433574651686303
         ]
        },
        {
         "line": {
          "color": "#000000"
         },
         "mode": "lines",
         "type": "scatter3d",
         "x": [
          0,
          0.29552020666133955
         ],
         "y": [
          0,
          0
         ],
         "z": [
          0,
          0.955336489125606
         ]
        },
        {
         "line": {
          "color": "#000000"
         },
         "mode": "lines",
         "type": "scatter3d",
         "x": [
          0,
          1.5635990426204385
         ],
         "y": [
          0,
          -1.4960300798164508
         ],
         "z": [
          0,
          0.5630737378006817
         ]
        },
        {
         "line": {
          "color": "#000000"
         },
         "mode": "lines",
         "type": "scatter3d",
         "x": [
          0,
          -0.3342451345418994
         ],
         "y": [
          0,
          -1.9995891785428535
         ],
         "z": [
          0,
          0.9433574651686303
         ]
        },
        {
         "line": {
          "color": "#000000"
         },
         "mode": "lines",
         "type": "scatter3d",
         "x": [
          0,
          -0.29552020666133955
         ],
         "y": [
          0,
          0
         ],
         "z": [
          0,
          0.955336489125606
         ]
        },
        {
         "line": {
          "color": "#000000"
         },
         "mode": "lines",
         "type": "scatter3d",
         "x": [
          -1.5635990426204385,
          0.3342451345418994
         ],
         "y": [
          1.4960300798164508,
          1.9995891785428535
         ],
         "z": [
          0.5630737378006817,
          0.9433574651686303
         ]
        },
        {
         "line": {
          "color": "#000000"
         },
         "mode": "lines",
         "type": "scatter3d",
         "x": [
          -1.5635990426204385,
          -0.29552020666133955
         ],
         "y": [
          1.4960300798164508,
          0
         ],
         "z": [
          0.5630737378006817,
          0.955336489125606
         ]
        },
        {
         "line": {
          "color": "#000000"
         },
         "mode": "lines",
         "type": "scatter3d",
         "x": [
          0.3342451345418994,
          0.29552020666133955
         ],
         "y": [
          1.9995891785428535,
          0
         ],
         "z": [
          0.9433574651686303,
          0.955336489125606
         ]
        },
        {
         "line": {
          "color": "#000000"
         },
         "mode": "lines",
         "type": "scatter3d",
         "x": [
          0.3342451345418994,
          0.01968390493253444
         ],
         "y": [
          1.9995891785428535,
          1.999994475290501
         ],
         "z": [
          0.9433574651686303,
          -0.005879633011371301
         ]
        },
        {
         "line": {
          "color": "#000000"
         },
         "mode": "lines",
         "type": "scatter3d",
         "x": [
          0.3342451345418994,
          -0.9255527206438132
         ],
         "y": [
          1.9995891785428535,
          3.4956137570370625
         ],
         "z": [
          0.9433574651686303,
          1.3614720721972544
         ]
        },
        {
         "line": {
          "color": "#000000"
         },
         "mode": "lines",
         "type": "scatter3d",
         "x": [
          0.29552020666133955,
          1.5635990426204385
         ],
         "y": [
          0,
          -1.4960300798164508
         ],
         "z": [
          0.955336489125606,
          0.5630737378006817
         ]
        },
        {
         "line": {
          "color": "#000000"
         },
         "mode": "lines",
         "type": "scatter3d",
         "x": [
          0.29552020666133955,
          0.01968390493253444
         ],
         "y": [
          0,
          1.999994475290501
         ],
         "z": [
          0.955336489125606,
          -0.005879633011371301
         ]
        },
        {
         "line": {
          "color": "#000000"
         },
         "mode": "lines",
         "type": "scatter3d",
         "x": [
          0.29552020666133955,
          1.6192466596720412
         ],
         "y": [
          0,
          0.5039405036217683
         ],
         "z": [
          0.955336489125606,
          -0.4566805951935396
         ]
        },
        {
         "line": {
          "color": "#000000"
         },
         "mode": "lines",
         "type": "scatter3d",
         "x": [
          0.29552020666133955,
          0.9475547878891788
         ],
         "y": [
          0,
          -1.8313106629889047
         ],
         "z": [
          0.955336489125606,
          -0.14972104806699457
         ]
        },
        {
         "line": {
          "color": "#000000"
         },
         "mode": "lines",
         "type": "scatter3d",
         "x": [
          1.5635990426204385,
          -0.3342451345418994
         ],
         "y": [
          -1.4960300798164508,
          -1.9995891785428535
         ],
         "z": [
          0.5630737378006817,
          0.9433574651686303
         ]
        },
        {
         "line": {
          "color": "#000000"
         },
         "mode": "lines",
         "type": "scatter3d",
         "x": [
          1.5635990426204385,
          0.9475547878891788
         ],
         "y": [
          -1.4960300798164508,
          -1.8313106629889047
         ],
         "z": [
          0.5630737378006817,
          -0.14972104806699457
         ]
        },
        {
         "line": {
          "color": "#000000"
         },
         "mode": "lines",
         "type": "scatter3d",
         "x": [
          1.5635990426204385,
          1.8604044779169242
         ],
         "y": [
          -1.4960300798164508,
          -3.3722085500631485
         ],
         "z": [
          0.5630737378006817,
          1.1890616620941357
         ]
        },
        {
         "line": {
          "color": "#000000"
         },
         "mode": "lines",
         "type": "scatter3d",
         "x": [
          -0.3342451345418994,
          -0.29552020666133955
         ],
         "y": [
          -1.9995891785428535,
          0
         ],
         "z": [
          0.9433574651686303,
          0.955336489125606
         ]
        },
        {
         "line": {
          "color": "#000000"
         },
         "mode": "lines",
         "type": "scatter3d",
         "x": [
          0.01968390493253444,
          -0.9255527206438132
         ],
         "y": [
          1.999994475290501,
          3.4956137570370625
         ],
         "z": [
          -0.005879633011371301,
          1.3614720721972544
         ]
        },
        {
         "line": {
          "color": "#000000"
         },
         "mode": "lines",
         "type": "scatter3d",
         "x": [
          0.01968390493253444,
          0.8400866872923218
         ],
         "y": [
          1.999994475290501,
          3.99926068364972
         ],
         "z": [
          -0.005879633011371301,
          0.5684668676389517
         ]
        },
        {
         "line": {
          "color": "#000000"
         },
         "mode": "lines",
         "type": "scatter3d",
         "x": [
          0.01968390493253444,
          0.8152821180623642
         ],
         "y": [
          1.999994475290501,
          1.999662257364267
         ],
         "z": [
          -0.005879633011371301,
          0.5999449066829786
         ]
        },
        {
         "line": {
          "color": "#000000"
         },
         "mode": "lines",
         "type": "scatter3d",
         "x": [
          0.01968390493253444,
          1.6192466596720412
         ],
         "y": [
          1.999994475290501,
          0.5039405036217683
         ],
         "z": [
          -0.005879633011371301,
          -0.4566805951935396
         ]
        },
        {
         "line": {
          "color": "#000000"
         },
         "mode": "lines",
         "type": "scatter3d",
         "x": [
          -0.9255527206438132,
          0.8400866872923218
         ],
         "y": [
          3.4956137570370625,
          3.99926068364972
         ],
         "z": [
          1.3614720721972544,
          0.5684668676389517
         ]
        },
        {
         "line": {
          "color": "#000000"
         },
         "mode": "lines",
         "type": "scatter3d",
         "x": [
          0.8400866872923218,
          0.8152821180623642
         ],
         "y": [
          3.99926068364972,
          1.999662257364267
         ],
         "z": [
          0.5684668676389517,
          0.5999449066829786
         ]
        },
        {
         "line": {
          "color": "#000000"
         },
         "mode": "lines",
         "type": "scatter3d",
         "x": [
          0.8152821180623642,
          1.6192466596720412
         ],
         "y": [
          1.999662257364267,
          0.5039405036217683
         ],
         "z": [
          0.5999449066829786,
          -0.4566805951935396
         ]
        },
        {
         "line": {
          "color": "#000000"
         },
         "mode": "lines",
         "type": "scatter3d",
         "x": [
          1.6192466596720412,
          0.9475547878891788
         ],
         "y": [
          0.5039405036217683,
          -1.8313106629889047
         ],
         "z": [
          -0.4566805951935396,
          -0.14972104806699457
         ]
        },
        {
         "line": {
          "color": "#000000"
         },
         "mode": "lines",
         "type": "scatter3d",
         "x": [
          1.6192466596720412,
          1.8910207620637434
         ],
         "y": [
          0.5039405036217683,
          -1.59299111017958
         ],
         "z": [
          -0.4566805951935396,
          0.08066069236310888
         ]
        },
        {
         "line": {
          "color": "#000000"
         },
         "mode": "lines",
         "type": "scatter3d",
         "x": [
          0.9475547878891788,
          1.8910207620637434
         ],
         "y": [
          -1.8313106629889047,
          -1.59299111017958
         ],
         "z": [
          -0.14972104806699457,
          0.08066069236310888
         ]
        },
        {
         "line": {
          "color": "#000000"
         },
         "mode": "lines",
         "type": "scatter3d",
         "x": [
          0.9475547878891788,
          2.5187621042986486
         ],
         "y": [
          -1.8313106629889047,
          -3.324542359826466
         ],
         "z": [
          -0.14972104806699457,
          -0.6988719093255111
         ]
        },
        {
         "line": {
          "color": "#000000"
         },
         "mode": "lines",
         "type": "scatter3d",
         "x": [
          0.9475547878891788,
          1.8604044779169242
         ],
         "y": [
          -1.8313106629889047,
          -3.3722085500631485
         ],
         "z": [
          -0.14972104806699457,
          1.1890616620941357
         ]
        },
        {
         "line": {
          "color": "#000000"
         },
         "mode": "lines",
         "type": "scatter3d",
         "x": [
          1.8910207620637434,
          2.5187621042986486
         ],
         "y": [
          -1.59299111017958,
          -3.324542359826466
         ],
         "z": [
          0.08066069236310888,
          -0.6988719093255111
         ]
        },
        {
         "line": {
          "color": "#000000"
         },
         "mode": "lines",
         "type": "scatter3d",
         "x": [
          2.5187621042986486,
          1.8604044779169242
         ],
         "y": [
          -3.324542359826466,
          -3.3722085500631485
         ],
         "z": [
          -0.6988719093255111,
          1.1890616620941357
         ]
        }
       ],
       "frames": [],
       "layout": {
        "height": 400,
        "margin": {
         "b": 50,
         "l": 50,
         "r": 50,
         "t": 60
        },
        "scene": {
         "aspectmode": "data",
         "autosize": true,
         "camera": {
          "eye": {
           "x": 1.8,
           "y": 1,
           "z": 1.8
          }
         },
         "xaxis": {
          "showaxeslabels": false,
          "showbackground": false,
          "showticklabels": false,
          "title": {
           "text": ""
          }
         },
         "yaxis": {
          "showaxeslabels": false,
          "showbackground": false,
          "showticklabels": false,
          "title": {
           "text": ""
          }
         },
         "zaxis": {
          "showaxeslabels": false,
          "showbackground": false,
          "showticklabels": false,
          "title": {
           "text": ""
          }
         }
        },
        "showlegend": false,
        "template": {
         "data": {
          "bar": [
           {
            "error_x": {
             "color": "#2a3f5f"
            },
            "error_y": {
             "color": "#2a3f5f"
            },
            "marker": {
             "line": {
              "color": "#E5ECF6",
              "width": 0.5
             }
            },
            "type": "bar"
           }
          ],
          "barpolar": [
           {
            "marker": {
             "line": {
              "color": "#E5ECF6",
              "width": 0.5
             }
            },
            "type": "barpolar"
           }
          ],
          "carpet": [
           {
            "aaxis": {
             "endlinecolor": "#2a3f5f",
             "gridcolor": "white",
             "linecolor": "white",
             "minorgridcolor": "white",
             "startlinecolor": "#2a3f5f"
            },
            "baxis": {
             "endlinecolor": "#2a3f5f",
             "gridcolor": "white",
             "linecolor": "white",
             "minorgridcolor": "white",
             "startlinecolor": "#2a3f5f"
            },
            "type": "carpet"
           }
          ],
          "choropleth": [
           {
            "colorbar": {
             "outlinewidth": 0,
             "ticks": ""
            },
            "type": "choropleth"
           }
          ],
          "contour": [
           {
            "colorbar": {
             "outlinewidth": 0,
             "ticks": ""
            },
            "colorscale": [
             [
              0,
              "#0d0887"
             ],
             [
              0.1111111111111111,
              "#46039f"
             ],
             [
              0.2222222222222222,
              "#7201a8"
             ],
             [
              0.3333333333333333,
              "#9c179e"
             ],
             [
              0.4444444444444444,
              "#bd3786"
             ],
             [
              0.5555555555555556,
              "#d8576b"
             ],
             [
              0.6666666666666666,
              "#ed7953"
             ],
             [
              0.7777777777777778,
              "#fb9f3a"
             ],
             [
              0.8888888888888888,
              "#fdca26"
             ],
             [
              1,
              "#f0f921"
             ]
            ],
            "type": "contour"
           }
          ],
          "contourcarpet": [
           {
            "colorbar": {
             "outlinewidth": 0,
             "ticks": ""
            },
            "type": "contourcarpet"
           }
          ],
          "heatmap": [
           {
            "colorbar": {
             "outlinewidth": 0,
             "ticks": ""
            },
            "colorscale": [
             [
              0,
              "#0d0887"
             ],
             [
              0.1111111111111111,
              "#46039f"
             ],
             [
              0.2222222222222222,
              "#7201a8"
             ],
             [
              0.3333333333333333,
              "#9c179e"
             ],
             [
              0.4444444444444444,
              "#bd3786"
             ],
             [
              0.5555555555555556,
              "#d8576b"
             ],
             [
              0.6666666666666666,
              "#ed7953"
             ],
             [
              0.7777777777777778,
              "#fb9f3a"
             ],
             [
              0.8888888888888888,
              "#fdca26"
             ],
             [
              1,
              "#f0f921"
             ]
            ],
            "type": "heatmap"
           }
          ],
          "heatmapgl": [
           {
            "colorbar": {
             "outlinewidth": 0,
             "ticks": ""
            },
            "colorscale": [
             [
              0,
              "#0d0887"
             ],
             [
              0.1111111111111111,
              "#46039f"
             ],
             [
              0.2222222222222222,
              "#7201a8"
             ],
             [
              0.3333333333333333,
              "#9c179e"
             ],
             [
              0.4444444444444444,
              "#bd3786"
             ],
             [
              0.5555555555555556,
              "#d8576b"
             ],
             [
              0.6666666666666666,
              "#ed7953"
             ],
             [
              0.7777777777777778,
              "#fb9f3a"
             ],
             [
              0.8888888888888888,
              "#fdca26"
             ],
             [
              1,
              "#f0f921"
             ]
            ],
            "type": "heatmapgl"
           }
          ],
          "histogram": [
           {
            "marker": {
             "colorbar": {
              "outlinewidth": 0,
              "ticks": ""
             }
            },
            "type": "histogram"
           }
          ],
          "histogram2d": [
           {
            "colorbar": {
             "outlinewidth": 0,
             "ticks": ""
            },
            "colorscale": [
             [
              0,
              "#0d0887"
             ],
             [
              0.1111111111111111,
              "#46039f"
             ],
             [
              0.2222222222222222,
              "#7201a8"
             ],
             [
              0.3333333333333333,
              "#9c179e"
             ],
             [
              0.4444444444444444,
              "#bd3786"
             ],
             [
              0.5555555555555556,
              "#d8576b"
             ],
             [
              0.6666666666666666,
              "#ed7953"
             ],
             [
              0.7777777777777778,
              "#fb9f3a"
             ],
             [
              0.8888888888888888,
              "#fdca26"
             ],
             [
              1,
              "#f0f921"
             ]
            ],
            "type": "histogram2d"
           }
          ],
          "histogram2dcontour": [
           {
            "colorbar": {
             "outlinewidth": 0,
             "ticks": ""
            },
            "colorscale": [
             [
              0,
              "#0d0887"
             ],
             [
              0.1111111111111111,
              "#46039f"
             ],
             [
              0.2222222222222222,
              "#7201a8"
             ],
             [
              0.3333333333333333,
              "#9c179e"
             ],
             [
              0.4444444444444444,
              "#bd3786"
             ],
             [
              0.5555555555555556,
              "#d8576b"
             ],
             [
              0.6666666666666666,
              "#ed7953"
             ],
             [
              0.7777777777777778,
              "#fb9f3a"
             ],
             [
              0.8888888888888888,
              "#fdca26"
             ],
             [
              1,
              "#f0f921"
             ]
            ],
            "type": "histogram2dcontour"
           }
          ],
          "mesh3d": [
           {
            "colorbar": {
             "outlinewidth": 0,
             "ticks": ""
            },
            "type": "mesh3d"
           }
          ],
          "parcoords": [
           {
            "line": {
             "colorbar": {
              "outlinewidth": 0,
              "ticks": ""
             }
            },
            "type": "parcoords"
           }
          ],
          "pie": [
           {
            "automargin": true,
            "type": "pie"
           }
          ],
          "scatter": [
           {
            "marker": {
             "colorbar": {
              "outlinewidth": 0,
              "ticks": ""
             }
            },
            "type": "scatter"
           }
          ],
          "scatter3d": [
           {
            "line": {
             "colorbar": {
              "outlinewidth": 0,
              "ticks": ""
             }
            },
            "marker": {
             "colorbar": {
              "outlinewidth": 0,
              "ticks": ""
             }
            },
            "type": "scatter3d"
           }
          ],
          "scattercarpet": [
           {
            "marker": {
             "colorbar": {
              "outlinewidth": 0,
              "ticks": ""
             }
            },
            "type": "scattercarpet"
           }
          ],
          "scattergeo": [
           {
            "marker": {
             "colorbar": {
              "outlinewidth": 0,
              "ticks": ""
             }
            },
            "type": "scattergeo"
           }
          ],
          "scattergl": [
           {
            "marker": {
             "colorbar": {
              "outlinewidth": 0,
              "ticks": ""
             }
            },
            "type": "scattergl"
           }
          ],
          "scattermapbox": [
           {
            "marker": {
             "colorbar": {
              "outlinewidth": 0,
              "ticks": ""
             }
            },
            "type": "scattermapbox"
           }
          ],
          "scatterpolar": [
           {
            "marker": {
             "colorbar": {
              "outlinewidth": 0,
              "ticks": ""
             }
            },
            "type": "scatterpolar"
           }
          ],
          "scatterpolargl": [
           {
            "marker": {
             "colorbar": {
              "outlinewidth": 0,
              "ticks": ""
             }
            },
            "type": "scatterpolargl"
           }
          ],
          "scatterternary": [
           {
            "marker": {
             "colorbar": {
              "outlinewidth": 0,
              "ticks": ""
             }
            },
            "type": "scatterternary"
           }
          ],
          "surface": [
           {
            "colorbar": {
             "outlinewidth": 0,
             "ticks": ""
            },
            "colorscale": [
             [
              0,
              "#0d0887"
             ],
             [
              0.1111111111111111,
              "#46039f"
             ],
             [
              0.2222222222222222,
              "#7201a8"
             ],
             [
              0.3333333333333333,
              "#9c179e"
             ],
             [
              0.4444444444444444,
              "#bd3786"
             ],
             [
              0.5555555555555556,
              "#d8576b"
             ],
             [
              0.6666666666666666,
              "#ed7953"
             ],
             [
              0.7777777777777778,
              "#fb9f3a"
             ],
             [
              0.8888888888888888,
              "#fdca26"
             ],
             [
              1,
              "#f0f921"
             ]
            ],
            "type": "surface"
           }
          ],
          "table": [
           {
            "cells": {
             "fill": {
              "color": "#EBF0F8"
             },
             "line": {
              "color": "white"
             }
            },
            "header": {
             "fill": {
              "color": "#C8D4E3"
             },
             "line": {
              "color": "white"
             }
            },
            "type": "table"
           }
          ]
         },
         "layout": {
          "annotationdefaults": {
           "arrowcolor": "#2a3f5f",
           "arrowhead": 0,
           "arrowwidth": 1
          },
          "autotypenumbers": "strict",
          "coloraxis": {
           "colorbar": {
            "outlinewidth": 0,
            "ticks": ""
           }
          },
          "colorscale": {
           "diverging": [
            [
             0,
             "#8e0152"
            ],
            [
             0.1,
             "#c51b7d"
            ],
            [
             0.2,
             "#de77ae"
            ],
            [
             0.3,
             "#f1b6da"
            ],
            [
             0.4,
             "#fde0ef"
            ],
            [
             0.5,
             "#f7f7f7"
            ],
            [
             0.6,
             "#e6f5d0"
            ],
            [
             0.7,
             "#b8e186"
            ],
            [
             0.8,
             "#7fbc41"
            ],
            [
             0.9,
             "#4d9221"
            ],
            [
             1,
             "#276419"
            ]
           ],
           "sequential": [
            [
             0,
             "#0d0887"
            ],
            [
             0.1111111111111111,
             "#46039f"
            ],
            [
             0.2222222222222222,
             "#7201a8"
            ],
            [
             0.3333333333333333,
             "#9c179e"
            ],
            [
             0.4444444444444444,
             "#bd3786"
            ],
            [
             0.5555555555555556,
             "#d8576b"
            ],
            [
             0.6666666666666666,
             "#ed7953"
            ],
            [
             0.7777777777777778,
             "#fb9f3a"
            ],
            [
             0.8888888888888888,
             "#fdca26"
            ],
            [
             1,
             "#f0f921"
            ]
           ],
           "sequentialminus": [
            [
             0,
             "#0d0887"
            ],
            [
             0.1111111111111111,
             "#46039f"
            ],
            [
             0.2222222222222222,
             "#7201a8"
            ],
            [
             0.3333333333333333,
             "#9c179e"
            ],
            [
             0.4444444444444444,
             "#bd3786"
            ],
            [
             0.5555555555555556,
             "#d8576b"
            ],
            [
             0.6666666666666666,
             "#ed7953"
            ],
            [
             0.7777777777777778,
             "#fb9f3a"
            ],
            [
             0.8888888888888888,
             "#fdca26"
            ],
            [
             1,
             "#f0f921"
            ]
           ]
          },
          "colorway": [
           "#636efa",
           "#EF553B",
           "#00cc96",
           "#ab63fa",
           "#FFA15A",
           "#19d3f3",
           "#FF6692",
           "#B6E880",
           "#FF97FF",
           "#FECB52"
          ],
          "font": {
           "color": "#2a3f5f"
          },
          "geo": {
           "bgcolor": "white",
           "lakecolor": "white",
           "landcolor": "#E5ECF6",
           "showlakes": true,
           "showland": true,
           "subunitcolor": "white"
          },
          "hoverlabel": {
           "align": "left"
          },
          "hovermode": "closest",
          "mapbox": {
           "style": "light"
          },
          "paper_bgcolor": "white",
          "plot_bgcolor": "#E5ECF6",
          "polar": {
           "angularaxis": {
            "gridcolor": "white",
            "linecolor": "white",
            "ticks": ""
           },
           "bgcolor": "#E5ECF6",
           "radialaxis": {
            "gridcolor": "white",
            "linecolor": "white",
            "ticks": ""
           }
          },
          "scene": {
           "xaxis": {
            "backgroundcolor": "#E5ECF6",
            "gridcolor": "white",
            "gridwidth": 2,
            "linecolor": "white",
            "showbackground": true,
            "ticks": "",
            "zerolinecolor": "white"
           },
           "yaxis": {
            "backgroundcolor": "#E5ECF6",
            "gridcolor": "white",
            "gridwidth": 2,
            "linecolor": "white",
            "showbackground": true,
            "ticks": "",
            "zerolinecolor": "white"
           },
           "zaxis": {
            "backgroundcolor": "#E5ECF6",
            "gridcolor": "white",
            "gridwidth": 2,
            "linecolor": "white",
            "showbackground": true,
            "ticks": "",
            "zerolinecolor": "white"
           }
          },
          "shapedefaults": {
           "line": {
            "color": "#2a3f5f"
           }
          },
          "ternary": {
           "aaxis": {
            "gridcolor": "white",
            "linecolor": "white",
            "ticks": ""
           },
           "baxis": {
            "gridcolor": "white",
            "linecolor": "white",
            "ticks": ""
           },
           "bgcolor": "#E5ECF6",
           "caxis": {
            "gridcolor": "white",
            "linecolor": "white",
            "ticks": ""
           }
          },
          "title": {
           "x": 0.05
          },
          "xaxis": {
           "automargin": true,
           "gridcolor": "white",
           "linecolor": "white",
           "ticks": "",
           "title": {
            "standoff": 15
           },
           "zerolinecolor": "white",
           "zerolinewidth": 2
          },
          "yaxis": {
           "automargin": true,
           "gridcolor": "white",
           "linecolor": "white",
           "ticks": "",
           "title": {
            "standoff": 15
           },
           "zerolinecolor": "white",
           "zerolinewidth": 2
          }
         }
        },
        "width": 400
       }
      },
      "text/html": [
       "<html>\n",
       "<head><meta charset=\"utf-8\" /></head>\n",
       "<body>\n",
       "<div>\n",
       "    <script src=\"https://cdnjs.cloudflare.com/ajax/libs/mathjax/2.7.5/MathJax.js?config=TeX-AMS-MML_SVG\"></script>\n",
       "    <script type=\"text/javascript\">\n",
       "window.PlotlyConfig = {MathJaxConfig: 'local'};\n",
       "</script>\n",
       "<script src=\"https://cdn.plot.ly/plotly-2.3.0.min.js\"></script>\n",
       "\n",
       "    <div\n",
       "        id=8d0a3687-3126-4b3e-9394-84926730ebd5\n",
       "        class=\"plotly-graph-div\"\n",
       "        style=\"height:400; width:400;\">\n",
       "    </div>\n",
       "    <script type=\"text/javascript\">\n",
       "        \n",
       "        window.PLOTLYENV = window.PLOTLYENV || {}\n",
       "        \n",
       "        if (document.getElementById('8d0a3687-3126-4b3e-9394-84926730ebd5')) {\n",
       "    Plotly.newPlot(\n",
       "        '8d0a3687-3126-4b3e-9394-84926730ebd5',\n",
       "        [{\"y\":[0.0,1.4960300798164508,1.9995891785428535,0.0,-1.4960300798164508,-1.9995891785428535,0.0,1.999994475290501,3.4956137570370625,3.99926068364972,1.999662257364267,0.5039405036217683,-1.8313106629889047,-1.59299111017958,-3.324542359826466,-3.3722085500631485],\"type\":\"mesh3d\",\"j\":[1,2,6,3,3,5,4,4,2,11,3,15,10,8,11,14,9,13],\"k\":[2,3,1,4,2,6,5,3,8,3,11,4,11,9,13,15,10,14],\"opacity\":0.9,\"z\":[0.0,0.5630737378006817,0.9433574651686303,0.955336489125606,0.5630737378006817,0.9433574651686303,0.955336489125606,-0.005879633011371301,1.3614720721972544,0.5684668676389517,0.5999449066829786,-0.4566805951935396,-0.14972104806699457,0.08066069236310888,-0.6988719093255111,1.1890616620941357],\"i\":[0,0,0,0,7,0,0,12,7,7,12,12,7,7,12,12,7,12],\"facecolor\":[\"#407FB7\",\"#407FB7\",\"#407FB7\",\"#407FB7\",\"#407FB7\",\"#407FB7\",\"#407FB7\",\"#407FB7\",\"#407FB7\",\"#407FB7\",\"#407FB7\",\"#407FB7\",\"#407FB7\",\"#407FB7\",\"#407FB7\",\"#407FB7\",\"#407FB7\",\"#407FB7\"],\"x\":[0.0,-1.5635990426204385,0.3342451345418994,0.29552020666133955,1.5635990426204385,-0.3342451345418994,-0.29552020666133955,0.01968390493253444,-0.9255527206438132,0.8400866872923218,0.8152821180623642,1.6192466596720412,0.9475547878891788,1.8910207620637434,2.5187621042986486,1.8604044779169242]},{\"mode\":\"lines\",\"line\":{\"color\":\"#000000\"},\"y\":[0.0,1.4960300798164508],\"type\":\"scatter3d\",\"z\":[0.0,0.5630737378006817],\"x\":[0.0,-1.5635990426204385]},{\"mode\":\"lines\",\"line\":{\"color\":\"#000000\"},\"y\":[0.0,1.9995891785428535],\"type\":\"scatter3d\",\"z\":[0.0,0.9433574651686303],\"x\":[0.0,0.3342451345418994]},{\"mode\":\"lines\",\"line\":{\"color\":\"#000000\"},\"y\":[0.0,0.0],\"type\":\"scatter3d\",\"z\":[0.0,0.955336489125606],\"x\":[0.0,0.29552020666133955]},{\"mode\":\"lines\",\"line\":{\"color\":\"#000000\"},\"y\":[0.0,-1.4960300798164508],\"type\":\"scatter3d\",\"z\":[0.0,0.5630737378006817],\"x\":[0.0,1.5635990426204385]},{\"mode\":\"lines\",\"line\":{\"color\":\"#000000\"},\"y\":[0.0,-1.9995891785428535],\"type\":\"scatter3d\",\"z\":[0.0,0.9433574651686303],\"x\":[0.0,-0.3342451345418994]},{\"mode\":\"lines\",\"line\":{\"color\":\"#000000\"},\"y\":[0.0,0.0],\"type\":\"scatter3d\",\"z\":[0.0,0.955336489125606],\"x\":[0.0,-0.29552020666133955]},{\"mode\":\"lines\",\"line\":{\"color\":\"#000000\"},\"y\":[1.4960300798164508,1.9995891785428535],\"type\":\"scatter3d\",\"z\":[0.5630737378006817,0.9433574651686303],\"x\":[-1.5635990426204385,0.3342451345418994]},{\"mode\":\"lines\",\"line\":{\"color\":\"#000000\"},\"y\":[1.4960300798164508,0.0],\"type\":\"scatter3d\",\"z\":[0.5630737378006817,0.955336489125606],\"x\":[-1.5635990426204385,-0.29552020666133955]},{\"mode\":\"lines\",\"line\":{\"color\":\"#000000\"},\"y\":[1.9995891785428535,0.0],\"type\":\"scatter3d\",\"z\":[0.9433574651686303,0.955336489125606],\"x\":[0.3342451345418994,0.29552020666133955]},{\"mode\":\"lines\",\"line\":{\"color\":\"#000000\"},\"y\":[1.9995891785428535,1.999994475290501],\"type\":\"scatter3d\",\"z\":[0.9433574651686303,-0.005879633011371301],\"x\":[0.3342451345418994,0.01968390493253444]},{\"mode\":\"lines\",\"line\":{\"color\":\"#000000\"},\"y\":[1.9995891785428535,3.4956137570370625],\"type\":\"scatter3d\",\"z\":[0.9433574651686303,1.3614720721972544],\"x\":[0.3342451345418994,-0.9255527206438132]},{\"mode\":\"lines\",\"line\":{\"color\":\"#000000\"},\"y\":[0.0,-1.4960300798164508],\"type\":\"scatter3d\",\"z\":[0.955336489125606,0.5630737378006817],\"x\":[0.29552020666133955,1.5635990426204385]},{\"mode\":\"lines\",\"line\":{\"color\":\"#000000\"},\"y\":[0.0,1.999994475290501],\"type\":\"scatter3d\",\"z\":[0.955336489125606,-0.005879633011371301],\"x\":[0.29552020666133955,0.01968390493253444]},{\"mode\":\"lines\",\"line\":{\"color\":\"#000000\"},\"y\":[0.0,0.5039405036217683],\"type\":\"scatter3d\",\"z\":[0.955336489125606,-0.4566805951935396],\"x\":[0.29552020666133955,1.6192466596720412]},{\"mode\":\"lines\",\"line\":{\"color\":\"#000000\"},\"y\":[0.0,-1.8313106629889047],\"type\":\"scatter3d\",\"z\":[0.955336489125606,-0.14972104806699457],\"x\":[0.29552020666133955,0.9475547878891788]},{\"mode\":\"lines\",\"line\":{\"color\":\"#000000\"},\"y\":[-1.4960300798164508,-1.9995891785428535],\"type\":\"scatter3d\",\"z\":[0.5630737378006817,0.9433574651686303],\"x\":[1.5635990426204385,-0.3342451345418994]},{\"mode\":\"lines\",\"line\":{\"color\":\"#000000\"},\"y\":[-1.4960300798164508,-1.8313106629889047],\"type\":\"scatter3d\",\"z\":[0.5630737378006817,-0.14972104806699457],\"x\":[1.5635990426204385,0.9475547878891788]},{\"mode\":\"lines\",\"line\":{\"color\":\"#000000\"},\"y\":[-1.4960300798164508,-3.3722085500631485],\"type\":\"scatter3d\",\"z\":[0.5630737378006817,1.1890616620941357],\"x\":[1.5635990426204385,1.8604044779169242]},{\"mode\":\"lines\",\"line\":{\"color\":\"#000000\"},\"y\":[-1.9995891785428535,0.0],\"type\":\"scatter3d\",\"z\":[0.9433574651686303,0.955336489125606],\"x\":[-0.3342451345418994,-0.29552020666133955]},{\"mode\":\"lines\",\"line\":{\"color\":\"#000000\"},\"y\":[1.999994475290501,3.4956137570370625],\"type\":\"scatter3d\",\"z\":[-0.005879633011371301,1.3614720721972544],\"x\":[0.01968390493253444,-0.9255527206438132]},{\"mode\":\"lines\",\"line\":{\"color\":\"#000000\"},\"y\":[1.999994475290501,3.99926068364972],\"type\":\"scatter3d\",\"z\":[-0.005879633011371301,0.5684668676389517],\"x\":[0.01968390493253444,0.8400866872923218]},{\"mode\":\"lines\",\"line\":{\"color\":\"#000000\"},\"y\":[1.999994475290501,1.999662257364267],\"type\":\"scatter3d\",\"z\":[-0.005879633011371301,0.5999449066829786],\"x\":[0.01968390493253444,0.8152821180623642]},{\"mode\":\"lines\",\"line\":{\"color\":\"#000000\"},\"y\":[1.999994475290501,0.5039405036217683],\"type\":\"scatter3d\",\"z\":[-0.005879633011371301,-0.4566805951935396],\"x\":[0.01968390493253444,1.6192466596720412]},{\"mode\":\"lines\",\"line\":{\"color\":\"#000000\"},\"y\":[3.4956137570370625,3.99926068364972],\"type\":\"scatter3d\",\"z\":[1.3614720721972544,0.5684668676389517],\"x\":[-0.9255527206438132,0.8400866872923218]},{\"mode\":\"lines\",\"line\":{\"color\":\"#000000\"},\"y\":[3.99926068364972,1.999662257364267],\"type\":\"scatter3d\",\"z\":[0.5684668676389517,0.5999449066829786],\"x\":[0.8400866872923218,0.8152821180623642]},{\"mode\":\"lines\",\"line\":{\"color\":\"#000000\"},\"y\":[1.999662257364267,0.5039405036217683],\"type\":\"scatter3d\",\"z\":[0.5999449066829786,-0.4566805951935396],\"x\":[0.8152821180623642,1.6192466596720412]},{\"mode\":\"lines\",\"line\":{\"color\":\"#000000\"},\"y\":[0.5039405036217683,-1.8313106629889047],\"type\":\"scatter3d\",\"z\":[-0.4566805951935396,-0.14972104806699457],\"x\":[1.6192466596720412,0.9475547878891788]},{\"mode\":\"lines\",\"line\":{\"color\":\"#000000\"},\"y\":[0.5039405036217683,-1.59299111017958],\"type\":\"scatter3d\",\"z\":[-0.4566805951935396,0.08066069236310888],\"x\":[1.6192466596720412,1.8910207620637434]},{\"mode\":\"lines\",\"line\":{\"color\":\"#000000\"},\"y\":[-1.8313106629889047,-1.59299111017958],\"type\":\"scatter3d\",\"z\":[-0.14972104806699457,0.08066069236310888],\"x\":[0.9475547878891788,1.8910207620637434]},{\"mode\":\"lines\",\"line\":{\"color\":\"#000000\"},\"y\":[-1.8313106629889047,-3.324542359826466],\"type\":\"scatter3d\",\"z\":[-0.14972104806699457,-0.6988719093255111],\"x\":[0.9475547878891788,2.5187621042986486]},{\"mode\":\"lines\",\"line\":{\"color\":\"#000000\"},\"y\":[-1.8313106629889047,-3.3722085500631485],\"type\":\"scatter3d\",\"z\":[-0.14972104806699457,1.1890616620941357],\"x\":[0.9475547878891788,1.8604044779169242]},{\"mode\":\"lines\",\"line\":{\"color\":\"#000000\"},\"y\":[-1.59299111017958,-3.324542359826466],\"type\":\"scatter3d\",\"z\":[0.08066069236310888,-0.6988719093255111],\"x\":[1.8910207620637434,2.5187621042986486]},{\"mode\":\"lines\",\"line\":{\"color\":\"#000000\"},\"y\":[-3.324542359826466,-3.3722085500631485],\"type\":\"scatter3d\",\"z\":[-0.6988719093255111,1.1890616620941357],\"x\":[2.5187621042986486,1.8604044779169242]}],\n",
       "        {\"showlegend\":false,\"template\":{\"layout\":{\"coloraxis\":{\"colorbar\":{\"ticks\":\"\",\"outlinewidth\":0}},\"xaxis\":{\"gridcolor\":\"white\",\"zerolinewidth\":2,\"title\":{\"standoff\":15},\"ticks\":\"\",\"zerolinecolor\":\"white\",\"automargin\":true,\"linecolor\":\"white\"},\"hovermode\":\"closest\",\"paper_bgcolor\":\"white\",\"geo\":{\"showlakes\":true,\"showland\":true,\"landcolor\":\"#E5ECF6\",\"bgcolor\":\"white\",\"subunitcolor\":\"white\",\"lakecolor\":\"white\"},\"colorscale\":{\"sequential\":[[0.0,\"#0d0887\"],[0.1111111111111111,\"#46039f\"],[0.2222222222222222,\"#7201a8\"],[0.3333333333333333,\"#9c179e\"],[0.4444444444444444,\"#bd3786\"],[0.5555555555555556,\"#d8576b\"],[0.6666666666666666,\"#ed7953\"],[0.7777777777777778,\"#fb9f3a\"],[0.8888888888888888,\"#fdca26\"],[1.0,\"#f0f921\"]],\"diverging\":[[0,\"#8e0152\"],[0.1,\"#c51b7d\"],[0.2,\"#de77ae\"],[0.3,\"#f1b6da\"],[0.4,\"#fde0ef\"],[0.5,\"#f7f7f7\"],[0.6,\"#e6f5d0\"],[0.7,\"#b8e186\"],[0.8,\"#7fbc41\"],[0.9,\"#4d9221\"],[1,\"#276419\"]],\"sequentialminus\":[[0.0,\"#0d0887\"],[0.1111111111111111,\"#46039f\"],[0.2222222222222222,\"#7201a8\"],[0.3333333333333333,\"#9c179e\"],[0.4444444444444444,\"#bd3786\"],[0.5555555555555556,\"#d8576b\"],[0.6666666666666666,\"#ed7953\"],[0.7777777777777778,\"#fb9f3a\"],[0.8888888888888888,\"#fdca26\"],[1.0,\"#f0f921\"]]},\"yaxis\":{\"gridcolor\":\"white\",\"zerolinewidth\":2,\"title\":{\"standoff\":15},\"ticks\":\"\",\"zerolinecolor\":\"white\",\"automargin\":true,\"linecolor\":\"white\"},\"shapedefaults\":{\"line\":{\"color\":\"#2a3f5f\"}},\"hoverlabel\":{\"align\":\"left\"},\"mapbox\":{\"style\":\"light\"},\"polar\":{\"angularaxis\":{\"gridcolor\":\"white\",\"ticks\":\"\",\"linecolor\":\"white\"},\"bgcolor\":\"#E5ECF6\",\"radialaxis\":{\"gridcolor\":\"white\",\"ticks\":\"\",\"linecolor\":\"white\"}},\"autotypenumbers\":\"strict\",\"font\":{\"color\":\"#2a3f5f\"},\"ternary\":{\"baxis\":{\"gridcolor\":\"white\",\"ticks\":\"\",\"linecolor\":\"white\"},\"bgcolor\":\"#E5ECF6\",\"caxis\":{\"gridcolor\":\"white\",\"ticks\":\"\",\"linecolor\":\"white\"},\"aaxis\":{\"gridcolor\":\"white\",\"ticks\":\"\",\"linecolor\":\"white\"}},\"annotationdefaults\":{\"arrowhead\":0,\"arrowwidth\":1,\"arrowcolor\":\"#2a3f5f\"},\"plot_bgcolor\":\"#E5ECF6\",\"title\":{\"x\":0.05},\"scene\":{\"xaxis\":{\"gridcolor\":\"white\",\"gridwidth\":2,\"backgroundcolor\":\"#E5ECF6\",\"ticks\":\"\",\"showbackground\":true,\"zerolinecolor\":\"white\",\"linecolor\":\"white\"},\"zaxis\":{\"gridcolor\":\"white\",\"gridwidth\":2,\"backgroundcolor\":\"#E5ECF6\",\"ticks\":\"\",\"showbackground\":true,\"zerolinecolor\":\"white\",\"linecolor\":\"white\"},\"yaxis\":{\"gridcolor\":\"white\",\"gridwidth\":2,\"backgroundcolor\":\"#E5ECF6\",\"ticks\":\"\",\"showbackground\":true,\"zerolinecolor\":\"white\",\"linecolor\":\"white\"}},\"colorway\":[\"#636efa\",\"#EF553B\",\"#00cc96\",\"#ab63fa\",\"#FFA15A\",\"#19d3f3\",\"#FF6692\",\"#B6E880\",\"#FF97FF\",\"#FECB52\"]},\"data\":{\"barpolar\":[{\"type\":\"barpolar\",\"marker\":{\"line\":{\"color\":\"#E5ECF6\",\"width\":0.5}}}],\"carpet\":[{\"aaxis\":{\"gridcolor\":\"white\",\"endlinecolor\":\"#2a3f5f\",\"minorgridcolor\":\"white\",\"startlinecolor\":\"#2a3f5f\",\"linecolor\":\"white\"},\"type\":\"carpet\",\"baxis\":{\"gridcolor\":\"white\",\"endlinecolor\":\"#2a3f5f\",\"minorgridcolor\":\"white\",\"startlinecolor\":\"#2a3f5f\",\"linecolor\":\"white\"}}],\"scatterpolar\":[{\"type\":\"scatterpolar\",\"marker\":{\"colorbar\":{\"ticks\":\"\",\"outlinewidth\":0}}}],\"parcoords\":[{\"line\":{\"colorbar\":{\"ticks\":\"\",\"outlinewidth\":0}},\"type\":\"parcoords\"}],\"scatter\":[{\"type\":\"scatter\",\"marker\":{\"colorbar\":{\"ticks\":\"\",\"outlinewidth\":0}}}],\"histogram2dcontour\":[{\"colorbar\":{\"ticks\":\"\",\"outlinewidth\":0},\"type\":\"histogram2dcontour\",\"colorscale\":[[0.0,\"#0d0887\"],[0.1111111111111111,\"#46039f\"],[0.2222222222222222,\"#7201a8\"],[0.3333333333333333,\"#9c179e\"],[0.4444444444444444,\"#bd3786\"],[0.5555555555555556,\"#d8576b\"],[0.6666666666666666,\"#ed7953\"],[0.7777777777777778,\"#fb9f3a\"],[0.8888888888888888,\"#fdca26\"],[1.0,\"#f0f921\"]]}],\"contour\":[{\"colorbar\":{\"ticks\":\"\",\"outlinewidth\":0},\"type\":\"contour\",\"colorscale\":[[0.0,\"#0d0887\"],[0.1111111111111111,\"#46039f\"],[0.2222222222222222,\"#7201a8\"],[0.3333333333333333,\"#9c179e\"],[0.4444444444444444,\"#bd3786\"],[0.5555555555555556,\"#d8576b\"],[0.6666666666666666,\"#ed7953\"],[0.7777777777777778,\"#fb9f3a\"],[0.8888888888888888,\"#fdca26\"],[1.0,\"#f0f921\"]]}],\"scattercarpet\":[{\"type\":\"scattercarpet\",\"marker\":{\"colorbar\":{\"ticks\":\"\",\"outlinewidth\":0}}}],\"mesh3d\":[{\"colorbar\":{\"ticks\":\"\",\"outlinewidth\":0},\"type\":\"mesh3d\"}],\"surface\":[{\"colorbar\":{\"ticks\":\"\",\"outlinewidth\":0},\"type\":\"surface\",\"colorscale\":[[0.0,\"#0d0887\"],[0.1111111111111111,\"#46039f\"],[0.2222222222222222,\"#7201a8\"],[0.3333333333333333,\"#9c179e\"],[0.4444444444444444,\"#bd3786\"],[0.5555555555555556,\"#d8576b\"],[0.6666666666666666,\"#ed7953\"],[0.7777777777777778,\"#fb9f3a\"],[0.8888888888888888,\"#fdca26\"],[1.0,\"#f0f921\"]]}],\"scattermapbox\":[{\"type\":\"scattermapbox\",\"marker\":{\"colorbar\":{\"ticks\":\"\",\"outlinewidth\":0}}}],\"scattergeo\":[{\"type\":\"scattergeo\",\"marker\":{\"colorbar\":{\"ticks\":\"\",\"outlinewidth\":0}}}],\"histogram\":[{\"type\":\"histogram\",\"marker\":{\"colorbar\":{\"ticks\":\"\",\"outlinewidth\":0}}}],\"pie\":[{\"type\":\"pie\",\"automargin\":true}],\"choropleth\":[{\"colorbar\":{\"ticks\":\"\",\"outlinewidth\":0},\"type\":\"choropleth\"}],\"heatmapgl\":[{\"colorbar\":{\"ticks\":\"\",\"outlinewidth\":0},\"type\":\"heatmapgl\",\"colorscale\":[[0.0,\"#0d0887\"],[0.1111111111111111,\"#46039f\"],[0.2222222222222222,\"#7201a8\"],[0.3333333333333333,\"#9c179e\"],[0.4444444444444444,\"#bd3786\"],[0.5555555555555556,\"#d8576b\"],[0.6666666666666666,\"#ed7953\"],[0.7777777777777778,\"#fb9f3a\"],[0.8888888888888888,\"#fdca26\"],[1.0,\"#f0f921\"]]}],\"bar\":[{\"type\":\"bar\",\"error_y\":{\"color\":\"#2a3f5f\"},\"error_x\":{\"color\":\"#2a3f5f\"},\"marker\":{\"line\":{\"color\":\"#E5ECF6\",\"width\":0.5}}}],\"heatmap\":[{\"colorbar\":{\"ticks\":\"\",\"outlinewidth\":0},\"type\":\"heatmap\",\"colorscale\":[[0.0,\"#0d0887\"],[0.1111111111111111,\"#46039f\"],[0.2222222222222222,\"#7201a8\"],[0.3333333333333333,\"#9c179e\"],[0.4444444444444444,\"#bd3786\"],[0.5555555555555556,\"#d8576b\"],[0.6666666666666666,\"#ed7953\"],[0.7777777777777778,\"#fb9f3a\"],[0.8888888888888888,\"#fdca26\"],[1.0,\"#f0f921\"]]}],\"contourcarpet\":[{\"colorbar\":{\"ticks\":\"\",\"outlinewidth\":0},\"type\":\"contourcarpet\"}],\"table\":[{\"type\":\"table\",\"header\":{\"line\":{\"color\":\"white\"},\"fill\":{\"color\":\"#C8D4E3\"}},\"cells\":{\"line\":{\"color\":\"white\"},\"fill\":{\"color\":\"#EBF0F8\"}}}],\"scatter3d\":[{\"line\":{\"colorbar\":{\"ticks\":\"\",\"outlinewidth\":0}},\"type\":\"scatter3d\",\"marker\":{\"colorbar\":{\"ticks\":\"\",\"outlinewidth\":0}}}],\"scattergl\":[{\"type\":\"scattergl\",\"marker\":{\"colorbar\":{\"ticks\":\"\",\"outlinewidth\":0}}}],\"histogram2d\":[{\"colorbar\":{\"ticks\":\"\",\"outlinewidth\":0},\"type\":\"histogram2d\",\"colorscale\":[[0.0,\"#0d0887\"],[0.1111111111111111,\"#46039f\"],[0.2222222222222222,\"#7201a8\"],[0.3333333333333333,\"#9c179e\"],[0.4444444444444444,\"#bd3786\"],[0.5555555555555556,\"#d8576b\"],[0.6666666666666666,\"#ed7953\"],[0.7777777777777778,\"#fb9f3a\"],[0.8888888888888888,\"#fdca26\"],[1.0,\"#f0f921\"]]}],\"scatterternary\":[{\"type\":\"scatterternary\",\"marker\":{\"colorbar\":{\"ticks\":\"\",\"outlinewidth\":0}}}],\"scatterpolargl\":[{\"type\":\"scatterpolargl\",\"marker\":{\"colorbar\":{\"ticks\":\"\",\"outlinewidth\":0}}}]}},\"scene\":{\"camera\":{\"eye\":{\"y\":1.0,\"z\":1.8,\"x\":1.8}},\"xaxis\":{\"showticklabels\":false,\"showaxeslabels\":false,\"title\":{\"text\":\"\"},\"showbackground\":false},\"yaxis\":{\"showticklabels\":false,\"showaxeslabels\":false,\"title\":{\"text\":\"\"},\"showbackground\":false},\"zaxis\":{\"showticklabels\":false,\"showaxeslabels\":false,\"title\":{\"text\":\"\"},\"showbackground\":false},\"aspectmode\":\"data\",\"autosize\":true},\"margin\":{\"l\":50,\"b\":50,\"r\":50,\"t\":60},\"height\":400,\"width\":400},\n",
       "        {\"editable\":false,\"responsive\":true,\"staticPlot\":false,\"scrollZoom\":true},\n",
       "    )\n",
       "}\n",
       "\n",
       "        \n",
       "    </script>\n",
       "</div>\n",
       "\n",
       "</body>\n",
       "</html>"
      ],
      "text/plain": [
       "data: [\n",
       "  \"mesh3d with fields facecolor, i, j, k, opacity, type, x, y, and z\",\n",
       "  \"scatter3d with fields line, mode, type, x, y, and z\",\n",
       "  \"scatter3d with fields line, mode, type, x, y, and z\",\n",
       "  \"scatter3d with fields line, mode, type, x, y, and z\",\n",
       "  \"scatter3d with fields line, mode, type, x, y, and z\",\n",
       "  \"scatter3d with fields line, mode, type, x, y, and z\",\n",
       "  \"scatter3d with fields line, mode, type, x, y, and z\",\n",
       "  \"scatter3d with fields line, mode, type, x, y, and z\",\n",
       "  \"scatter3d with fields line, mode, type, x, y, and z\",\n",
       "  \"scatter3d with fields line, mode, type, x, y, and z\",\n",
       "  \"scatter3d with fields line, mode, type, x, y, and z\",\n",
       "  \"scatter3d with fields line, mode, type, x, y, and z\",\n",
       "  \"scatter3d with fields line, mode, type, x, y, and z\",\n",
       "  \"scatter3d with fields line, mode, type, x, y, and z\",\n",
       "  \"scatter3d with fields line, mode, type, x, y, and z\",\n",
       "  \"scatter3d with fields line, mode, type, x, y, and z\",\n",
       "  \"scatter3d with fields line, mode, type, x, y, and z\",\n",
       "  \"scatter3d with fields line, mode, type, x, y, and z\",\n",
       "  \"scatter3d with fields line, mode, type, x, y, and z\",\n",
       "  \"scatter3d with fields line, mode, type, x, y, and z\",\n",
       "  \"scatter3d with fields line, mode, type, x, y, and z\",\n",
       "  \"scatter3d with fields line, mode, type, x, y, and z\",\n",
       "  \"scatter3d with fields line, mode, type, x, y, and z\",\n",
       "  \"scatter3d with fields line, mode, type, x, y, and z\",\n",
       "  \"scatter3d with fields line, mode, type, x, y, and z\",\n",
       "  \"scatter3d with fields line, mode, type, x, y, and z\",\n",
       "  \"scatter3d with fields line, mode, type, x, y, and z\",\n",
       "  \"scatter3d with fields line, mode, type, x, y, and z\",\n",
       "  \"scatter3d with fields line, mode, type, x, y, and z\",\n",
       "  \"scatter3d with fields line, mode, type, x, y, and z\",\n",
       "  \"scatter3d with fields line, mode, type, x, y, and z\",\n",
       "  \"scatter3d with fields line, mode, type, x, y, and z\",\n",
       "  \"scatter3d with fields line, mode, type, x, y, and z\",\n",
       "  \"scatter3d with fields line, mode, type, x, y, and z\"\n",
       "]\n",
       "\n",
       "layout: \"layout with fields height, margin, scene, showlegend, template, and width\"\n",
       "\n"
      ]
     },
     "metadata": {},
     "output_type": "display_data"
    },
    {
     "data": {
      "application/vnd.plotly.v1+json": {
       "config": {
        "editable": false,
        "responsive": true,
        "scrollZoom": true,
        "showLink": false,
        "staticPlot": false
       },
       "data": [
        {
         "facecolor": [
          "#407FB7",
          "#407FB7",
          "#407FB7",
          "#407FB7",
          "#407FB7",
          "#407FB7",
          "#407FB7",
          "#407FB7",
          "#407FB7",
          "#407FB7",
          "#407FB7",
          "#407FB7",
          "#407FB7",
          "#407FB7",
          "#407FB7",
          "#407FB7",
          "#407FB7",
          "#407FB7"
         ],
         "i": [
          0,
          0,
          0,
          0,
          7,
          0,
          0,
          12,
          7,
          7,
          12,
          12,
          7,
          7,
          12,
          12,
          7,
          12
         ],
         "j": [
          1,
          2,
          6,
          3,
          3,
          5,
          4,
          4,
          2,
          11,
          3,
          15,
          10,
          8,
          11,
          14,
          9,
          13
         ],
         "k": [
          2,
          3,
          1,
          4,
          2,
          6,
          5,
          3,
          8,
          3,
          11,
          4,
          11,
          9,
          13,
          15,
          10,
          14
         ],
         "opacity": 0.9,
         "type": "mesh3d",
         "x": [
          0,
          -1.5725076388022146,
          0.30004146085954525,
          0.3801884151231614,
          1.5725076388022146,
          -0.30004146085954525,
          -0.3801884151231614,
          0.07087496908921065,
          -0.951554430088314,
          0.8765567743570141,
          0.9183541467693976,
          1.599436234898481,
          0.886744366026372,
          1.8690034566105749,
          2.1774387724177124,
          2.006475063240778
         ],
         "y": [
          0,
          1.529107044407732,
          1.998121894657378,
          0,
          -1.529107044407732,
          -1.998121894657378,
          0,
          2.004978461093223,
          3.5278959303416646,
          3.9974108034472424,
          1.999720424894478,
          0.4763659088486494,
          -1.855286408037867,
          -1.6710538278828322,
          -3.4706278117077045,
          -3.4189604902121884
         ],
         "z": [
          0,
          0.4348003825335668,
          0.9578538593418521,
          0.9249090598573131,
          0.4348003825335668,
          0.9578538593418521,
          0.9249090598573131,
          -0.01550923146567776,
          1.263302914846441,
          0.601815796215923,
          0.5152933650368698,
          -0.5872120579305216,
          -0.21584218943172145,
          -0.25084840850939116,
          -1.0671823675626881,
          0.9248271449733194
         ]
        },
        {
         "line": {
          "color": "#000000"
         },
         "mode": "lines",
         "type": "scatter3d",
         "x": [
          0,
          -1.5725076388022146
         ],
         "y": [
          0,
          1.529107044407732
         ],
         "z": [
          0,
          0.4348003825335668
         ]
        },
        {
         "line": {
          "color": "#000000"
         },
         "mode": "lines",
         "type": "scatter3d",
         "x": [
          0,
          0.30004146085954525
         ],
         "y": [
          0,
          1.998121894657378
         ],
         "z": [
          0,
          0.9578538593418521
         ]
        },
        {
         "line": {
          "color": "#000000"
         },
         "mode": "lines",
         "type": "scatter3d",
         "x": [
          0,
          0.3801884151231614
         ],
         "y": [
          0,
          0
         ],
         "z": [
          0,
          0.9249090598573131
         ]
        },
        {
         "line": {
          "color": "#000000"
         },
         "mode": "lines",
         "type": "scatter3d",
         "x": [
          0,
          1.5725076388022146
         ],
         "y": [
          0,
          -1.529107044407732
         ],
         "z": [
          0,
          0.4348003825335668
         ]
        },
        {
         "line": {
          "color": "#000000"
         },
         "mode": "lines",
         "type": "scatter3d",
         "x": [
          0,
          -0.30004146085954525
         ],
         "y": [
          0,
          -1.998121894657378
         ],
         "z": [
          0,
          0.9578538593418521
         ]
        },
        {
         "line": {
          "color": "#000000"
         },
         "mode": "lines",
         "type": "scatter3d",
         "x": [
          0,
          -0.3801884151231614
         ],
         "y": [
          0,
          0
         ],
         "z": [
          0,
          0.9249090598573131
         ]
        },
        {
         "line": {
          "color": "#000000"
         },
         "mode": "lines",
         "type": "scatter3d",
         "x": [
          -1.5725076388022146,
          0.30004146085954525
         ],
         "y": [
          1.529107044407732,
          1.998121894657378
         ],
         "z": [
          0.4348003825335668,
          0.9578538593418521
         ]
        },
        {
         "line": {
          "color": "#000000"
         },
         "mode": "lines",
         "type": "scatter3d",
         "x": [
          -1.5725076388022146,
          -0.3801884151231614
         ],
         "y": [
          1.529107044407732,
          0
         ],
         "z": [
          0.4348003825335668,
          0.9249090598573131
         ]
        },
        {
         "line": {
          "color": "#000000"
         },
         "mode": "lines",
         "type": "scatter3d",
         "x": [
          0.30004146085954525,
          0.3801884151231614
         ],
         "y": [
          1.998121894657378,
          0
         ],
         "z": [
          0.9578538593418521,
          0.9249090598573131
         ]
        },
        {
         "line": {
          "color": "#000000"
         },
         "mode": "lines",
         "type": "scatter3d",
         "x": [
          0.30004146085954525,
          0.07087496908921065
         ],
         "y": [
          1.998121894657378,
          2.004978461093223
         ],
         "z": [
          0.9578538593418521,
          -0.01550923146567776
         ]
        },
        {
         "line": {
          "color": "#000000"
         },
         "mode": "lines",
         "type": "scatter3d",
         "x": [
          0.30004146085954525,
          -0.951554430088314
         ],
         "y": [
          1.998121894657378,
          3.5278959303416646
         ],
         "z": [
          0.9578538593418521,
          1.263302914846441
         ]
        },
        {
         "line": {
          "color": "#000000"
         },
         "mode": "lines",
         "type": "scatter3d",
         "x": [
          0.3801884151231614,
          1.5725076388022146
         ],
         "y": [
          0,
          -1.529107044407732
         ],
         "z": [
          0.9249090598573131,
          0.4348003825335668
         ]
        },
        {
         "line": {
          "color": "#000000"
         },
         "mode": "lines",
         "type": "scatter3d",
         "x": [
          0.3801884151231614,
          0.07087496908921065
         ],
         "y": [
          0,
          2.004978461093223
         ],
         "z": [
          0.9249090598573131,
          -0.01550923146567776
         ]
        },
        {
         "line": {
          "color": "#000000"
         },
         "mode": "lines",
         "type": "scatter3d",
         "x": [
          0.3801884151231614,
          1.599436234898481
         ],
         "y": [
          0,
          0.4763659088486494
         ],
         "z": [
          0.9249090598573131,
          -0.5872120579305216
         ]
        },
        {
         "line": {
          "color": "#000000"
         },
         "mode": "lines",
         "type": "scatter3d",
         "x": [
          0.3801884151231614,
          0.886744366026372
         ],
         "y": [
          0,
          -1.855286408037867
         ],
         "z": [
          0.9249090598573131,
          -0.21584218943172145
         ]
        },
        {
         "line": {
          "color": "#000000"
         },
         "mode": "lines",
         "type": "scatter3d",
         "x": [
          1.5725076388022146,
          -0.30004146085954525
         ],
         "y": [
          -1.529107044407732,
          -1.998121894657378
         ],
         "z": [
          0.4348003825335668,
          0.9578538593418521
         ]
        },
        {
         "line": {
          "color": "#000000"
         },
         "mode": "lines",
         "type": "scatter3d",
         "x": [
          1.5725076388022146,
          0.886744366026372
         ],
         "y": [
          -1.529107044407732,
          -1.855286408037867
         ],
         "z": [
          0.4348003825335668,
          -0.21584218943172145
         ]
        },
        {
         "line": {
          "color": "#000000"
         },
         "mode": "lines",
         "type": "scatter3d",
         "x": [
          1.5725076388022146,
          2.006475063240778
         ],
         "y": [
          -1.529107044407732,
          -3.4189604902121884
         ],
         "z": [
          0.4348003825335668,
          0.9248271449733194
         ]
        },
        {
         "line": {
          "color": "#000000"
         },
         "mode": "lines",
         "type": "scatter3d",
         "x": [
          -0.30004146085954525,
          -0.3801884151231614
         ],
         "y": [
          -1.998121894657378,
          0
         ],
         "z": [
          0.9578538593418521,
          0.9249090598573131
         ]
        },
        {
         "line": {
          "color": "#000000"
         },
         "mode": "lines",
         "type": "scatter3d",
         "x": [
          0.07087496908921065,
          -0.951554430088314
         ],
         "y": [
          2.004978461093223,
          3.5278959303416646
         ],
         "z": [
          -0.01550923146567776,
          1.263302914846441
         ]
        },
        {
         "line": {
          "color": "#000000"
         },
         "mode": "lines",
         "type": "scatter3d",
         "x": [
          0.07087496908921065,
          0.8765567743570141
         ],
         "y": [
          2.004978461093223,
          3.9974108034472424
         ],
         "z": [
          -0.01550923146567776,
          0.601815796215923
         ]
        },
        {
         "line": {
          "color": "#000000"
         },
         "mode": "lines",
         "type": "scatter3d",
         "x": [
          0.07087496908921065,
          0.9183541467693976
         ],
         "y": [
          2.004978461093223,
          1.999720424894478
         ],
         "z": [
          -0.01550923146567776,
          0.5152933650368698
         ]
        },
        {
         "line": {
          "color": "#000000"
         },
         "mode": "lines",
         "type": "scatter3d",
         "x": [
          0.07087496908921065,
          1.599436234898481
         ],
         "y": [
          2.004978461093223,
          0.4763659088486494
         ],
         "z": [
          -0.01550923146567776,
          -0.5872120579305216
         ]
        },
        {
         "line": {
          "color": "#000000"
         },
         "mode": "lines",
         "type": "scatter3d",
         "x": [
          -0.951554430088314,
          0.8765567743570141
         ],
         "y": [
          3.5278959303416646,
          3.9974108034472424
         ],
         "z": [
          1.263302914846441,
          0.601815796215923
         ]
        },
        {
         "line": {
          "color": "#000000"
         },
         "mode": "lines",
         "type": "scatter3d",
         "x": [
          0.8765567743570141,
          0.9183541467693976
         ],
         "y": [
          3.9974108034472424,
          1.999720424894478
         ],
         "z": [
          0.601815796215923,
          0.5152933650368698
         ]
        },
        {
         "line": {
          "color": "#000000"
         },
         "mode": "lines",
         "type": "scatter3d",
         "x": [
          0.9183541467693976,
          1.599436234898481
         ],
         "y": [
          1.999720424894478,
          0.4763659088486494
         ],
         "z": [
          0.5152933650368698,
          -0.5872120579305216
         ]
        },
        {
         "line": {
          "color": "#000000"
         },
         "mode": "lines",
         "type": "scatter3d",
         "x": [
          1.599436234898481,
          0.886744366026372
         ],
         "y": [
          0.4763659088486494,
          -1.855286408037867
         ],
         "z": [
          -0.5872120579305216,
          -0.21584218943172145
         ]
        },
        {
         "line": {
          "color": "#000000"
         },
         "mode": "lines",
         "type": "scatter3d",
         "x": [
          1.599436234898481,
          1.8690034566105749
         ],
         "y": [
          0.4763659088486494,
          -1.6710538278828322
         ],
         "z": [
          -0.5872120579305216,
          -0.25084840850939116
         ]
        },
        {
         "line": {
          "color": "#000000"
         },
         "mode": "lines",
         "type": "scatter3d",
         "x": [
          0.886744366026372,
          1.8690034566105749
         ],
         "y": [
          -1.855286408037867,
          -1.6710538278828322
         ],
         "z": [
          -0.21584218943172145,
          -0.25084840850939116
         ]
        },
        {
         "line": {
          "color": "#000000"
         },
         "mode": "lines",
         "type": "scatter3d",
         "x": [
          0.886744366026372,
          2.1774387724177124
         ],
         "y": [
          -1.855286408037867,
          -3.4706278117077045
         ],
         "z": [
          -0.21584218943172145,
          -1.0671823675626881
         ]
        },
        {
         "line": {
          "color": "#000000"
         },
         "mode": "lines",
         "type": "scatter3d",
         "x": [
          0.886744366026372,
          2.006475063240778
         ],
         "y": [
          -1.855286408037867,
          -3.4189604902121884
         ],
         "z": [
          -0.21584218943172145,
          0.9248271449733194
         ]
        },
        {
         "line": {
          "color": "#000000"
         },
         "mode": "lines",
         "type": "scatter3d",
         "x": [
          1.8690034566105749,
          2.1774387724177124
         ],
         "y": [
          -1.6710538278828322,
          -3.4706278117077045
         ],
         "z": [
          -0.25084840850939116,
          -1.0671823675626881
         ]
        },
        {
         "line": {
          "color": "#000000"
         },
         "mode": "lines",
         "type": "scatter3d",
         "x": [
          2.1774387724177124,
          2.006475063240778
         ],
         "y": [
          -3.4706278117077045,
          -3.4189604902121884
         ],
         "z": [
          -1.0671823675626881,
          0.9248271449733194
         ]
        }
       ],
       "frames": [],
       "layout": {
        "height": 400,
        "margin": {
         "b": 50,
         "l": 50,
         "r": 50,
         "t": 60
        },
        "scene": {
         "aspectmode": "data",
         "autosize": true,
         "camera": {
          "eye": {
           "x": 1.8,
           "y": 1,
           "z": 1.8
          }
         },
         "xaxis": {
          "showaxeslabels": false,
          "showbackground": false,
          "showticklabels": false,
          "title": {
           "text": ""
          }
         },
         "yaxis": {
          "showaxeslabels": false,
          "showbackground": false,
          "showticklabels": false,
          "title": {
           "text": ""
          }
         },
         "zaxis": {
          "showaxeslabels": false,
          "showbackground": false,
          "showticklabels": false,
          "title": {
           "text": ""
          }
         }
        },
        "showlegend": false,
        "template": {
         "data": {
          "bar": [
           {
            "error_x": {
             "color": "#2a3f5f"
            },
            "error_y": {
             "color": "#2a3f5f"
            },
            "marker": {
             "line": {
              "color": "#E5ECF6",
              "width": 0.5
             }
            },
            "type": "bar"
           }
          ],
          "barpolar": [
           {
            "marker": {
             "line": {
              "color": "#E5ECF6",
              "width": 0.5
             }
            },
            "type": "barpolar"
           }
          ],
          "carpet": [
           {
            "aaxis": {
             "endlinecolor": "#2a3f5f",
             "gridcolor": "white",
             "linecolor": "white",
             "minorgridcolor": "white",
             "startlinecolor": "#2a3f5f"
            },
            "baxis": {
             "endlinecolor": "#2a3f5f",
             "gridcolor": "white",
             "linecolor": "white",
             "minorgridcolor": "white",
             "startlinecolor": "#2a3f5f"
            },
            "type": "carpet"
           }
          ],
          "choropleth": [
           {
            "colorbar": {
             "outlinewidth": 0,
             "ticks": ""
            },
            "type": "choropleth"
           }
          ],
          "contour": [
           {
            "colorbar": {
             "outlinewidth": 0,
             "ticks": ""
            },
            "colorscale": [
             [
              0,
              "#0d0887"
             ],
             [
              0.1111111111111111,
              "#46039f"
             ],
             [
              0.2222222222222222,
              "#7201a8"
             ],
             [
              0.3333333333333333,
              "#9c179e"
             ],
             [
              0.4444444444444444,
              "#bd3786"
             ],
             [
              0.5555555555555556,
              "#d8576b"
             ],
             [
              0.6666666666666666,
              "#ed7953"
             ],
             [
              0.7777777777777778,
              "#fb9f3a"
             ],
             [
              0.8888888888888888,
              "#fdca26"
             ],
             [
              1,
              "#f0f921"
             ]
            ],
            "type": "contour"
           }
          ],
          "contourcarpet": [
           {
            "colorbar": {
             "outlinewidth": 0,
             "ticks": ""
            },
            "type": "contourcarpet"
           }
          ],
          "heatmap": [
           {
            "colorbar": {
             "outlinewidth": 0,
             "ticks": ""
            },
            "colorscale": [
             [
              0,
              "#0d0887"
             ],
             [
              0.1111111111111111,
              "#46039f"
             ],
             [
              0.2222222222222222,
              "#7201a8"
             ],
             [
              0.3333333333333333,
              "#9c179e"
             ],
             [
              0.4444444444444444,
              "#bd3786"
             ],
             [
              0.5555555555555556,
              "#d8576b"
             ],
             [
              0.6666666666666666,
              "#ed7953"
             ],
             [
              0.7777777777777778,
              "#fb9f3a"
             ],
             [
              0.8888888888888888,
              "#fdca26"
             ],
             [
              1,
              "#f0f921"
             ]
            ],
            "type": "heatmap"
           }
          ],
          "heatmapgl": [
           {
            "colorbar": {
             "outlinewidth": 0,
             "ticks": ""
            },
            "colorscale": [
             [
              0,
              "#0d0887"
             ],
             [
              0.1111111111111111,
              "#46039f"
             ],
             [
              0.2222222222222222,
              "#7201a8"
             ],
             [
              0.3333333333333333,
              "#9c179e"
             ],
             [
              0.4444444444444444,
              "#bd3786"
             ],
             [
              0.5555555555555556,
              "#d8576b"
             ],
             [
              0.6666666666666666,
              "#ed7953"
             ],
             [
              0.7777777777777778,
              "#fb9f3a"
             ],
             [
              0.8888888888888888,
              "#fdca26"
             ],
             [
              1,
              "#f0f921"
             ]
            ],
            "type": "heatmapgl"
           }
          ],
          "histogram": [
           {
            "marker": {
             "colorbar": {
              "outlinewidth": 0,
              "ticks": ""
             }
            },
            "type": "histogram"
           }
          ],
          "histogram2d": [
           {
            "colorbar": {
             "outlinewidth": 0,
             "ticks": ""
            },
            "colorscale": [
             [
              0,
              "#0d0887"
             ],
             [
              0.1111111111111111,
              "#46039f"
             ],
             [
              0.2222222222222222,
              "#7201a8"
             ],
             [
              0.3333333333333333,
              "#9c179e"
             ],
             [
              0.4444444444444444,
              "#bd3786"
             ],
             [
              0.5555555555555556,
              "#d8576b"
             ],
             [
              0.6666666666666666,
              "#ed7953"
             ],
             [
              0.7777777777777778,
              "#fb9f3a"
             ],
             [
              0.8888888888888888,
              "#fdca26"
             ],
             [
              1,
              "#f0f921"
             ]
            ],
            "type": "histogram2d"
           }
          ],
          "histogram2dcontour": [
           {
            "colorbar": {
             "outlinewidth": 0,
             "ticks": ""
            },
            "colorscale": [
             [
              0,
              "#0d0887"
             ],
             [
              0.1111111111111111,
              "#46039f"
             ],
             [
              0.2222222222222222,
              "#7201a8"
             ],
             [
              0.3333333333333333,
              "#9c179e"
             ],
             [
              0.4444444444444444,
              "#bd3786"
             ],
             [
              0.5555555555555556,
              "#d8576b"
             ],
             [
              0.6666666666666666,
              "#ed7953"
             ],
             [
              0.7777777777777778,
              "#fb9f3a"
             ],
             [
              0.8888888888888888,
              "#fdca26"
             ],
             [
              1,
              "#f0f921"
             ]
            ],
            "type": "histogram2dcontour"
           }
          ],
          "mesh3d": [
           {
            "colorbar": {
             "outlinewidth": 0,
             "ticks": ""
            },
            "type": "mesh3d"
           }
          ],
          "parcoords": [
           {
            "line": {
             "colorbar": {
              "outlinewidth": 0,
              "ticks": ""
             }
            },
            "type": "parcoords"
           }
          ],
          "pie": [
           {
            "automargin": true,
            "type": "pie"
           }
          ],
          "scatter": [
           {
            "marker": {
             "colorbar": {
              "outlinewidth": 0,
              "ticks": ""
             }
            },
            "type": "scatter"
           }
          ],
          "scatter3d": [
           {
            "line": {
             "colorbar": {
              "outlinewidth": 0,
              "ticks": ""
             }
            },
            "marker": {
             "colorbar": {
              "outlinewidth": 0,
              "ticks": ""
             }
            },
            "type": "scatter3d"
           }
          ],
          "scattercarpet": [
           {
            "marker": {
             "colorbar": {
              "outlinewidth": 0,
              "ticks": ""
             }
            },
            "type": "scattercarpet"
           }
          ],
          "scattergeo": [
           {
            "marker": {
             "colorbar": {
              "outlinewidth": 0,
              "ticks": ""
             }
            },
            "type": "scattergeo"
           }
          ],
          "scattergl": [
           {
            "marker": {
             "colorbar": {
              "outlinewidth": 0,
              "ticks": ""
             }
            },
            "type": "scattergl"
           }
          ],
          "scattermapbox": [
           {
            "marker": {
             "colorbar": {
              "outlinewidth": 0,
              "ticks": ""
             }
            },
            "type": "scattermapbox"
           }
          ],
          "scatterpolar": [
           {
            "marker": {
             "colorbar": {
              "outlinewidth": 0,
              "ticks": ""
             }
            },
            "type": "scatterpolar"
           }
          ],
          "scatterpolargl": [
           {
            "marker": {
             "colorbar": {
              "outlinewidth": 0,
              "ticks": ""
             }
            },
            "type": "scatterpolargl"
           }
          ],
          "scatterternary": [
           {
            "marker": {
             "colorbar": {
              "outlinewidth": 0,
              "ticks": ""
             }
            },
            "type": "scatterternary"
           }
          ],
          "surface": [
           {
            "colorbar": {
             "outlinewidth": 0,
             "ticks": ""
            },
            "colorscale": [
             [
              0,
              "#0d0887"
             ],
             [
              0.1111111111111111,
              "#46039f"
             ],
             [
              0.2222222222222222,
              "#7201a8"
             ],
             [
              0.3333333333333333,
              "#9c179e"
             ],
             [
              0.4444444444444444,
              "#bd3786"
             ],
             [
              0.5555555555555556,
              "#d8576b"
             ],
             [
              0.6666666666666666,
              "#ed7953"
             ],
             [
              0.7777777777777778,
              "#fb9f3a"
             ],
             [
              0.8888888888888888,
              "#fdca26"
             ],
             [
              1,
              "#f0f921"
             ]
            ],
            "type": "surface"
           }
          ],
          "table": [
           {
            "cells": {
             "fill": {
              "color": "#EBF0F8"
             },
             "line": {
              "color": "white"
             }
            },
            "header": {
             "fill": {
              "color": "#C8D4E3"
             },
             "line": {
              "color": "white"
             }
            },
            "type": "table"
           }
          ]
         },
         "layout": {
          "annotationdefaults": {
           "arrowcolor": "#2a3f5f",
           "arrowhead": 0,
           "arrowwidth": 1
          },
          "autotypenumbers": "strict",
          "coloraxis": {
           "colorbar": {
            "outlinewidth": 0,
            "ticks": ""
           }
          },
          "colorscale": {
           "diverging": [
            [
             0,
             "#8e0152"
            ],
            [
             0.1,
             "#c51b7d"
            ],
            [
             0.2,
             "#de77ae"
            ],
            [
             0.3,
             "#f1b6da"
            ],
            [
             0.4,
             "#fde0ef"
            ],
            [
             0.5,
             "#f7f7f7"
            ],
            [
             0.6,
             "#e6f5d0"
            ],
            [
             0.7,
             "#b8e186"
            ],
            [
             0.8,
             "#7fbc41"
            ],
            [
             0.9,
             "#4d9221"
            ],
            [
             1,
             "#276419"
            ]
           ],
           "sequential": [
            [
             0,
             "#0d0887"
            ],
            [
             0.1111111111111111,
             "#46039f"
            ],
            [
             0.2222222222222222,
             "#7201a8"
            ],
            [
             0.3333333333333333,
             "#9c179e"
            ],
            [
             0.4444444444444444,
             "#bd3786"
            ],
            [
             0.5555555555555556,
             "#d8576b"
            ],
            [
             0.6666666666666666,
             "#ed7953"
            ],
            [
             0.7777777777777778,
             "#fb9f3a"
            ],
            [
             0.8888888888888888,
             "#fdca26"
            ],
            [
             1,
             "#f0f921"
            ]
           ],
           "sequentialminus": [
            [
             0,
             "#0d0887"
            ],
            [
             0.1111111111111111,
             "#46039f"
            ],
            [
             0.2222222222222222,
             "#7201a8"
            ],
            [
             0.3333333333333333,
             "#9c179e"
            ],
            [
             0.4444444444444444,
             "#bd3786"
            ],
            [
             0.5555555555555556,
             "#d8576b"
            ],
            [
             0.6666666666666666,
             "#ed7953"
            ],
            [
             0.7777777777777778,
             "#fb9f3a"
            ],
            [
             0.8888888888888888,
             "#fdca26"
            ],
            [
             1,
             "#f0f921"
            ]
           ]
          },
          "colorway": [
           "#636efa",
           "#EF553B",
           "#00cc96",
           "#ab63fa",
           "#FFA15A",
           "#19d3f3",
           "#FF6692",
           "#B6E880",
           "#FF97FF",
           "#FECB52"
          ],
          "font": {
           "color": "#2a3f5f"
          },
          "geo": {
           "bgcolor": "white",
           "lakecolor": "white",
           "landcolor": "#E5ECF6",
           "showlakes": true,
           "showland": true,
           "subunitcolor": "white"
          },
          "hoverlabel": {
           "align": "left"
          },
          "hovermode": "closest",
          "mapbox": {
           "style": "light"
          },
          "paper_bgcolor": "white",
          "plot_bgcolor": "#E5ECF6",
          "polar": {
           "angularaxis": {
            "gridcolor": "white",
            "linecolor": "white",
            "ticks": ""
           },
           "bgcolor": "#E5ECF6",
           "radialaxis": {
            "gridcolor": "white",
            "linecolor": "white",
            "ticks": ""
           }
          },
          "scene": {
           "xaxis": {
            "backgroundcolor": "#E5ECF6",
            "gridcolor": "white",
            "gridwidth": 2,
            "linecolor": "white",
            "showbackground": true,
            "ticks": "",
            "zerolinecolor": "white"
           },
           "yaxis": {
            "backgroundcolor": "#E5ECF6",
            "gridcolor": "white",
            "gridwidth": 2,
            "linecolor": "white",
            "showbackground": true,
            "ticks": "",
            "zerolinecolor": "white"
           },
           "zaxis": {
            "backgroundcolor": "#E5ECF6",
            "gridcolor": "white",
            "gridwidth": 2,
            "linecolor": "white",
            "showbackground": true,
            "ticks": "",
            "zerolinecolor": "white"
           }
          },
          "shapedefaults": {
           "line": {
            "color": "#2a3f5f"
           }
          },
          "ternary": {
           "aaxis": {
            "gridcolor": "white",
            "linecolor": "white",
            "ticks": ""
           },
           "baxis": {
            "gridcolor": "white",
            "linecolor": "white",
            "ticks": ""
           },
           "bgcolor": "#E5ECF6",
           "caxis": {
            "gridcolor": "white",
            "linecolor": "white",
            "ticks": ""
           }
          },
          "title": {
           "x": 0.05
          },
          "xaxis": {
           "automargin": true,
           "gridcolor": "white",
           "linecolor": "white",
           "ticks": "",
           "title": {
            "standoff": 15
           },
           "zerolinecolor": "white",
           "zerolinewidth": 2
          },
          "yaxis": {
           "automargin": true,
           "gridcolor": "white",
           "linecolor": "white",
           "ticks": "",
           "title": {
            "standoff": 15
           },
           "zerolinecolor": "white",
           "zerolinewidth": 2
          }
         }
        },
        "width": 400
       }
      },
      "text/html": [
       "<html>\n",
       "<head><meta charset=\"utf-8\" /></head>\n",
       "<body>\n",
       "<div>\n",
       "    <script src=\"https://cdnjs.cloudflare.com/ajax/libs/mathjax/2.7.5/MathJax.js?config=TeX-AMS-MML_SVG\"></script>\n",
       "    <script type=\"text/javascript\">\n",
       "window.PlotlyConfig = {MathJaxConfig: 'local'};\n",
       "</script>\n",
       "<script src=\"https://cdn.plot.ly/plotly-2.3.0.min.js\"></script>\n",
       "\n",
       "    <div\n",
       "        id=80523a13-215c-4a72-9f63-33a26135be48\n",
       "        class=\"plotly-graph-div\"\n",
       "        style=\"height:400; width:400;\">\n",
       "    </div>\n",
       "    <script type=\"text/javascript\">\n",
       "        \n",
       "        window.PLOTLYENV = window.PLOTLYENV || {}\n",
       "        \n",
       "        if (document.getElementById('80523a13-215c-4a72-9f63-33a26135be48')) {\n",
       "    Plotly.newPlot(\n",
       "        '80523a13-215c-4a72-9f63-33a26135be48',\n",
       "        [{\"y\":[0.0,1.529107044407732,1.998121894657378,0.0,-1.529107044407732,-1.998121894657378,0.0,2.004978461093223,3.5278959303416646,3.9974108034472424,1.999720424894478,0.4763659088486494,-1.855286408037867,-1.6710538278828322,-3.4706278117077045,-3.4189604902121884],\"type\":\"mesh3d\",\"j\":[1,2,6,3,3,5,4,4,2,11,3,15,10,8,11,14,9,13],\"k\":[2,3,1,4,2,6,5,3,8,3,11,4,11,9,13,15,10,14],\"opacity\":0.9,\"z\":[0.0,0.4348003825335668,0.9578538593418521,0.9249090598573131,0.4348003825335668,0.9578538593418521,0.9249090598573131,-0.01550923146567776,1.263302914846441,0.601815796215923,0.5152933650368698,-0.5872120579305216,-0.21584218943172145,-0.25084840850939116,-1.0671823675626881,0.9248271449733194],\"i\":[0,0,0,0,7,0,0,12,7,7,12,12,7,7,12,12,7,12],\"facecolor\":[\"#407FB7\",\"#407FB7\",\"#407FB7\",\"#407FB7\",\"#407FB7\",\"#407FB7\",\"#407FB7\",\"#407FB7\",\"#407FB7\",\"#407FB7\",\"#407FB7\",\"#407FB7\",\"#407FB7\",\"#407FB7\",\"#407FB7\",\"#407FB7\",\"#407FB7\",\"#407FB7\"],\"x\":[0.0,-1.5725076388022146,0.30004146085954525,0.3801884151231614,1.5725076388022146,-0.30004146085954525,-0.3801884151231614,0.07087496908921065,-0.951554430088314,0.8765567743570141,0.9183541467693976,1.599436234898481,0.886744366026372,1.8690034566105749,2.1774387724177124,2.006475063240778]},{\"mode\":\"lines\",\"line\":{\"color\":\"#000000\"},\"y\":[0.0,1.529107044407732],\"type\":\"scatter3d\",\"z\":[0.0,0.4348003825335668],\"x\":[0.0,-1.5725076388022146]},{\"mode\":\"lines\",\"line\":{\"color\":\"#000000\"},\"y\":[0.0,1.998121894657378],\"type\":\"scatter3d\",\"z\":[0.0,0.9578538593418521],\"x\":[0.0,0.30004146085954525]},{\"mode\":\"lines\",\"line\":{\"color\":\"#000000\"},\"y\":[0.0,0.0],\"type\":\"scatter3d\",\"z\":[0.0,0.9249090598573131],\"x\":[0.0,0.3801884151231614]},{\"mode\":\"lines\",\"line\":{\"color\":\"#000000\"},\"y\":[0.0,-1.529107044407732],\"type\":\"scatter3d\",\"z\":[0.0,0.4348003825335668],\"x\":[0.0,1.5725076388022146]},{\"mode\":\"lines\",\"line\":{\"color\":\"#000000\"},\"y\":[0.0,-1.998121894657378],\"type\":\"scatter3d\",\"z\":[0.0,0.9578538593418521],\"x\":[0.0,-0.30004146085954525]},{\"mode\":\"lines\",\"line\":{\"color\":\"#000000\"},\"y\":[0.0,0.0],\"type\":\"scatter3d\",\"z\":[0.0,0.9249090598573131],\"x\":[0.0,-0.3801884151231614]},{\"mode\":\"lines\",\"line\":{\"color\":\"#000000\"},\"y\":[1.529107044407732,1.998121894657378],\"type\":\"scatter3d\",\"z\":[0.4348003825335668,0.9578538593418521],\"x\":[-1.5725076388022146,0.30004146085954525]},{\"mode\":\"lines\",\"line\":{\"color\":\"#000000\"},\"y\":[1.529107044407732,0.0],\"type\":\"scatter3d\",\"z\":[0.4348003825335668,0.9249090598573131],\"x\":[-1.5725076388022146,-0.3801884151231614]},{\"mode\":\"lines\",\"line\":{\"color\":\"#000000\"},\"y\":[1.998121894657378,0.0],\"type\":\"scatter3d\",\"z\":[0.9578538593418521,0.9249090598573131],\"x\":[0.30004146085954525,0.3801884151231614]},{\"mode\":\"lines\",\"line\":{\"color\":\"#000000\"},\"y\":[1.998121894657378,2.004978461093223],\"type\":\"scatter3d\",\"z\":[0.9578538593418521,-0.01550923146567776],\"x\":[0.30004146085954525,0.07087496908921065]},{\"mode\":\"lines\",\"line\":{\"color\":\"#000000\"},\"y\":[1.998121894657378,3.5278959303416646],\"type\":\"scatter3d\",\"z\":[0.9578538593418521,1.263302914846441],\"x\":[0.30004146085954525,-0.951554430088314]},{\"mode\":\"lines\",\"line\":{\"color\":\"#000000\"},\"y\":[0.0,-1.529107044407732],\"type\":\"scatter3d\",\"z\":[0.9249090598573131,0.4348003825335668],\"x\":[0.3801884151231614,1.5725076388022146]},{\"mode\":\"lines\",\"line\":{\"color\":\"#000000\"},\"y\":[0.0,2.004978461093223],\"type\":\"scatter3d\",\"z\":[0.9249090598573131,-0.01550923146567776],\"x\":[0.3801884151231614,0.07087496908921065]},{\"mode\":\"lines\",\"line\":{\"color\":\"#000000\"},\"y\":[0.0,0.4763659088486494],\"type\":\"scatter3d\",\"z\":[0.9249090598573131,-0.5872120579305216],\"x\":[0.3801884151231614,1.599436234898481]},{\"mode\":\"lines\",\"line\":{\"color\":\"#000000\"},\"y\":[0.0,-1.855286408037867],\"type\":\"scatter3d\",\"z\":[0.9249090598573131,-0.21584218943172145],\"x\":[0.3801884151231614,0.886744366026372]},{\"mode\":\"lines\",\"line\":{\"color\":\"#000000\"},\"y\":[-1.529107044407732,-1.998121894657378],\"type\":\"scatter3d\",\"z\":[0.4348003825335668,0.9578538593418521],\"x\":[1.5725076388022146,-0.30004146085954525]},{\"mode\":\"lines\",\"line\":{\"color\":\"#000000\"},\"y\":[-1.529107044407732,-1.855286408037867],\"type\":\"scatter3d\",\"z\":[0.4348003825335668,-0.21584218943172145],\"x\":[1.5725076388022146,0.886744366026372]},{\"mode\":\"lines\",\"line\":{\"color\":\"#000000\"},\"y\":[-1.529107044407732,-3.4189604902121884],\"type\":\"scatter3d\",\"z\":[0.4348003825335668,0.9248271449733194],\"x\":[1.5725076388022146,2.006475063240778]},{\"mode\":\"lines\",\"line\":{\"color\":\"#000000\"},\"y\":[-1.998121894657378,0.0],\"type\":\"scatter3d\",\"z\":[0.9578538593418521,0.9249090598573131],\"x\":[-0.30004146085954525,-0.3801884151231614]},{\"mode\":\"lines\",\"line\":{\"color\":\"#000000\"},\"y\":[2.004978461093223,3.5278959303416646],\"type\":\"scatter3d\",\"z\":[-0.01550923146567776,1.263302914846441],\"x\":[0.07087496908921065,-0.951554430088314]},{\"mode\":\"lines\",\"line\":{\"color\":\"#000000\"},\"y\":[2.004978461093223,3.9974108034472424],\"type\":\"scatter3d\",\"z\":[-0.01550923146567776,0.601815796215923],\"x\":[0.07087496908921065,0.8765567743570141]},{\"mode\":\"lines\",\"line\":{\"color\":\"#000000\"},\"y\":[2.004978461093223,1.999720424894478],\"type\":\"scatter3d\",\"z\":[-0.01550923146567776,0.5152933650368698],\"x\":[0.07087496908921065,0.9183541467693976]},{\"mode\":\"lines\",\"line\":{\"color\":\"#000000\"},\"y\":[2.004978461093223,0.4763659088486494],\"type\":\"scatter3d\",\"z\":[-0.01550923146567776,-0.5872120579305216],\"x\":[0.07087496908921065,1.599436234898481]},{\"mode\":\"lines\",\"line\":{\"color\":\"#000000\"},\"y\":[3.5278959303416646,3.9974108034472424],\"type\":\"scatter3d\",\"z\":[1.263302914846441,0.601815796215923],\"x\":[-0.951554430088314,0.8765567743570141]},{\"mode\":\"lines\",\"line\":{\"color\":\"#000000\"},\"y\":[3.9974108034472424,1.999720424894478],\"type\":\"scatter3d\",\"z\":[0.601815796215923,0.5152933650368698],\"x\":[0.8765567743570141,0.9183541467693976]},{\"mode\":\"lines\",\"line\":{\"color\":\"#000000\"},\"y\":[1.999720424894478,0.4763659088486494],\"type\":\"scatter3d\",\"z\":[0.5152933650368698,-0.5872120579305216],\"x\":[0.9183541467693976,1.599436234898481]},{\"mode\":\"lines\",\"line\":{\"color\":\"#000000\"},\"y\":[0.4763659088486494,-1.855286408037867],\"type\":\"scatter3d\",\"z\":[-0.5872120579305216,-0.21584218943172145],\"x\":[1.599436234898481,0.886744366026372]},{\"mode\":\"lines\",\"line\":{\"color\":\"#000000\"},\"y\":[0.4763659088486494,-1.6710538278828322],\"type\":\"scatter3d\",\"z\":[-0.5872120579305216,-0.25084840850939116],\"x\":[1.599436234898481,1.8690034566105749]},{\"mode\":\"lines\",\"line\":{\"color\":\"#000000\"},\"y\":[-1.855286408037867,-1.6710538278828322],\"type\":\"scatter3d\",\"z\":[-0.21584218943172145,-0.25084840850939116],\"x\":[0.886744366026372,1.8690034566105749]},{\"mode\":\"lines\",\"line\":{\"color\":\"#000000\"},\"y\":[-1.855286408037867,-3.4706278117077045],\"type\":\"scatter3d\",\"z\":[-0.21584218943172145,-1.0671823675626881],\"x\":[0.886744366026372,2.1774387724177124]},{\"mode\":\"lines\",\"line\":{\"color\":\"#000000\"},\"y\":[-1.855286408037867,-3.4189604902121884],\"type\":\"scatter3d\",\"z\":[-0.21584218943172145,0.9248271449733194],\"x\":[0.886744366026372,2.006475063240778]},{\"mode\":\"lines\",\"line\":{\"color\":\"#000000\"},\"y\":[-1.6710538278828322,-3.4706278117077045],\"type\":\"scatter3d\",\"z\":[-0.25084840850939116,-1.0671823675626881],\"x\":[1.8690034566105749,2.1774387724177124]},{\"mode\":\"lines\",\"line\":{\"color\":\"#000000\"},\"y\":[-3.4706278117077045,-3.4189604902121884],\"type\":\"scatter3d\",\"z\":[-1.0671823675626881,0.9248271449733194],\"x\":[2.1774387724177124,2.006475063240778]}],\n",
       "        {\"showlegend\":false,\"template\":{\"layout\":{\"coloraxis\":{\"colorbar\":{\"ticks\":\"\",\"outlinewidth\":0}},\"xaxis\":{\"gridcolor\":\"white\",\"zerolinewidth\":2,\"title\":{\"standoff\":15},\"ticks\":\"\",\"zerolinecolor\":\"white\",\"automargin\":true,\"linecolor\":\"white\"},\"hovermode\":\"closest\",\"paper_bgcolor\":\"white\",\"geo\":{\"showlakes\":true,\"showland\":true,\"landcolor\":\"#E5ECF6\",\"bgcolor\":\"white\",\"subunitcolor\":\"white\",\"lakecolor\":\"white\"},\"colorscale\":{\"sequential\":[[0.0,\"#0d0887\"],[0.1111111111111111,\"#46039f\"],[0.2222222222222222,\"#7201a8\"],[0.3333333333333333,\"#9c179e\"],[0.4444444444444444,\"#bd3786\"],[0.5555555555555556,\"#d8576b\"],[0.6666666666666666,\"#ed7953\"],[0.7777777777777778,\"#fb9f3a\"],[0.8888888888888888,\"#fdca26\"],[1.0,\"#f0f921\"]],\"diverging\":[[0,\"#8e0152\"],[0.1,\"#c51b7d\"],[0.2,\"#de77ae\"],[0.3,\"#f1b6da\"],[0.4,\"#fde0ef\"],[0.5,\"#f7f7f7\"],[0.6,\"#e6f5d0\"],[0.7,\"#b8e186\"],[0.8,\"#7fbc41\"],[0.9,\"#4d9221\"],[1,\"#276419\"]],\"sequentialminus\":[[0.0,\"#0d0887\"],[0.1111111111111111,\"#46039f\"],[0.2222222222222222,\"#7201a8\"],[0.3333333333333333,\"#9c179e\"],[0.4444444444444444,\"#bd3786\"],[0.5555555555555556,\"#d8576b\"],[0.6666666666666666,\"#ed7953\"],[0.7777777777777778,\"#fb9f3a\"],[0.8888888888888888,\"#fdca26\"],[1.0,\"#f0f921\"]]},\"yaxis\":{\"gridcolor\":\"white\",\"zerolinewidth\":2,\"title\":{\"standoff\":15},\"ticks\":\"\",\"zerolinecolor\":\"white\",\"automargin\":true,\"linecolor\":\"white\"},\"shapedefaults\":{\"line\":{\"color\":\"#2a3f5f\"}},\"hoverlabel\":{\"align\":\"left\"},\"mapbox\":{\"style\":\"light\"},\"polar\":{\"angularaxis\":{\"gridcolor\":\"white\",\"ticks\":\"\",\"linecolor\":\"white\"},\"bgcolor\":\"#E5ECF6\",\"radialaxis\":{\"gridcolor\":\"white\",\"ticks\":\"\",\"linecolor\":\"white\"}},\"autotypenumbers\":\"strict\",\"font\":{\"color\":\"#2a3f5f\"},\"ternary\":{\"baxis\":{\"gridcolor\":\"white\",\"ticks\":\"\",\"linecolor\":\"white\"},\"bgcolor\":\"#E5ECF6\",\"caxis\":{\"gridcolor\":\"white\",\"ticks\":\"\",\"linecolor\":\"white\"},\"aaxis\":{\"gridcolor\":\"white\",\"ticks\":\"\",\"linecolor\":\"white\"}},\"annotationdefaults\":{\"arrowhead\":0,\"arrowwidth\":1,\"arrowcolor\":\"#2a3f5f\"},\"plot_bgcolor\":\"#E5ECF6\",\"title\":{\"x\":0.05},\"scene\":{\"xaxis\":{\"gridcolor\":\"white\",\"gridwidth\":2,\"backgroundcolor\":\"#E5ECF6\",\"ticks\":\"\",\"showbackground\":true,\"zerolinecolor\":\"white\",\"linecolor\":\"white\"},\"zaxis\":{\"gridcolor\":\"white\",\"gridwidth\":2,\"backgroundcolor\":\"#E5ECF6\",\"ticks\":\"\",\"showbackground\":true,\"zerolinecolor\":\"white\",\"linecolor\":\"white\"},\"yaxis\":{\"gridcolor\":\"white\",\"gridwidth\":2,\"backgroundcolor\":\"#E5ECF6\",\"ticks\":\"\",\"showbackground\":true,\"zerolinecolor\":\"white\",\"linecolor\":\"white\"}},\"colorway\":[\"#636efa\",\"#EF553B\",\"#00cc96\",\"#ab63fa\",\"#FFA15A\",\"#19d3f3\",\"#FF6692\",\"#B6E880\",\"#FF97FF\",\"#FECB52\"]},\"data\":{\"barpolar\":[{\"type\":\"barpolar\",\"marker\":{\"line\":{\"color\":\"#E5ECF6\",\"width\":0.5}}}],\"carpet\":[{\"aaxis\":{\"gridcolor\":\"white\",\"endlinecolor\":\"#2a3f5f\",\"minorgridcolor\":\"white\",\"startlinecolor\":\"#2a3f5f\",\"linecolor\":\"white\"},\"type\":\"carpet\",\"baxis\":{\"gridcolor\":\"white\",\"endlinecolor\":\"#2a3f5f\",\"minorgridcolor\":\"white\",\"startlinecolor\":\"#2a3f5f\",\"linecolor\":\"white\"}}],\"scatterpolar\":[{\"type\":\"scatterpolar\",\"marker\":{\"colorbar\":{\"ticks\":\"\",\"outlinewidth\":0}}}],\"parcoords\":[{\"line\":{\"colorbar\":{\"ticks\":\"\",\"outlinewidth\":0}},\"type\":\"parcoords\"}],\"scatter\":[{\"type\":\"scatter\",\"marker\":{\"colorbar\":{\"ticks\":\"\",\"outlinewidth\":0}}}],\"histogram2dcontour\":[{\"colorbar\":{\"ticks\":\"\",\"outlinewidth\":0},\"type\":\"histogram2dcontour\",\"colorscale\":[[0.0,\"#0d0887\"],[0.1111111111111111,\"#46039f\"],[0.2222222222222222,\"#7201a8\"],[0.3333333333333333,\"#9c179e\"],[0.4444444444444444,\"#bd3786\"],[0.5555555555555556,\"#d8576b\"],[0.6666666666666666,\"#ed7953\"],[0.7777777777777778,\"#fb9f3a\"],[0.8888888888888888,\"#fdca26\"],[1.0,\"#f0f921\"]]}],\"contour\":[{\"colorbar\":{\"ticks\":\"\",\"outlinewidth\":0},\"type\":\"contour\",\"colorscale\":[[0.0,\"#0d0887\"],[0.1111111111111111,\"#46039f\"],[0.2222222222222222,\"#7201a8\"],[0.3333333333333333,\"#9c179e\"],[0.4444444444444444,\"#bd3786\"],[0.5555555555555556,\"#d8576b\"],[0.6666666666666666,\"#ed7953\"],[0.7777777777777778,\"#fb9f3a\"],[0.8888888888888888,\"#fdca26\"],[1.0,\"#f0f921\"]]}],\"scattercarpet\":[{\"type\":\"scattercarpet\",\"marker\":{\"colorbar\":{\"ticks\":\"\",\"outlinewidth\":0}}}],\"mesh3d\":[{\"colorbar\":{\"ticks\":\"\",\"outlinewidth\":0},\"type\":\"mesh3d\"}],\"surface\":[{\"colorbar\":{\"ticks\":\"\",\"outlinewidth\":0},\"type\":\"surface\",\"colorscale\":[[0.0,\"#0d0887\"],[0.1111111111111111,\"#46039f\"],[0.2222222222222222,\"#7201a8\"],[0.3333333333333333,\"#9c179e\"],[0.4444444444444444,\"#bd3786\"],[0.5555555555555556,\"#d8576b\"],[0.6666666666666666,\"#ed7953\"],[0.7777777777777778,\"#fb9f3a\"],[0.8888888888888888,\"#fdca26\"],[1.0,\"#f0f921\"]]}],\"scattermapbox\":[{\"type\":\"scattermapbox\",\"marker\":{\"colorbar\":{\"ticks\":\"\",\"outlinewidth\":0}}}],\"scattergeo\":[{\"type\":\"scattergeo\",\"marker\":{\"colorbar\":{\"ticks\":\"\",\"outlinewidth\":0}}}],\"histogram\":[{\"type\":\"histogram\",\"marker\":{\"colorbar\":{\"ticks\":\"\",\"outlinewidth\":0}}}],\"pie\":[{\"type\":\"pie\",\"automargin\":true}],\"choropleth\":[{\"colorbar\":{\"ticks\":\"\",\"outlinewidth\":0},\"type\":\"choropleth\"}],\"heatmapgl\":[{\"colorbar\":{\"ticks\":\"\",\"outlinewidth\":0},\"type\":\"heatmapgl\",\"colorscale\":[[0.0,\"#0d0887\"],[0.1111111111111111,\"#46039f\"],[0.2222222222222222,\"#7201a8\"],[0.3333333333333333,\"#9c179e\"],[0.4444444444444444,\"#bd3786\"],[0.5555555555555556,\"#d8576b\"],[0.6666666666666666,\"#ed7953\"],[0.7777777777777778,\"#fb9f3a\"],[0.8888888888888888,\"#fdca26\"],[1.0,\"#f0f921\"]]}],\"bar\":[{\"type\":\"bar\",\"error_y\":{\"color\":\"#2a3f5f\"},\"error_x\":{\"color\":\"#2a3f5f\"},\"marker\":{\"line\":{\"color\":\"#E5ECF6\",\"width\":0.5}}}],\"heatmap\":[{\"colorbar\":{\"ticks\":\"\",\"outlinewidth\":0},\"type\":\"heatmap\",\"colorscale\":[[0.0,\"#0d0887\"],[0.1111111111111111,\"#46039f\"],[0.2222222222222222,\"#7201a8\"],[0.3333333333333333,\"#9c179e\"],[0.4444444444444444,\"#bd3786\"],[0.5555555555555556,\"#d8576b\"],[0.6666666666666666,\"#ed7953\"],[0.7777777777777778,\"#fb9f3a\"],[0.8888888888888888,\"#fdca26\"],[1.0,\"#f0f921\"]]}],\"contourcarpet\":[{\"colorbar\":{\"ticks\":\"\",\"outlinewidth\":0},\"type\":\"contourcarpet\"}],\"table\":[{\"type\":\"table\",\"header\":{\"line\":{\"color\":\"white\"},\"fill\":{\"color\":\"#C8D4E3\"}},\"cells\":{\"line\":{\"color\":\"white\"},\"fill\":{\"color\":\"#EBF0F8\"}}}],\"scatter3d\":[{\"line\":{\"colorbar\":{\"ticks\":\"\",\"outlinewidth\":0}},\"type\":\"scatter3d\",\"marker\":{\"colorbar\":{\"ticks\":\"\",\"outlinewidth\":0}}}],\"scattergl\":[{\"type\":\"scattergl\",\"marker\":{\"colorbar\":{\"ticks\":\"\",\"outlinewidth\":0}}}],\"histogram2d\":[{\"colorbar\":{\"ticks\":\"\",\"outlinewidth\":0},\"type\":\"histogram2d\",\"colorscale\":[[0.0,\"#0d0887\"],[0.1111111111111111,\"#46039f\"],[0.2222222222222222,\"#7201a8\"],[0.3333333333333333,\"#9c179e\"],[0.4444444444444444,\"#bd3786\"],[0.5555555555555556,\"#d8576b\"],[0.6666666666666666,\"#ed7953\"],[0.7777777777777778,\"#fb9f3a\"],[0.8888888888888888,\"#fdca26\"],[1.0,\"#f0f921\"]]}],\"scatterternary\":[{\"type\":\"scatterternary\",\"marker\":{\"colorbar\":{\"ticks\":\"\",\"outlinewidth\":0}}}],\"scatterpolargl\":[{\"type\":\"scatterpolargl\",\"marker\":{\"colorbar\":{\"ticks\":\"\",\"outlinewidth\":0}}}]}},\"scene\":{\"camera\":{\"eye\":{\"y\":1.0,\"z\":1.8,\"x\":1.8}},\"xaxis\":{\"showticklabels\":false,\"showaxeslabels\":false,\"title\":{\"text\":\"\"},\"showbackground\":false},\"yaxis\":{\"showticklabels\":false,\"showaxeslabels\":false,\"title\":{\"text\":\"\"},\"showbackground\":false},\"zaxis\":{\"showticklabels\":false,\"showaxeslabels\":false,\"title\":{\"text\":\"\"},\"showbackground\":false},\"aspectmode\":\"data\",\"autosize\":true},\"margin\":{\"l\":50,\"b\":50,\"r\":50,\"t\":60},\"height\":400,\"width\":400},\n",
       "        {\"editable\":false,\"responsive\":true,\"staticPlot\":false,\"scrollZoom\":true},\n",
       "    )\n",
       "}\n",
       "\n",
       "        \n",
       "    </script>\n",
       "</div>\n",
       "\n",
       "</body>\n",
       "</html>"
      ],
      "text/plain": [
       "data: [\n",
       "  \"mesh3d with fields facecolor, i, j, k, opacity, type, x, y, and z\",\n",
       "  \"scatter3d with fields line, mode, type, x, y, and z\",\n",
       "  \"scatter3d with fields line, mode, type, x, y, and z\",\n",
       "  \"scatter3d with fields line, mode, type, x, y, and z\",\n",
       "  \"scatter3d with fields line, mode, type, x, y, and z\",\n",
       "  \"scatter3d with fields line, mode, type, x, y, and z\",\n",
       "  \"scatter3d with fields line, mode, type, x, y, and z\",\n",
       "  \"scatter3d with fields line, mode, type, x, y, and z\",\n",
       "  \"scatter3d with fields line, mode, type, x, y, and z\",\n",
       "  \"scatter3d with fields line, mode, type, x, y, and z\",\n",
       "  \"scatter3d with fields line, mode, type, x, y, and z\",\n",
       "  \"scatter3d with fields line, mode, type, x, y, and z\",\n",
       "  \"scatter3d with fields line, mode, type, x, y, and z\",\n",
       "  \"scatter3d with fields line, mode, type, x, y, and z\",\n",
       "  \"scatter3d with fields line, mode, type, x, y, and z\",\n",
       "  \"scatter3d with fields line, mode, type, x, y, and z\",\n",
       "  \"scatter3d with fields line, mode, type, x, y, and z\",\n",
       "  \"scatter3d with fields line, mode, type, x, y, and z\",\n",
       "  \"scatter3d with fields line, mode, type, x, y, and z\",\n",
       "  \"scatter3d with fields line, mode, type, x, y, and z\",\n",
       "  \"scatter3d with fields line, mode, type, x, y, and z\",\n",
       "  \"scatter3d with fields line, mode, type, x, y, and z\",\n",
       "  \"scatter3d with fields line, mode, type, x, y, and z\",\n",
       "  \"scatter3d with fields line, mode, type, x, y, and z\",\n",
       "  \"scatter3d with fields line, mode, type, x, y, and z\",\n",
       "  \"scatter3d with fields line, mode, type, x, y, and z\",\n",
       "  \"scatter3d with fields line, mode, type, x, y, and z\",\n",
       "  \"scatter3d with fields line, mode, type, x, y, and z\",\n",
       "  \"scatter3d with fields line, mode, type, x, y, and z\",\n",
       "  \"scatter3d with fields line, mode, type, x, y, and z\",\n",
       "  \"scatter3d with fields line, mode, type, x, y, and z\",\n",
       "  \"scatter3d with fields line, mode, type, x, y, and z\",\n",
       "  \"scatter3d with fields line, mode, type, x, y, and z\",\n",
       "  \"scatter3d with fields line, mode, type, x, y, and z\"\n",
       "]\n",
       "\n",
       "layout: \"layout with fields height, margin, scene, showlegend, template, and width\"\n",
       "\n"
      ]
     },
     "metadata": {},
     "output_type": "display_data"
    },
    {
     "name": "stderr",
     "output_type": "stream",
     "text": [
      "┌ Warning: Kaleido is not available on this system. Julia will be unable to save images of any plots.\n",
      "└ @ PlotlyJS C:\\Users\\sasch\\.julia\\packages\\PlotlyJS\\d9sRW\\src\\kaleido.jl:65\n",
      "┌ Warning: ErrorException(\"Could not start Kaleido process\")\n",
      "└ @ PlotlyJS C:\\Users\\sasch\\.julia\\packages\\PlotlyJS\\d9sRW\\src\\kaleido.jl:66\n",
      "┌ Warning: Kaleido is not available on this system. Julia will be unable to save images of any plots.\n",
      "└ @ PlotlyJS C:\\Users\\sasch\\.julia\\packages\\PlotlyJS\\d9sRW\\src\\kaleido.jl:65\n",
      "┌ Warning: ErrorException(\"Could not start Kaleido process\")\n",
      "└ @ PlotlyJS C:\\Users\\sasch\\.julia\\packages\\PlotlyJS\\d9sRW\\src\\kaleido.jl:66\n",
      "┌ Warning: Kaleido is not available on this system. Julia will be unable to save images of any plots.\n",
      "└ @ PlotlyJS C:\\Users\\sasch\\.julia\\packages\\PlotlyJS\\d9sRW\\src\\kaleido.jl:65\n",
      "┌ Warning: ErrorException(\"Could not start Kaleido process\")\n",
      "└ @ PlotlyJS C:\\Users\\sasch\\.julia\\packages\\PlotlyJS\\d9sRW\\src\\kaleido.jl:66\n",
      "┌ Warning: Kaleido is not available on this system. Julia will be unable to save images of any plots.\n",
      "└ @ PlotlyJS C:\\Users\\sasch\\.julia\\packages\\PlotlyJS\\d9sRW\\src\\kaleido.jl:65\n",
      "┌ Warning: ErrorException(\"Could not start Kaleido process\")\n",
      "└ @ PlotlyJS C:\\Users\\sasch\\.julia\\packages\\PlotlyJS\\d9sRW\\src\\kaleido.jl:66\n"
     ]
    }
   ],
   "source": [
    "for i in ran\n",
    "    display(plot(waterbomb_cells(eta, zeta,gamma*i,del_beta*i, base_length), opacity = 0.9, width = 400, height = 400, viewpoints = [[1.8,1,1.8]]))\n",
    "end"
   ]
  },
  {
   "cell_type": "code",
   "execution_count": 4,
   "metadata": {},
   "outputs": [
    {
     "name": "stderr",
     "output_type": "stream",
     "text": [
      "┌ Warning: Kaleido is not available on this system. Julia will be unable to save images of any plots.\n",
      "└ @ PlotlyJS C:\\Users\\sasch\\.julia\\packages\\PlotlyJS\\d9sRW\\src\\kaleido.jl:65\n",
      "┌ Warning: ErrorException(\"Could not start Kaleido process\")\n",
      "└ @ PlotlyJS C:\\Users\\sasch\\.julia\\packages\\PlotlyJS\\d9sRW\\src\\kaleido.jl:66\n"
     ]
    },
    {
     "ename": "Base.IOError",
     "evalue": "IOError: write: broken pipe (EPIPE)",
     "output_type": "error",
     "traceback": [
      "IOError: write: broken pipe (EPIPE)\n",
      "\n",
      "Stacktrace:\n",
      "  [1] uv_write(s::Base.PipeEndpoint, p::Ptr{UInt8}, n::UInt64)\n",
      "    @ Base .\\stream.jl:1066\n",
      "  [2] unsafe_write(s::Base.PipeEndpoint, p::Ptr{UInt8}, n::UInt64)\n",
      "    @ Base .\\stream.jl:1120\n",
      "  [3] unsafe_write\n",
      "    @ .\\io.jl:431 [inlined]\n",
      "  [4] write\n",
      "    @ .\\strings\\io.jl:248 [inlined]\n",
      "  [5] write\n",
      "    @ .\\strings\\basic.jl:793 [inlined]\n",
      "  [6] savefig(p::Plot{Vector{GenericTrace{Dict{Symbol, Any}}}, Layout{Dict{Symbol, Any}}, Vector{PlotlyFrame}}; width::Nothing, height::Nothing, scale::Nothing, format::String)\n",
      "    @ PlotlyJS C:\\Users\\sasch\\.julia\\packages\\PlotlyJS\\d9sRW\\src\\kaleido.jl:98\n",
      "  [7] savefig(p::PlotlyJS.SyncPlot; kwargs::@Kwargs{width::Nothing, height::Nothing, scale::Nothing, format::String})\n",
      "    @ PlotlyJS C:\\Users\\sasch\\.julia\\packages\\PlotlyJS\\d9sRW\\src\\kaleido.jl:71\n",
      "  [8] savefig\n",
      "    @ C:\\Users\\sasch\\.julia\\packages\\PlotlyJS\\d9sRW\\src\\kaleido.jl:71 [inlined]\n",
      "  [9] savefig(io::IOStream, p::PlotlyJS.SyncPlot; width::Nothing, height::Nothing, scale::Nothing, format::String)\n",
      "    @ PlotlyJS C:\\Users\\sasch\\.julia\\packages\\PlotlyJS\\d9sRW\\src\\kaleido.jl:154\n",
      " [10] (::PlotlyJS.var\"#36#37\"{Nothing, Nothing, Nothing, PlotlyJS.SyncPlot})(f::IOStream)\n",
      "    @ PlotlyJS C:\\Users\\sasch\\.julia\\packages\\PlotlyJS\\d9sRW\\src\\kaleido.jl:187\n",
      " [11] open(::PlotlyJS.var\"#36#37\"{Nothing, Nothing, Nothing, PlotlyJS.SyncPlot}, ::String, ::Vararg{String}; kwargs::@Kwargs{})\n",
      "    @ Base .\\io.jl:396\n",
      " [12] open\n",
      "    @ .\\io.jl:393 [inlined]\n",
      " [13] savefig(p::PlotlyJS.SyncPlot, fn::String; format::Nothing, width::Nothing, height::Nothing, scale::Nothing)\n",
      "    @ PlotlyJS C:\\Users\\sasch\\.julia\\packages\\PlotlyJS\\d9sRW\\src\\kaleido.jl:186\n",
      " [14] savefig(p::PlotlyJS.SyncPlot, fn::String)\n",
      "    @ PlotlyJS C:\\Users\\sasch\\.julia\\packages\\PlotlyJS\\d9sRW\\src\\kaleido.jl:174\n",
      " [15] top-level scope\n",
      "    @ c:\\Users\\sasch\\OneDrive\\Dokumente\\ProjectsLocal\\GeoCombSurfX\\waterbomb.ipynb:16"
     ]
    }
   ],
   "source": [
    "tr = scatter(\n",
    "    x = [gamma*i for i in ran]\n",
    "    , y = [del_beta*i for i in ran]\n",
    "    , line = attr(color = RGB(235/255, 125/255, 0), size = 3)\n",
    "    , mode = \"markers+lines\"\n",
    "    , marker = attr(color = RGB(235/255, 125/255, 0), size = 10)\n",
    ")\n",
    "\n",
    "layout = Layout(xaxis = attr(title = \"γ\")\n",
    "    , yaxis = attr(title = \"Δ_β\")\n",
    "    , width = 1000\n",
    "    , height = 1000\n",
    ")\n",
    "\n",
    "p = plot(tr, layout)\n",
    "savefig(p, \"test.svg\")"
   ]
  },
  {
   "cell_type": "code",
   "execution_count": null,
   "metadata": {},
   "outputs": [],
   "source": []
  }
 ],
 "metadata": {
  "kernelspec": {
   "display_name": "Julia 1.10.0",
   "language": "julia",
   "name": "julia-1.10"
  },
  "language_info": {
   "file_extension": ".jl",
   "mimetype": "application/julia",
   "name": "julia",
   "version": "1.10.0"
  }
 },
 "nbformat": 4,
 "nbformat_minor": 2
}
