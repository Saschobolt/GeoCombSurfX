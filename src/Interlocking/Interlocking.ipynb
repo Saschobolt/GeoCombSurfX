{
 "cells": [
  {
   "cell_type": "code",
   "execution_count": null,
   "metadata": {},
   "outputs": [],
   "source": [
    "include(\"../Polyhedron.jl\")\n",
    "include(\"interlocking.jl\")\n",
    "include(\"../plotting.jl\")\n",
    "include(\"../decomposition.jl\")"
   ]
  },
  {
   "cell_type": "code",
   "execution_count": null,
   "metadata": {},
   "outputs": [],
   "source": [
    "@time facet_adjacency(Candy)"
   ]
  },
  {
   "cell_type": "code",
   "execution_count": null,
   "metadata": {},
   "outputs": [],
   "source": [
    "reverse!(Candy.facets[1])"
   ]
  },
  {
   "cell_type": "code",
   "execution_count": null,
   "metadata": {},
   "outputs": [],
   "source": [
    "@time adjfacets(Candy, get_facets(Candy)[1])"
   ]
  },
  {
   "cell_type": "code",
   "execution_count": null,
   "metadata": {},
   "outputs": [],
   "source": [
    "@time orient_facets!(Candy)"
   ]
  },
  {
   "cell_type": "code",
   "execution_count": null,
   "metadata": {},
   "outputs": [],
   "source": [
    "@time map(f -> adjfacets(block, f, check = false), get_facets(block))"
   ]
  },
  {
   "cell_type": "markdown",
   "metadata": {},
   "source": [
    "### Showcase of Interlocking test"
   ]
  },
  {
   "cell_type": "code",
   "execution_count": null,
   "metadata": {},
   "outputs": [],
   "source": [
    "ass, frame = assembly1()\n",
    "\n",
    "display(plot(ass, width = 360, height = 360))\n",
    "\n",
    "titest(ass, frame)"
   ]
  },
  {
   "cell_type": "markdown",
   "metadata": {},
   "source": [
    "### non periodic interlocking"
   ]
  },
  {
   "cell_type": "code",
   "execution_count": null,
   "metadata": {},
   "outputs": [],
   "source": [
    "function read_vertices_faces(filename)\n",
    "    vertices = Vector{Vector{Float64}}()\n",
    "    blocks = Vector{Vector{Vector{Int}}}()\n",
    "    \n",
    "    open(filename, \"r\") do file\n",
    "        last = \"0\"\n",
    "        block = Vector{Vector{Int}}()\n",
    "        for line in eachline(file)\n",
    "            parts = split(line)\n",
    "            if isempty(parts)\n",
    "                continue\n",
    "            end\n",
    "            if parts[1] == \"v\"\n",
    "                v = parse.(Float64, parts[2:end])\n",
    "                push!(vertices, v)\n",
    "                last = \"v\"\n",
    "            elseif parts[1] == \"f\"\n",
    "                if last == \"v\" && length(block) > 0\n",
    "                    push!(blocks, block)\n",
    "                    block = Vector{Vector{Int}}()\n",
    "                end\n",
    "                f = parse.(Int, parts[2:end])\n",
    "                push!(block, f)\n",
    "                last = \"f\"\n",
    "            end\n",
    "        end\n",
    "        push!(blocks, block)\n",
    "    end\n",
    "    \n",
    "    return vertices, blocks\n",
    "end\n",
    "\n",
    "function read_frame(filename)\n",
    "    frame = Vector{Int}()\n",
    "    open(filename, \"r\") do file\n",
    "        for line in eachline(file)\n",
    "            push!(frame, parse(Int, line))\n",
    "        end\n",
    "    end\n",
    "    return frame\n",
    "end"
   ]
  },
  {
   "cell_type": "code",
   "execution_count": null,
   "metadata": {},
   "outputs": [],
   "source": [
    "function indexmap(block::Vector{<:Vector{<:Integer}})\n",
    "    verts = sort(unique(vcat(block...)))\n",
    "    return i -> findfirst(v -> v == i, verts)\n",
    "end\n",
    "\n",
    "function assembly_from_file(ass_file, frame_file)\n",
    "    v, blocks = read_vertices_faces(ass_file)\n",
    "    vertices_of_blocks = map(b -> v[sort(unique(vcat(b...)))], blocks)\n",
    "    facets_of_blocks = map(b -> [indexmap(b).(f) for f in b], blocks)\n",
    "    ass = [Polyhedron(verts = vertices_of_blocks[i], facets = facets_of_blocks[i]) for i in eachindex(blocks)]\n",
    "    frame = read_frame(frame_file).+1\n",
    "\n",
    "    return ass, frame\n",
    "end"
   ]
  },
  {
   "cell_type": "code",
   "execution_count": null,
   "metadata": {},
   "outputs": [],
   "source": [
    "include(\"../Polyhedron.jl\")"
   ]
  },
  {
   "cell_type": "code",
   "execution_count": null,
   "metadata": {},
   "outputs": [],
   "source": [
    "@time assembly, fr = assembly_from_file(\"9.obj\", \"frame_9.txt\");"
   ]
  },
  {
   "cell_type": "code",
   "execution_count": null,
   "metadata": {},
   "outputs": [],
   "source": [
    "display(ass[1])"
   ]
  },
  {
   "cell_type": "code",
   "execution_count": null,
   "metadata": {},
   "outputs": [],
   "source": [
    "plot(ass)"
   ]
  },
  {
   "cell_type": "code",
   "execution_count": null,
   "metadata": {},
   "outputs": [],
   "source": [
    "titest(assembly, fr)"
   ]
  },
  {
   "cell_type": "code",
   "execution_count": null,
   "metadata": {},
   "outputs": [],
   "source": [
    "include(\"interlocking.jl\")\n",
    "include(\"../plotting.jl\")"
   ]
  },
  {
   "cell_type": "code",
   "execution_count": null,
   "metadata": {},
   "outputs": [],
   "source": [
    "include(\"[-05,05].jl\")\n",
    "ass = [Polyhedron(facets = faces[i], verts = coordinates[i]) for i in eachindex(faces)]\n",
    "frame = collect(2:9)\n",
    "\n",
    "framecolor = RGB(0.,0.,0.)\n",
    "color = [RGB(1.,0.,0.), RGB(0.,1.,0.), RGB(0.,0.,1.), RGB(0.5,0,0.5), RGB(0.5,0.5,0), RGB(0,0.5,0.5), RGB(0.5, 0.25,0.25), RGB(0.25,0.5,0.25), RGB(0.25,0.25,0.5)]\n",
    "\n",
    "inds = [1,2,3,4,5,6,7,8,9]\n",
    "assembly = ass[inds]\n",
    "fr = Int[]\n",
    "\n",
    "display(plot(assembly, facetcolors = map(i -> i in fr ? [framecolor] : [color[i]], eachindex(assembly)), opacity = 1))\n",
    "\n",
    "try\n",
    "    model = wangtest(assembly, fr)\n",
    "    # write(io, model)\n",
    "catch e\n",
    "    showerror(e)\n",
    "end"
   ]
  },
  {
   "cell_type": "code",
   "execution_count": null,
   "metadata": {},
   "outputs": [],
   "source": []
  },
  {
   "cell_type": "markdown",
   "metadata": {},
   "source": [
    "## Meshes experiments"
   ]
  },
  {
   "cell_type": "code",
   "execution_count": null,
   "metadata": {},
   "outputs": [],
   "source": [
    "using Meshes"
   ]
  },
  {
   "cell_type": "code",
   "execution_count": null,
   "metadata": {},
   "outputs": [],
   "source": [
    "block1 = flattenfacets(block)"
   ]
  },
  {
   "cell_type": "code",
   "execution_count": null,
   "metadata": {},
   "outputs": [],
   "source": [
    "face = (get_facets(block1)[end-1])"
   ]
  },
  {
   "cell_type": "code",
   "execution_count": null,
   "metadata": {},
   "outputs": [],
   "source": [
    "@time(orient_facets_ccw!(ass_9[2]))"
   ]
  },
  {
   "cell_type": "code",
   "execution_count": null,
   "metadata": {},
   "outputs": [],
   "source": [
    "M = get_verts(block1)"
   ]
  },
  {
   "cell_type": "code",
   "execution_count": null,
   "metadata": {},
   "outputs": [],
   "source": [
    "@time polyareas = map(f -> PolyArea(map(i->Tuple(M[:, i]), f)), get_facets(block1))"
   ]
  },
  {
   "cell_type": "code",
   "execution_count": null,
   "metadata": {},
   "outputs": [],
   "source": [
    "reverse!(block1.facets[1])"
   ]
  },
  {
   "cell_type": "code",
   "execution_count": null,
   "metadata": {},
   "outputs": [],
   "source": [
    "@time orientation.(polyareas)"
   ]
  },
  {
   "cell_type": "code",
   "execution_count": null,
   "metadata": {},
   "outputs": [],
   "source": [
    "orientation(polyarea)"
   ]
  },
  {
   "cell_type": "code",
   "execution_count": null,
   "metadata": {},
   "outputs": [],
   "source": [
    "@time mesh = discretize(polyarea, Dehn1899())"
   ]
  },
  {
   "cell_type": "code",
   "execution_count": null,
   "metadata": {},
   "outputs": [],
   "source": [
    "adjacencymatrix(mesh.topology)"
   ]
  },
  {
   "cell_type": "code",
   "execution_count": null,
   "metadata": {},
   "outputs": [],
   "source": [
    "Vector(coordinates(mesh.vertices[1]))"
   ]
  },
  {
   "cell_type": "code",
   "execution_count": null,
   "metadata": {},
   "outputs": [],
   "source": [
    "Polyhedron(Point([0,0,0]...), Point([1,0,0]...), Point([0,1,0]...), Point([0,0,1]...))"
   ]
  },
  {
   "cell_type": "code",
   "execution_count": null,
   "metadata": {},
   "outputs": [],
   "source": [
    "typeof(Tetrahedron((0,0,0),(1,0,0),(0,1,0),(0,0,1)))"
   ]
  },
  {
   "cell_type": "code",
   "execution_count": null,
   "metadata": {},
   "outputs": [],
   "source": [
    "Tetrahedron([0,0,0], [1,0,0], [0,1,0], [0,0,1])"
   ]
  },
  {
   "cell_type": "code",
   "execution_count": null,
   "metadata": {},
   "outputs": [],
   "source": [
    "intersection(polyarea, polyarea)"
   ]
  },
  {
   "cell_type": "code",
   "execution_count": null,
   "metadata": {},
   "outputs": [],
   "source": [
    "include(\"../Polyhedron.jl\")"
   ]
  },
  {
   "cell_type": "code",
   "execution_count": null,
   "metadata": {},
   "outputs": [],
   "source": [
    "@time facet_adjacency(block1)"
   ]
  },
  {
   "cell_type": "code",
   "execution_count": null,
   "metadata": {},
   "outputs": [],
   "source": [
    "@time vol(block1, is_oriented = true)"
   ]
  },
  {
   "cell_type": "code",
   "execution_count": null,
   "metadata": {},
   "outputs": [],
   "source": [
    "@time orient_facets(block1)"
   ]
  },
  {
   "cell_type": "code",
   "execution_count": null,
   "metadata": {},
   "outputs": [],
   "source": []
  },
  {
   "cell_type": "code",
   "execution_count": null,
   "metadata": {},
   "outputs": [],
   "source": []
  },
  {
   "cell_type": "code",
   "execution_count": null,
   "metadata": {},
   "outputs": [],
   "source": []
  },
  {
   "cell_type": "code",
   "execution_count": null,
   "metadata": {},
   "outputs": [],
   "source": []
  },
  {
   "cell_type": "code",
   "execution_count": null,
   "metadata": {},
   "outputs": [],
   "source": []
  },
  {
   "cell_type": "code",
   "execution_count": null,
   "metadata": {},
   "outputs": [],
   "source": []
  },
  {
   "cell_type": "code",
   "execution_count": null,
   "metadata": {},
   "outputs": [],
   "source": []
  },
  {
   "cell_type": "code",
   "execution_count": null,
   "metadata": {},
   "outputs": [],
   "source": []
  },
  {
   "cell_type": "code",
   "execution_count": null,
   "metadata": {},
   "outputs": [],
   "source": []
  },
  {
   "cell_type": "code",
   "execution_count": null,
   "metadata": {},
   "outputs": [],
   "source": []
  },
  {
   "cell_type": "code",
   "execution_count": null,
   "metadata": {},
   "outputs": [],
   "source": []
  },
  {
   "cell_type": "code",
   "execution_count": null,
   "metadata": {},
   "outputs": [],
   "source": []
  },
  {
   "cell_type": "code",
   "execution_count": null,
   "metadata": {},
   "outputs": [],
   "source": []
  },
  {
   "cell_type": "code",
   "execution_count": null,
   "metadata": {},
   "outputs": [],
   "source": []
  },
  {
   "cell_type": "code",
   "execution_count": null,
   "metadata": {},
   "outputs": [],
   "source": []
  },
  {
   "cell_type": "code",
   "execution_count": null,
   "metadata": {},
   "outputs": [],
   "source": []
  },
  {
   "cell_type": "code",
   "execution_count": null,
   "metadata": {},
   "outputs": [],
   "source": []
  },
  {
   "cell_type": "code",
   "execution_count": null,
   "metadata": {},
   "outputs": [],
   "source": []
  }
 ],
 "metadata": {
  "kernelspec": {
   "display_name": "Julia 1.10.4",
   "language": "julia",
   "name": "julia-1.10"
  },
  "language_info": {
   "file_extension": ".jl",
   "mimetype": "application/julia",
   "name": "julia",
   "version": "1.10.4"
  }
 },
 "nbformat": 4,
 "nbformat_minor": 2
}
