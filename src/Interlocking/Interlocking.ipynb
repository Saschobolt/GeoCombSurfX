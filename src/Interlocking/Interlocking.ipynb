{
 "cells": [
  {
   "cell_type": "code",
   "execution_count": 2,
   "metadata": {},
   "outputs": [
    {
     "name": "stderr",
     "output_type": "stream",
     "text": [
      "WARNING: import of Graphs.SimpleGraph into Main conflicts with an existing identifier; ignored.\n"
     ]
    },
    {
     "data": {
      "text/plain": [
       "isconvex"
      ]
     },
     "metadata": {},
     "output_type": "display_data"
    }
   ],
   "source": [
    "include(\"../Polyhedron.jl\")\n",
    "include(\"interlocking.jl\")\n",
    "include(\"../plotting.jl\")\n",
    "include(\"../decomposition.jl\")"
   ]
  },
  {
   "cell_type": "code",
   "execution_count": null,
   "metadata": {},
   "outputs": [],
   "source": [
    "@time facet_adjacency(Candy)"
   ]
  },
  {
   "cell_type": "code",
   "execution_count": null,
   "metadata": {},
   "outputs": [],
   "source": [
    "reverse!(Candy.facets[1])"
   ]
  },
  {
   "cell_type": "code",
   "execution_count": null,
   "metadata": {},
   "outputs": [],
   "source": [
    "@time adjfacets(Candy, get_facets(Candy)[1])"
   ]
  },
  {
   "cell_type": "code",
   "execution_count": null,
   "metadata": {},
   "outputs": [],
   "source": [
    "@time orient_facets!(Candy)"
   ]
  },
  {
   "cell_type": "code",
   "execution_count": null,
   "metadata": {},
   "outputs": [],
   "source": [
    "@time map(f -> adjfacets(block, f, check = false), get_facets(block))"
   ]
  },
  {
   "cell_type": "markdown",
   "metadata": {},
   "source": [
    "### Showcase of Interlocking test"
   ]
  },
  {
   "cell_type": "code",
   "execution_count": null,
   "metadata": {},
   "outputs": [],
   "source": [
    "ass, frame = assembly1()\n",
    "\n",
    "display(plot(ass, width = 360, height = 360))\n",
    "\n",
    "titest(ass, frame)"
   ]
  },
  {
   "cell_type": "markdown",
   "metadata": {},
   "source": [
    "### non periodic interlocking"
   ]
  },
  {
   "cell_type": "code",
   "execution_count": null,
   "metadata": {},
   "outputs": [],
   "source": [
    "function read_vertices_faces(filename)\n",
    "    vertices = Vector{Vector{Float64}}()\n",
    "    blocks = Vector{Vector{Vector{Int}}}()\n",
    "    \n",
    "    open(filename, \"r\") do file\n",
    "        last = \"0\"\n",
    "        block = Vector{Vector{Int}}()\n",
    "        for line in eachline(file)\n",
    "            parts = split(line)\n",
    "            if isempty(parts)\n",
    "                continue\n",
    "            end\n",
    "            if parts[1] == \"v\"\n",
    "                v = parse.(Float64, parts[2:end])\n",
    "                push!(vertices, v)\n",
    "                last = \"v\"\n",
    "            elseif parts[1] == \"f\"\n",
    "                if last == \"v\" && length(block) > 0\n",
    "                    push!(blocks, block)\n",
    "                    block = Vector{Vector{Int}}()\n",
    "                end\n",
    "                f = parse.(Int, parts[2:end])\n",
    "                push!(block, f)\n",
    "                last = \"f\"\n",
    "            end\n",
    "        end\n",
    "        push!(blocks, block)\n",
    "    end\n",
    "    \n",
    "    return vertices, blocks\n",
    "end\n",
    "\n",
    "function read_frame(filename)\n",
    "    frame = Vector{Int}()\n",
    "    open(filename, \"r\") do file\n",
    "        for line in eachline(file)\n",
    "            push!(frame, parse(Int, line))\n",
    "        end\n",
    "    end\n",
    "    return frame\n",
    "end"
   ]
  },
  {
   "cell_type": "code",
   "execution_count": null,
   "metadata": {},
   "outputs": [],
   "source": [
    "function indexmap(block::Vector{<:Vector{<:Integer}})\n",
    "    verts = sort(unique(vcat(block...)))\n",
    "    return i -> findfirst(v -> v == i, verts)\n",
    "end\n",
    "\n",
    "function assembly_from_file(ass_file, frame_file)\n",
    "    v, blocks = read_vertices_faces(ass_file)\n",
    "    vertices_of_blocks = map(b -> v[sort(unique(vcat(b...)))], blocks)\n",
    "    facets_of_blocks = map(b -> [indexmap(b).(f) for f in b], blocks)\n",
    "    ass = [Polyhedron(verts = vertices_of_blocks[i], facets = facets_of_blocks[i]) for i in eachindex(blocks)]\n",
    "    frame = read_frame(frame_file).+1\n",
    "\n",
    "    return ass, frame\n",
    "end"
   ]
  },
  {
   "cell_type": "code",
   "execution_count": null,
   "metadata": {},
   "outputs": [],
   "source": [
    "include(\"../Polyhedron.jl\")"
   ]
  },
  {
   "cell_type": "code",
   "execution_count": null,
   "metadata": {},
   "outputs": [],
   "source": [
    "@time ass_9, frame_9 = assembly_from_file(\"9.obj\", \"frame_9.txt\")"
   ]
  },
  {
   "cell_type": "code",
   "execution_count": null,
   "metadata": {},
   "outputs": [],
   "source": [
    "block = ass_9[2]"
   ]
  },
  {
   "cell_type": "code",
   "execution_count": null,
   "metadata": {},
   "outputs": [],
   "source": [
    "@time flattenfacets!(block, atol = 1e-8)"
   ]
  },
  {
   "cell_type": "code",
   "execution_count": null,
   "metadata": {},
   "outputs": [],
   "source": [
    "block"
   ]
  },
  {
   "cell_type": "code",
   "execution_count": null,
   "metadata": {},
   "outputs": [],
   "source": [
    "@time triangulate!(block)"
   ]
  },
  {
   "cell_type": "code",
   "execution_count": null,
   "metadata": {},
   "outputs": [],
   "source": [
    "plot(block, labels = true)"
   ]
  },
  {
   "cell_type": "code",
   "execution_count": null,
   "metadata": {},
   "outputs": [],
   "source": [
    "display.(ass_9)"
   ]
  },
  {
   "cell_type": "code",
   "execution_count": null,
   "metadata": {},
   "outputs": [],
   "source": [
    "plot(ass_9[2])"
   ]
  },
  {
   "cell_type": "code",
   "execution_count": null,
   "metadata": {},
   "outputs": [],
   "source": [
    "include(\"../decomposition.jl\")"
   ]
  },
  {
   "cell_type": "code",
   "execution_count": null,
   "metadata": {},
   "outputs": [],
   "source": [
    "@time flattenfacets(ass_9[1])"
   ]
  },
  {
   "cell_type": "code",
   "execution_count": null,
   "metadata": {},
   "outputs": [],
   "source": [
    "titest(ass_9, frame_9)"
   ]
  },
  {
   "cell_type": "code",
   "execution_count": 1,
   "metadata": {},
   "outputs": [
    {
     "name": "stderr",
     "output_type": "stream",
     "text": [
      "┌ Warning: Kaleido is not available on this system. Julia will be unable to save images of any plots.\n",
      "└ @ PlotlyJS C:\\Users\\sasch\\.julia\\packages\\PlotlyJS\\d9sRW\\src\\kaleido.jl:65\n",
      "┌ Warning: ErrorException(\"Could not start Kaleido process\")\n",
      "└ @ PlotlyJS C:\\Users\\sasch\\.julia\\packages\\PlotlyJS\\d9sRW\\src\\kaleido.jl:66\n",
      "WARNING: import of Graphs.SimpleGraph into Main conflicts with an existing identifier; ignored.\n"
     ]
    },
    {
     "data": {
      "text/plain": [
       "plot (generic function with 2 methods)"
      ]
     },
     "metadata": {},
     "output_type": "display_data"
    }
   ],
   "source": [
    "include(\"interlocking.jl\")\n",
    "include(\"../plotting.jl\")"
   ]
  },
  {
   "cell_type": "code",
   "execution_count": 4,
   "metadata": {},
   "outputs": [],
   "source": [
    "ass2 = flattenfacets.(assembly);"
   ]
  },
  {
   "cell_type": "code",
   "execution_count": null,
   "metadata": {},
   "outputs": [],
   "source": [
    "include(\"[-05,05].jl\")\n",
    "ass = [Polyhedron(facets = faces[i], verts = coordinates[i]) for i in eachindex(faces)]\n",
    "frame = collect(2:9)\n",
    "\n",
    "framecolor = RGB(1.,0.,0.)\n",
    "cols = [RGB(0.5,0.5,0.5), RGB(0.,1.,0.), RGB(0.,0.,1.), RGB(0.5,0,0.5), RGB(0.5,0.5,0), RGB(0,0.5,0.5), RGB(0.5, 0.25,0.25), RGB(0.25,0.5,0.25), RGB(0.25,0.25,0.5)]\n",
    "\n",
    "inds = [1,2,3,4,5,6,7,8,9]\n",
    "assembly = ass[inds]\n",
    "fr = Int[2,3,4,5,6,7,8,9]\n",
    "\n",
    "display(plot(assembly, facetcolors = map(i -> i in fr ? [framecolor] : [cols[i]], eachindex(assembly)), opacity = 0.7))\n",
    "\n",
    "try\n",
    "    model = titest(assembly, fr)\n",
    "    # write(io, model)\n",
    "catch e\n",
    "    showerror(e)\n",
    "end"
   ]
  },
  {
   "cell_type": "code",
   "execution_count": 8,
   "metadata": {},
   "outputs": [
    {
     "name": "stdout",
     "output_type": "stream",
     "text": [
      "Running HiGHS 1.6.0: Copyright (c) 2023 HiGHS under MIT licence terms\n",
      "Presolving model\n",
      "156 rows, 6 cols, 794 nonzeros\n",
      "132 rows, 6 cols, 678 nonzeros\n",
      "Presolve : Reductions: rows 132(-72); columns 6(-48); elements 678(-958)\n",
      "Solving the presolved LP\n",
      "Using EKK dual simplex solver - serial\n",
      "  Iteration        Objective     Infeasibilities num(sum)\n",
      "          0    -2.2000000000e+04 Ph1: 132(423232); Du: 6(22) 0s\n",
      "          7     0.0000000000e+00 Pr: 0(0) 0s\n",
      "Solving the original LP from the solution after postsolve\n",
      "Model   status      : Optimal\n",
      "Simplex   iterations: 7\n",
      "Objective value     :  0.0000000000e+00\n",
      "HiGHS run time      :          0.00\n"
     ]
    },
    {
     "name": "stderr",
     "output_type": "stream",
     "text": [
      "┌ Info: The assembly is topologically interlocking as there are no infinitesimal motions of blocks with norm < 1.0e-8. (Maximum norm of infinitesimal motion: 0.0)\n",
      "└ @ Main c:\\Users\\sasch\\Documents\\Code-Projects\\GeoCombSurfX\\src\\Interlocking\\interlocking.jl:342\n"
     ]
    },
    {
     "data": {
      "text/plain": [
       "A JuMP Model\n",
       "Maximization problem with:\n",
       "Variables: 54\n",
       "Objective function type: AffExpr\n",
       "`AffExpr`-in-`MathOptInterface.GreaterThan{Float64}`: 156 constraints\n",
       "`Vector{AffExpr}`-in-`MathOptInterface.Zeros`: 16 constraints\n",
       "Model mode: AUTOMATIC\n",
       "CachingOptimizer state: ATTACHED_OPTIMIZER\n",
       "Solver name: HiGHS\n",
       "Names registered in the model: omega, t"
      ]
     },
     "metadata": {},
     "output_type": "display_data"
    }
   ],
   "source": [
    "titest(assembly, fr)"
   ]
  },
  {
   "cell_type": "code",
   "execution_count": null,
   "metadata": {},
   "outputs": [],
   "source": []
  }
 ],
 "metadata": {
  "kernelspec": {
   "display_name": "Julia 1.9.4",
   "language": "julia",
   "name": "julia-1.9"
  },
  "language_info": {
   "file_extension": ".jl",
   "mimetype": "application/julia",
   "name": "julia",
   "version": "1.9.4"
  }
 },
 "nbformat": 4,
 "nbformat_minor": 2
}
